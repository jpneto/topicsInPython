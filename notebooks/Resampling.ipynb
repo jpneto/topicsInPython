{
  "nbformat": 4,
  "nbformat_minor": 0,
  "metadata": {
    "colab": {
      "name": "Resampling.ipynb",
      "provenance": [],
      "collapsed_sections": []
    },
    "kernelspec": {
      "name": "python3",
      "display_name": "Python 3"
    }
  },
  "cells": [
    {
      "cell_type": "code",
      "metadata": {
        "id": "KW7RadOK4yYG"
      },
      "source": [
        "import matplotlib.pyplot as plt\n",
        "import numpy as np"
      ],
      "execution_count": null,
      "outputs": []
    },
    {
      "cell_type": "markdown",
      "metadata": {
        "id": "5IpSvGIU2V6F"
      },
      "source": [
        "## Introduction"
      ]
    },
    {
      "cell_type": "markdown",
      "metadata": {
        "id": "65eXnnt22n9W"
      },
      "source": [
        "Let's start with an example where, to test some scientific hypothesis, a certain experiment was done to a set of subjects and an effect was measured. As the Scientific Method advices, the same effects were measured in a control group to whom the experiment was not done.\n",
        "\n",
        "This is the data:"
      ]
    },
    {
      "cell_type": "code",
      "metadata": {
        "id": "wdLRjkAo2SzJ",
        "outputId": "34461698-5713-4d76-918c-f7d70bdaecb8",
        "colab": {
          "base_uri": "https://localhost:8080/"
        }
      },
      "source": [
        "experiment = np.array([27,20,21,26,27,31,24,21,20,19,23,24,28,19,24,29,18,20,17,31,20,25,28,21,27])\n",
        "control    = np.array([21,22,15,12,21,16,19,15,22,24,19,23,13,22,20,24,18,20])"
      ],
      "execution_count": null,
      "outputs": [
        {
          "output_type": "execute_result",
          "data": {
            "text/plain": [
              "18"
            ]
          },
          "metadata": {
            "tags": []
          },
          "execution_count": 8
        }
      ]
    },
    {
      "cell_type": "markdown",
      "metadata": {
        "id": "YaK_QG-PJ1Pu"
      },
      "source": [
        "How can we check if the experiment produces a significant effect?"
      ]
    },
    {
      "cell_type": "markdown",
      "metadata": {
        "id": "tvoHPAOu50qW"
      },
      "source": [
        "The typical _Statistical Hypothesis Testing_ follows the next steps: \n",
        "\n",
        "1. Define the **Null Hypothesis** $H_0$ (assume the effect was due to chance)\n",
        "2. Define an **Alternative Hypothesis** $H_1$ (assume the effect was *not* due to chance) \n",
        "3. Define a value for probability $\\alpha = p(\\text{Reject } H_0 | H_0 \\text{ is true})$, that is, the probability of a false negative. In Social Sciences, typically, $\\alpha = 0.05$\n",
        "4. Execute an experiment to collect relevant data\n",
        "5. Execute a statistical test (there are *lots*, many of these are only useful for specific type of problems). Usually the statistical test produces a p-value $p_v$ \n",
        "6. Reject $H_0$ iff $p_v < \\alpha$, otherwise 'accept' $H_0$.\n",
        "\n",
        "This is based on Karl Popper's principle of falsification: we can't never confirm an hypothesis, but we can invalidate one. So when we say \"Accept $H_0$\" we are just saying \"This experiment was unable to Reject $H_0$\". A better term to 'Accept $H_0$' would be to 'Retain $H_0$'\n",
        "\n",
        "\n",
        "\n"
      ]
    },
    {
      "cell_type": "markdown",
      "metadata": {
        "id": "PCDg5FIPG7FF"
      },
      "source": [
        "A typical statistical test for the previous example is the _t-test_ which checks if the difference of means between groups are significant:"
      ]
    },
    {
      "cell_type": "code",
      "metadata": {
        "id": "QHQ9_BvCGNWz",
        "outputId": "84a1235a-8e24-46ed-9bb0-5d3075127dba",
        "colab": {
          "base_uri": "https://localhost:8080/"
        }
      },
      "source": [
        "import scipy.stats as ss\n",
        "\n",
        "alpha = 0.05\n",
        "test = ss.ttest_ind(experiment, control)\n",
        "\n",
        "if test.pvalue < alpha:\n",
        "  print(\"p-value = {0:6.4f} so reject H_0\".format(test.pvalue))\n",
        "else:\n",
        "  print(\"p-value = {0:6.4f} so do not reject H_0\".format(test.pvalue))"
      ],
      "execution_count": null,
      "outputs": [
        {
          "output_type": "stream",
          "text": [
            "p-value = 0.0009 so reject H_0\n"
          ],
          "name": "stdout"
        }
      ]
    },
    {
      "cell_type": "markdown",
      "metadata": {
        "id": "lKej74YAHTM_"
      },
      "source": [
        "This typical workflow has potential pitfalls:\n",
        "\n",
        "+ Many types of problems have a well-defined statistical procedure. In these situations this is a great practical advantage, but if your problem is different than a standard problem, there is no guarantee that the procedure will work. This makes mainstream Statistics a kind of [bag of tricks](http://www.stat.columbia.edu/~gelman/bag-of-tricks/) where scientists might feel the need to adapt their research to the available tests instead of the other way around.\n",
        "\n",
        "+ The assumptions required for a statistical test to work are subtle and many scientists will not known them. One cause is that they see statistical tests as algorithmic black boxes and will just trust the output (especially if it is a result that leads to publication). This is a serious epistemological problem, producing many false positives.\n",
        "\n",
        "+ The p-value does not have a probabilistic interpretation, but many scientists fall into this mistake. Also, fixing a value for $\\alpha$ is arbitrary and hides the subjective nature of deciding if some effect is or is not significant.\n",
        "\n",
        "+ Standard statistical tests can be seen as analytical solutions for simplified problems back when simulation was not available. But we have computers now!\n",
        "\n",
        "Let's check an alternative, a computer-intensive method based on simulation."
      ]
    },
    {
      "cell_type": "markdown",
      "metadata": {
        "id": "aeU1iYtbJxmG"
      },
      "source": [
        "## Permutation Tests"
      ]
    },
    {
      "cell_type": "markdown",
      "metadata": {
        "id": "t_tRSUiHLG4v"
      },
      "source": [
        "With computers we can rely on simulation to check for statistical significance.\n",
        "\n",
        "Allen Downey [proposes a workflow](https://allendowney.blogspot.com/2016/06/there-is-still-only-one-test.html) based on simulation which is described by the next diagram:\n",
        "\n",
        "<br><center><img src='https://raw.githubusercontent.com/jpneto/topicsInPython/main/imgs/hypothesis_testing.allen.downey.png' width=600px></center>"
      ]
    },
    {
      "cell_type": "markdown",
      "metadata": {
        "id": "2Fiu3TGNL2pB"
      },
      "source": [
        "Herein, the *observed effect* $\\delta^*$ is the value computed by a chosen test statistic over the observed data. \n",
        "\n",
        "The null hypothesis $H_0$ is the model asserting the observed effect $\\delta^*$ was due to chance. \n",
        "\n",
        "The test statistic is a chosen measure of the difference between the data (either observed or simulated) with respect to $H_0$.\n",
        "\n",
        "We wish to compute the *Monte Carlo p-value* (this is similar but not equal to the standard p-value) which is the probability of having effect $\\delta^*$ or something more extreme under the assumption that $H_0$ holds, ie, $p(\\delta^* \\text{or more extreme effects} | H_0)$. Ie, it is the ratio of the number of effects as extreme as the observed effect, $r$,  over the total number of simulated effects, $n$. This proportion tends to under-estimate the *p-value*, so Davison & Hinkley propose the following correction:\n",
        "\n",
        "$$\\text{MC p-value} = \\frac{r+1}{n+1}$$\n",
        "\n",
        "If this probability is small, it suggests that the effect is probably real and not due to chance. "
      ]
    },
    {
      "cell_type": "markdown",
      "metadata": {
        "id": "RxgegKk3M1Xm"
      },
      "source": [
        "The next function codes this:"
      ]
    },
    {
      "cell_type": "code",
      "metadata": {
        "id": "dE2YTgNWL8zR"
      },
      "source": [
        "def mcPvalue(results, observedEffect):\n",
        "  n = len(results)\n",
        "  # r = #replications at least as extreme as observed effect (two-tailed test)\n",
        "  r = sum(np.absolute(results) >= observedEffect)  \n",
        "  # compute Monte Carlo p-value with correction (Davison & Hinkley, 1997)\n",
        "  return { 'pvalue' : (r+1)/(n+1), 'r' : r, 'n' : n }"
      ],
      "execution_count": null,
      "outputs": []
    },
    {
      "cell_type": "markdown",
      "metadata": {
        "id": "wWzACVoi6aJN"
      },
      "source": [
        "Therefore, the workflow consists of:\n",
        "\n",
        "1. Define the Null Hypothesis $H_0$ (assume the effect was due to chance)\n",
        "2. Choose a test statistic\n",
        "3. Create a stochastic model of $H_0$ in order to produce simulated data\n",
        "4. Produce simulated data \n",
        "5. compute the MC *p-value* and assess $H_0$\n",
        "\n",
        "This method of producing repeated samples is called **resampling**."
      ]
    },
    {
      "cell_type": "markdown",
      "metadata": {
        "id": "aUcPixOk3cwG"
      },
      "source": [
        "The next function implements the stochastic model of $H_0$ (shown in the diagram above) for our experiment:"
      ]
    },
    {
      "cell_type": "code",
      "metadata": {
        "id": "GeVYdTV_UP_N"
      },
      "source": [
        "def resampling(n, group1, group2, test):\n",
        "  \"\"\"\n",
        "  n    : number of resamplings\n",
        "  group1, group2: the original data\n",
        "  test : the test statistic\n",
        "  \"\"\"  \n",
        "  allData = np.concatenate((group1, group2))\n",
        "  results = np.zeros(n)\n",
        "\n",
        "  for i in range(n):\n",
        "    # sample indices for two partitions of allData\n",
        "    indices = range(len(allData))\n",
        "    idxs1 = np.random.choice(indices, len(group1), replace=False)\n",
        "    idxs2 = [idx for idx in indices if idx not in idxs1]\n",
        "    # create partitions\n",
        "    partition1 = allData[idxs1]\n",
        "    partition2 = allData[idxs2]\n",
        "    # compute test statistic\n",
        "    results[i] = test(partition1, partition2)\n",
        "\n",
        "  return results"
      ],
      "execution_count": null,
      "outputs": []
    },
    {
      "cell_type": "markdown",
      "metadata": {
        "id": "tmcL4wbtM6eS"
      },
      "source": [
        "Before processing the experimental data, let's define a function to report the results in histogram format:"
      ]
    },
    {
      "cell_type": "code",
      "metadata": {
        "id": "TewCxFY81PBo"
      },
      "source": [
        "def present_results(results, observedEffect, label=\"\", digits=4, axes=None):\n",
        "  report = mcPvalue(results, observedEffect) \n",
        "  reportText = \"\"\"\n",
        "  {0} \\n\n",
        "  MC p-value for H0: {1} \\n found {2} as extreme effects for {3} replications\n",
        "  \"\"\".format(label, np.round(report['pvalue'],digits), report['r'], report['n'])\n",
        "\n",
        "  if axes is None:\n",
        "    fig = plt.figure(figsize=(8,4))\n",
        "    axes = fig.add_axes([0.1, 0.1, 0.9, 0.9]) \n",
        "\n",
        "  axes.hist(results, bins=50, color='b')\n",
        "  axes.set_title(reportText)\n",
        "  axes.axvline(observedEffect, color='r', linestyle='dashed', linewidth=1)"
      ],
      "execution_count": null,
      "outputs": []
    },
    {
      "cell_type": "markdown",
      "metadata": {
        "id": "zwpnFLax3tfh"
      },
      "source": [
        "\n",
        "\n",
        "---\n",
        "\n"
      ]
    },
    {
      "cell_type": "markdown",
      "metadata": {
        "id": "HrBcHAfkTo-J"
      },
      "source": [
        "Let's check if the experiment provides a significant difference of means:"
      ]
    },
    {
      "cell_type": "code",
      "metadata": {
        "id": "OLPkT7vGT1NK",
        "outputId": "e78ce12b-1e34-4c77-ca52-4245e0c08039",
        "colab": {
          "base_uri": "https://localhost:8080/",
          "height": 398
        }
      },
      "source": [
        "# chosen test statistic\n",
        "def diffMeans(x,y):\n",
        "  return np.mean(x) - np.mean(y)\n",
        "\n",
        "np.random.seed(121)\n",
        "stats = resampling(10000, experiment, control, diffMeans)\n",
        "present_results(stats, diffMeans(experiment, control), \"Difference of Means\")  "
      ],
      "execution_count": null,
      "outputs": [
        {
          "output_type": "display_data",
          "data": {
            "image/png": "[encoded data removed]",
            "text/plain": [
              "<Figure size 576x288 with 1 Axes>"
            ]
          },
          "metadata": {
            "tags": [],
            "needs_background": "light"
          }
        }
      ]
    },
    {
      "cell_type": "markdown",
      "metadata": {
        "id": "pUfzy4ZCaK2V"
      },
      "source": [
        "The red line identifies the observed effect.\n",
        "\n",
        "The values have a direct probability interpretation: what is the probability that the experiment effect was due to chance? The answer is around $0.1\\%$, which is strong evidence the measured effect is significant."
      ]
    },
    {
      "cell_type": "markdown",
      "metadata": {
        "id": "PXyrb5WAcgXn"
      },
      "source": [
        "Let's try the same problem and check if the original data have a significant variance ratio:"
      ]
    },
    {
      "cell_type": "code",
      "metadata": {
        "id": "pXlLfqkGcfiP",
        "outputId": "21262dee-f926-4b8c-a1dc-d02691f87fa2",
        "colab": {
          "base_uri": "https://localhost:8080/",
          "height": 398
        }
      },
      "source": [
        "def ratioVars(x,y):\n",
        "  return np.var(x) / np.var(y)\n",
        "\n",
        "np.random.seed(121)\n",
        "stats = resampling(10000, experiment, control, ratioVars)\n",
        "present_results(stats, ratioVars(experiment, control), \"Ratio of Variances\")  "
      ],
      "execution_count": null,
      "outputs": [
        {
          "output_type": "display_data",
          "data": {
            "image/png": "[encoded data removed]",
            "text/plain": [
              "<Figure size 576x288 with 1 Axes>"
            ]
          },
          "metadata": {
            "tags": [],
            "needs_background": "light"
          }
        }
      ]
    },
    {
      "cell_type": "markdown",
      "metadata": {
        "id": "VNkLZI-Uc-Z6"
      },
      "source": [
        "The conclusion is that there is no good evidence the variance is different from the two groups in the original data.\n",
        "\n",
        "The code is almost the same, we just replaced `diffMeans` with `ratioVars`.\n",
        "\n",
        "On mainstream Statistics we would need [a completely different test](https://en.wikipedia.org/wiki/F-test_of_equality_of_variances)."
      ]
    },
    {
      "cell_type": "markdown",
      "metadata": {
        "id": "ojNd9xExiilR"
      },
      "source": [
        "\n",
        "\n",
        "---\n",
        "\n"
      ]
    },
    {
      "cell_type": "markdown",
      "metadata": {
        "id": "SIQjW0FZcdMT"
      },
      "source": [
        "Let's compare this method with the mentioned pitfalls of classical hypothesis testing:\n",
        "\n",
        "+ _Each problem has a well-defined statistical procedure_: Resampling applies the same workflow to a large set of different problems. We just need to implement the stochastic model and the test statistic.\n",
        "\n",
        "+ _assumptions required are subtle_ We need to assume collected data is modeled by random vars that are [iid](https://en.wikipedia.org/wiki/Independent_and_identically_distributed_random_variables), or at least [exchangeable](https://en.wikipedia.org/wiki/Exchangeable_random_variables) (i.e., all data permutations are equally probable under $H_0$). Some care must be taken if the two samples have different variance _and_ are quite dissimilar in size. However, no normality is required, and resampling is robust even if the two samples are modeled by different distributions.\n",
        "\n",
        "+ _The p-value does not have a probabilistic interpretation_: the MC p-value has a probabilistic interpretation.\n",
        "\n",
        "+ _statistical tests as algorithmic black boxes_: Here the computation is transparent. Everything needed is the stochastic model and the test statistic, which we both programmed.\n",
        "\n",
        "If the simulation cannot be done - because it's too slow -, we must search for analytic shortcuts or other methods (but beware of their own simplifying assumptions).\n",
        "\n",
        "Tests created with this methodology are usually called **permutation tests**."
      ]
    },
    {
      "cell_type": "markdown",
      "metadata": {
        "id": "ChqsDJWpA05M"
      },
      "source": [
        "\n",
        "\n",
        "---\n",
        "\n"
      ]
    },
    {
      "cell_type": "markdown",
      "metadata": {
        "id": "PmZJGzzKBtP5"
      },
      "source": [
        "## Bucket Statistics"
      ]
    },
    {
      "cell_type": "markdown",
      "metadata": {
        "id": "VbynU3bmZ78M"
      },
      "source": [
        "Michael Wood [proposes](https://www.tandfonline.com/doi/full/10.1080/10691898.2005.11910562) a simulation model called _the two bucket story_. \n",
        "\n",
        "This model consists of two buckets (urns) containing balls. \n",
        "\n",
        "Given problem $P$, an universe $\\Omega$ and a statistic $s$:\n",
        "\n",
        "+ In bucket 1 each ball is a random sample $d$ taken repeatedly from $\\Omega$ (with or without replacement) that represents an instance of $P$. Notice that a ball _represents an entire sample_.\n",
        "\n",
        "+ In bucket 2, for each $d$, there is a ball with value $s(d)$ \n",
        "\n",
        "The contents of bucket2 are used to analyse the empirical distribution of $s$ and estimate an answer for $P$."
      ]
    },
    {
      "cell_type": "markdown",
      "metadata": {
        "id": "GRxjQSbKbzJ0"
      },
      "source": [
        "The next two functions are bucket factories. They must be parameterized depending on the problem."
      ]
    },
    {
      "cell_type": "code",
      "metadata": {
        "id": "gPBwl1DuA1uA"
      },
      "source": [
        "def makeBucket1(universe, withReplacement=False):\n",
        "  def bucket1(sampleSize):\n",
        "    return np.random.choice(universe, size=sampleSize, replace=withReplacement)\n",
        "\n",
        "  return bucket1\n",
        "\n",
        "def makeBucket2(bucket1, sampleSize, statistic):\n",
        "  def bucket2(resamplingSize):\n",
        "    result = np.zeros(resamplingSize).reshape(resamplingSize, 1)\n",
        "    runBucket1 = lambda _ : statistic( bucket1(sampleSize) )\n",
        "    return np.apply_along_axis(runBucket1, 1, result) \n",
        "\n",
        "  return bucket2  "
      ],
      "execution_count": null,
      "outputs": []
    },
    {
      "cell_type": "markdown",
      "metadata": {
        "id": "f_ubw0yNZ8sW"
      },
      "source": [
        "Notice that what these factories return are functions that, when executed, produce a ball."
      ]
    },
    {
      "cell_type": "markdown",
      "metadata": {
        "id": "RI8jtYpFJ_zZ"
      },
      "source": [
        "### Example -- The Birthday Paradox\n",
        "\n",
        "We can use the two buckets model to estimate answers for the Birthday Paradox. \n",
        "\n",
        "> The birthday paradox, also known as the birthday problem, states that in a random group of 23 people, there is about a 50 percent chance that two people have the same birthday. Is this really true? [ref](https://www.scientificamerican.com/article/bring-science-home-probability-birthday-paradox/)\n",
        "\n",
        "We sample from all possible anniversaries (here, integers from 1 to 366 representing days), and apply a statistic that checks for repeated values."
      ]
    },
    {
      "cell_type": "code",
      "metadata": {
        "id": "EOwVhoWPH9WL",
        "outputId": "a6c48886-fe4d-4f11-bf61-8c1fc6494d7b",
        "colab": {
          "base_uri": "https://localhost:8080/"
        }
      },
      "source": [
        "nPeople = 23\n",
        "days = np.arange(1,367)\n",
        "\n",
        "# check for shared birthdays (returns 1 if shared birthdays, 0 otherwise)\n",
        "def hasSharedValues(sample):\n",
        "  return 1*(len(np.unique(sample)) != len(sample))\n",
        "\n",
        "bucket1 = makeBucket1(days, True) # with replacement\n",
        "bucket2 = makeBucket2(bucket1, nPeople, hasSharedValues)\n",
        "\n",
        "np.mean(bucket2(10000)) "
      ],
      "execution_count": null,
      "outputs": [
        {
          "output_type": "execute_result",
          "data": {
            "text/plain": [
              "0.5056"
            ]
          },
          "metadata": {
            "tags": []
          },
          "execution_count": 25
        }
      ]
    },
    {
      "cell_type": "markdown",
      "metadata": {
        "id": "9gwhqYYoeHDW"
      },
      "source": [
        "To consolidate our understanding of the procedure, let's check the outputs from both functions.\n",
        "\n",
        "`bucket1` produces random samples of 23 anniversaries:"
      ]
    },
    {
      "cell_type": "code",
      "metadata": {
        "id": "QUNNuyYzeXRs",
        "outputId": "4b59cef1-94ce-41c7-82c8-c81eb6112c9d",
        "colab": {
          "base_uri": "https://localhost:8080/"
        }
      },
      "source": [
        "print(bucket1(nPeople))\n",
        "print(bucket1(nPeople))"
      ],
      "execution_count": null,
      "outputs": [
        {
          "output_type": "stream",
          "text": [
            "[ 65 296  34 337  55  27 317 315 184 306 294 191 253 203  92 213 203  79\n",
            " 129 222 188  69  10]\n",
            "[362 112 232 334 350 108 100 354  37 119 326  10 198 223 218 286 103 125\n",
            " 270 192 346  64 246]\n"
          ],
          "name": "stdout"
        }
      ]
    },
    {
      "cell_type": "markdown",
      "metadata": {
        "id": "xBx4kUxgee2Y"
      },
      "source": [
        "While `bucket2` produces the result of checking if there are shared anniversaries, for a given number of experiments:"
      ]
    },
    {
      "cell_type": "code",
      "metadata": {
        "id": "ENr4jCRtelOA",
        "outputId": "ced79028-3d3e-4710-e23a-70cf7c289a0e",
        "colab": {
          "base_uri": "https://localhost:8080/"
        }
      },
      "source": [
        "print(bucket2(10)) # returns the result of 10 experiments"
      ],
      "execution_count": null,
      "outputs": [
        {
          "output_type": "stream",
          "text": [
            "[0 0 1 0 0 1 0 0 1 1]\n"
          ],
          "name": "stdout"
        }
      ]
    },
    {
      "cell_type": "markdown",
      "metadata": {
        "id": "gnSTym_DiAzg"
      },
      "source": [
        "So, the mean of the results from bucket2 is an estimate for the previous question. We could easily check the results from bucket2 to answer other type of questions."
      ]
    },
    {
      "cell_type": "markdown",
      "metadata": {
        "id": "0fud2iUXB9QW"
      },
      "source": [
        "## Example -- A Poisson Problem\n",
        "\n",
        "> Manchester United scored 80 goals in 38 matches in the 1998–9 English Premier League season, an average of 2.1 goals per match. What is the probability of MU of scoring 3 goals in one match during that season? -- Michael Wood's Making Sense of Statistics\n",
        "\n",
        "38 matches of 90 minutes means a total of 3420 minutes. Let’s assume that all minutes during a match have a similar probability of getting goals and there’s no two goals within a minute (we can always model seconds instead of minutes). For the bucket model, each ball is a minute, and the Universe consists with 80 marked with a 1 for a goal (the 80 goals), or a zero for a non-goal (the remaining minutes).\n"
      ]
    },
    {
      "cell_type": "code",
      "metadata": {
        "id": "_PJkSBl-K67B",
        "outputId": "6e9c328a-d5b1-4f30-9d9c-1be963189748",
        "colab": {
          "base_uri": "https://localhost:8080/"
        }
      },
      "source": [
        "universe = np.concatenate((np.repeat(1,80), np.repeat(0,3420-80)))\n",
        "\n",
        "bucket1 = makeBucket1(universe, False)\n",
        "bucket2 = makeBucket2(bucket1, 90, np.sum) # a soccer match has 90 minutes\n",
        "\n",
        "numGoals = 3\n",
        "results = np.bincount( bucket2(10000) )    # computes a bin count, result[n] has total number of matches with n goals\n",
        "print(np.round(results[numGoals] / sum(results),4))"
      ],
      "execution_count": null,
      "outputs": [
        {
          "output_type": "stream",
          "text": [
            "0.1956\n"
          ],
          "name": "stdout"
        }
      ]
    },
    {
      "cell_type": "markdown",
      "metadata": {
        "id": "qdA0y8hSfVtf"
      },
      "source": [
        "## Example -- Confidence Intervals for a Polling\n",
        "\n",
        "A questionnaire was made with options from 0 (bad) to 5 (good). 98 valid answers were collected. What is the $95\\%$ confidence interval for the mean response?\n",
        "\n",
        "| answer  | frequency  |\n",
        "|:-:|:-:|\n",
        "| 0 |42 |\n",
        "| 1 |21 |\n",
        "| 2 |16 |\n",
        "| 3 | 6 |\n",
        "| 4 | 9 |\n",
        "| 5 | 4 |"
      ]
    },
    {
      "cell_type": "code",
      "metadata": {
        "id": "mkR26ab8fpQb",
        "outputId": "26ed115b-9775-4b17-8940-f52e30189306",
        "colab": {
          "base_uri": "https://localhost:8080/",
          "height": 35
        }
      },
      "source": [
        "responses = [(0,42),(1,21),(2,16),(3,6),(4,9),(5,4)]\n",
        "responses = np.array([val for val,freq in responses for _ in range(freq) ])\n",
        "\n",
        "bucket1 = makeBucket1(responses, True)\n",
        "bucket2 = makeBucket2(bucket1, len(responses), np.mean)\n",
        "\n",
        "results = bucket2(10000) \n",
        "np.quantile(results, [.025, .975]) "
      ],
      "execution_count": null,
      "outputs": [
        {
          "output_type": "execute_result",
          "data": {
            "text/plain": [
              "array([1.02040816, 1.60204082])"
            ]
          },
          "metadata": {
            "tags": []
          },
          "execution_count": 26
        }
      ]
    },
    {
      "cell_type": "markdown",
      "metadata": {
        "id": "T7Ybb9w_yJ5d"
      },
      "source": [
        "## Revisiting the T-test"
      ]
    },
    {
      "cell_type": "markdown",
      "metadata": {
        "id": "KywM0Y7DyUuF"
      },
      "source": [
        "Michael Wood says:\n",
        "\n",
        "> There are, of course, many useful simulation approaches that do not fall under the umbrella of the two bucket story. One example is provided by approximate randomization tests (Noreen 1989; Wood 2003). These are randomization tests (Edgington 1995) which assess significance by “shuffling one variable … relative to another …” (Noreen 1989, page 9). This is a general simulation method that can often be used as a substitute for a number of traditional hypothesis tests — t test, one way analysis of variance, test of the hypothesis that a correlation is zero, Mann-Whitney test, etc. However, it does not fit the format of the two bucket story—it would need a third bucket so that two buckets can be reserved for the data allowing them to be “shuffled” relative to each other.\n",
        "\n",
        "However, *it is* possible to use the two bucket story for making a t-test (and other tests, as we will see)."
      ]
    },
    {
      "cell_type": "markdown",
      "metadata": {
        "id": "Q69CthTXQO2q"
      },
      "source": [
        "Consider the previous experiment/control data:"
      ]
    },
    {
      "cell_type": "code",
      "metadata": {
        "id": "Lv-LVuPPt5f0"
      },
      "source": [
        "experiment = np.array([27,20,21,26,27,31,24,21,20,19,23,24,28,19,24,29,18,20,17,31,20,25,28,21,27])\n",
        "control    = np.array([21,22,15,12,21,16,19,15,22,24,19,23,13,22,20,24,18,20])\n",
        "\n",
        "allData = np.concatenate((experiment, control))"
      ],
      "execution_count": null,
      "outputs": []
    },
    {
      "cell_type": "markdown",
      "metadata": {
        "id": "7GKj7S4AzKeP"
      },
      "source": [
        "What bucket1 will be sampling _are the indices of the entire data_. For each index permutation, we compute the difference of means for the two resampled groups. To achieve that, we just take the first indices and assign them to the first group, and do the same to the second group."
      ]
    },
    {
      "cell_type": "code",
      "metadata": {
        "id": "zrpO1TTKt_Oo",
        "outputId": "ac7c5808-8c7e-4c08-ad27-102dadf8713e",
        "colab": {
          "base_uri": "https://localhost:8080/",
          "height": 398
        }
      },
      "source": [
        "def diffMeans(indices):\n",
        "  indicesGroup1 = indices[:len(experiment)]\n",
        "  indicesGroup2 = indices[len(experiment):]\n",
        "  return np.mean(allData[indicesGroup1]) - np.mean(allData[indicesGroup2])\n",
        "\n",
        "bucket1 = makeBucket1(np.arange(0,len(allData)), False)\n",
        "bucket2 = makeBucket2(bucket1, len(allData), diffMeans)\n",
        "\n",
        "results = bucket2(10000)\n",
        "\n",
        "observedEffect = np.mean(experiment) - np.mean(control)\n",
        "present_results(results, observedEffect, \"Resampling version of T-Test\")"
      ],
      "execution_count": null,
      "outputs": [
        {
          "output_type": "display_data",
          "data": {
            "image/png": "[encoded data removed]",
            "text/plain": [
              "<Figure size 576x288 with 1 Axes>"
            ]
          },
          "metadata": {
            "tags": [],
            "needs_background": "light"
          }
        }
      ]
    },
    {
      "cell_type": "markdown",
      "metadata": {
        "id": "W_45TTyYykPB"
      },
      "source": [
        "## Replacing the $\\chi^2$-Test"
      ]
    },
    {
      "cell_type": "markdown",
      "metadata": {
        "id": "hrxkk4D2RzPi"
      },
      "source": [
        "> Suppose you run a casino and you suspect that a customer has replaced a die provided by the casino with a ``crooked die''; that is, one that has been tampered with to make one of the faces more likely to come up than the others.  You apprehend the alleged cheater and confiscate the die, but now you have to prove that it is crooked.  You roll the die 60 times and get the following results: \n",
        "\n",
        "| Value  |  Frequency |\n",
        "|:------:|:----------:|\n",
        "|   1    |      8     |\n",
        "|   2    |      9     |\n",
        "|   3    |     19     |\n",
        "|   4    |      6     |\n",
        "|   5    |      8     |\n",
        "|   6    |     10     |\n",
        "\n",
        "> What is the probability of seeing results like this by chance?\n"
      ]
    },
    {
      "cell_type": "code",
      "metadata": {
        "id": "z4uCItjGS82t"
      },
      "source": [
        "experiment = [(1,8),(2,9),(3,19),(4,6),(5,8),(6,10)]\n",
        "experiment = np.array([val for val,freq in experiment for _ in range(freq) ])"
      ],
      "execution_count": null,
      "outputs": []
    },
    {
      "cell_type": "markdown",
      "metadata": {
        "id": "QQ9kg6EVTKL_"
      },
      "source": [
        "The test statistic is $\\chi^2$:\n",
        "\n",
        "> The chi-squared test is used to determine whether there is a significant difference between the expected frequencies and the observed frequencies in one or more categories -- [wikipedia](https://en.wikipedia.org/wiki/Chi-squared_test)"
      ]
    },
    {
      "cell_type": "code",
      "metadata": {
        "id": "K-r4It0eTK-d"
      },
      "source": [
        "expected = np.repeat(1/6,6)  # the most probable distribution\n",
        "\n",
        "def chiSquared(sample):\n",
        "  # we need to find the empirical distribution of the sample \n",
        "  # in order to compare with the expected distribution\n",
        "  sample = np.append(sample, [1,2,3,4,5,6])  # add one of each to prevent zero counts\n",
        "  sampleCount = np.bincount(sample)\n",
        "  sampleCount = sampleCount - 1              # bincount already done, remove one of each\n",
        "  sampleCount = sampleCount / sum(sampleCount) \n",
        "  return np.sum((sampleCount[1:]-expected)**2/expected)"
      ],
      "execution_count": null,
      "outputs": []
    },
    {
      "cell_type": "markdown",
      "metadata": {
        "id": "RT0QksJYYveb"
      },
      "source": [
        "So, the first bucket will generate samples of 60 dice throws. The second bucket will take each sample and apply the chi-squared statistic."
      ]
    },
    {
      "cell_type": "code",
      "metadata": {
        "id": "7l3-joHATeal",
        "outputId": "81440be1-2115-455b-93f0-27c9da0a1970",
        "colab": {
          "base_uri": "https://localhost:8080/",
          "height": 398
        }
      },
      "source": [
        "bucket1 = makeBucket1(np.array([1,2,3,4,5,6]), True)\n",
        "bucket2 = makeBucket2(bucket1, len(experiment), chiSquared)\n",
        "\n",
        "results = bucket2(20000)\n",
        "\n",
        "observedEffect = chiSquared(experiment)\n",
        "present_results(results, observedEffect)"
      ],
      "execution_count": null,
      "outputs": [
        {
          "output_type": "display_data",
          "data": {
            "image/png": "[encoded data removed]",
            "text/plain": [
              "<Figure size 576x288 with 1 Axes>"
            ]
          },
          "metadata": {
            "tags": [],
            "needs_background": "light"
          }
        }
      ]
    },
    {
      "cell_type": "markdown",
      "metadata": {
        "id": "5P0QkRCvZZ_f"
      },
      "source": [
        "There is weak evidence that the dice might not be fair (the evidence would be stronger if the observed effect was farther into the tail)."
      ]
    },
    {
      "cell_type": "markdown",
      "metadata": {
        "id": "6iSnkoDpsITA"
      },
      "source": [
        "Comparing with the classical statistical test:"
      ]
    },
    {
      "cell_type": "code",
      "metadata": {
        "id": "s9s9osbZrxxv",
        "outputId": "ad7ffd9a-cc69-4769-9a91-ad6ed47f360e",
        "colab": {
          "base_uri": "https://localhost:8080/",
          "height": 35
        }
      },
      "source": [
        "observed = np.array([8,9,19,6,8,10])\n",
        "ss.chisquare(observed, np.repeat(np.sum(observed)/6,6))"
      ],
      "execution_count": null,
      "outputs": [
        {
          "output_type": "execute_result",
          "data": {
            "text/plain": [
              "Power_divergenceResult(statistic=10.6, pvalue=0.05991362580421519)"
            ]
          },
          "metadata": {
            "tags": []
          },
          "execution_count": 32
        }
      ]
    },
    {
      "cell_type": "markdown",
      "metadata": {
        "id": "VoJdJYkoynU6"
      },
      "source": [
        "## Replacing the Mann-Whitney U-Test"
      ]
    },
    {
      "cell_type": "markdown",
      "metadata": {
        "id": "_zVP5NmUmX3z"
      },
      "source": [
        "The Mann-Whitney U test is a nonparametric statistical significance test for determining whether two independent samples were drawn from a population with the same distribution.\n",
        "\n",
        "> The two samples are combined and rank ordered together. The strategy is to determine if the values from the two samples are randomly mixed in the rank ordering or if they are clustered at opposite ends when combined. A random rank order would mean that the two samples are not different, while a cluster of one sample values would indicate a difference between them. – pg.58, Nonparametric Statistics for Non-Statisticians: A Step-by-Step Approach, 2009.\n"
      ]
    },
    {
      "cell_type": "markdown",
      "metadata": {
        "id": "Qfrx566cmiL2"
      },
      "source": [
        "Some data:"
      ]
    },
    {
      "cell_type": "code",
      "metadata": {
        "id": "gcPcT8Dlk33P"
      },
      "source": [
        "group1 = np.array([20, 23, 21, 25, 18, 17, 18, 24, 20, 24, 23, 19])\n",
        "group2 = np.array([24, 25, 21, 22, 23, 18, 17, 28, 24, 27, 21, 23])\n",
        "\n",
        "allData = np.concatenate((group1, group2)) "
      ],
      "execution_count": null,
      "outputs": []
    },
    {
      "cell_type": "markdown",
      "metadata": {
        "id": "2FNP4ZHxmk21"
      },
      "source": [
        "The test statistic `statU` checks the difference between the sum of ranks of the two groups of data:"
      ]
    },
    {
      "cell_type": "code",
      "metadata": {
        "id": "-cgvBVTxlUtw",
        "outputId": "ee413a5f-c552-44e2-a771-47c9a320ce78",
        "colab": {
          "base_uri": "https://localhost:8080/",
          "height": 398
        }
      },
      "source": [
        "sizeGroup1 = len(group1)\n",
        "\n",
        "def statU(sample):\n",
        "  ranks = ss.rankdata(sample)\n",
        "  return np.absolute( np.sum(ranks[0:sizeGroup1]) - np.sum(ranks[sizeGroup1:]) )\n",
        "\n",
        "bucket1 = makeBucket1(allData)\n",
        "bucket2 = makeBucket2(bucket1, len(allData), statU)\n",
        "\n",
        "results = bucket2(20000)\n",
        "\n",
        "observedEffect = statU(allData)\n",
        "present_results(results, observedEffect, \"Resampling version of Mann-Whitney U-Test\")"
      ],
      "execution_count": null,
      "outputs": [
        {
          "output_type": "display_data",
          "data": {
            "image/png": "[encoded data removed]",
            "text/plain": [
              "<Figure size 576x288 with 1 Axes>"
            ]
          },
          "metadata": {
            "tags": [],
            "needs_background": "light"
          }
        }
      ]
    },
    {
      "cell_type": "markdown",
      "metadata": {
        "id": "FBjSWevYqsGU"
      },
      "source": [
        "So, there's very weak evidence that the differences between the two groups are significant."
      ]
    },
    {
      "cell_type": "markdown",
      "metadata": {
        "id": "-7JiaoWmqitD"
      },
      "source": [
        "Comparing with the standard statistical test:"
      ]
    },
    {
      "cell_type": "code",
      "metadata": {
        "id": "GlkAP0FuoYm3",
        "outputId": "7b4ee920-566a-4cb4-ad4a-2bf0702614ed",
        "colab": {
          "base_uri": "https://localhost:8080/",
          "height": 35
        }
      },
      "source": [
        "ss.mannwhitneyu(group1, group2, alternative='two-sided')"
      ],
      "execution_count": null,
      "outputs": [
        {
          "output_type": "execute_result",
          "data": {
            "text/plain": [
              "MannwhitneyuResult(statistic=50.0, pvalue=0.21138945901258455)"
            ]
          },
          "metadata": {
            "tags": []
          },
          "execution_count": 35
        }
      ]
    },
    {
      "cell_type": "markdown",
      "metadata": {
        "id": "e_JKFBZd1ifP"
      },
      "source": [
        "## An example with dependent observations"
      ]
    },
    {
      "cell_type": "markdown",
      "metadata": {
        "id": "rtfm-bRe2ofd"
      },
      "source": [
        "The following data consists of the points earned at a 2017 diving competition for 12 athletes.\n",
        "\n",
        "We would like to check if the point differences between semifinal and final are due to chance, or is there some effect happening.\n",
        "\n",
        "This can be handled as a difference of means. However, the _data is not independent_. These are paired values from the same athlete!"
      ]
    },
    {
      "cell_type": "code",
      "metadata": {
        "id": "jztNbpY91pdm"
      },
      "source": [
        "semifinal = np.array([325.50, 382.80, 367.50, 346.00, 318.70, 360.85, 313.70, 355.15, 322.75, 320.55, 322.75, 325.75])\n",
        "final     = np.array([397.50, 396.00, 391.95, 385.55, 370.20, 360.00, 357.85, 331.40, 322.40, 307.15, 302.35, 283.35])"
      ],
      "execution_count": null,
      "outputs": []
    },
    {
      "cell_type": "markdown",
      "metadata": {
        "id": "WF9oJhup3FCN"
      },
      "source": [
        "In this case, we can swap the points randomly, for each athlete, at each resampling. \n",
        "\n",
        "Bucket1 will provide samples, not of athlete's points, but of swaps (-1 to swap the points of an athlete, +1 to keep as is)."
      ]
    },
    {
      "cell_type": "code",
      "metadata": {
        "id": "SXjC1vps3QlD",
        "outputId": "f42cd866-ddfd-43f2-ad1c-fc326746e66f",
        "colab": {
          "base_uri": "https://localhost:8080/",
          "height": 398
        }
      },
      "source": [
        "def diffMeansMatched(swaps):\n",
        "  return np.mean((final - semifinal) * swaps)\n",
        "\n",
        "bucket1 = makeBucket1([-1,1], True)  # generate random +1s/-1s\n",
        "bucket2 = makeBucket2(bucket1, len(final), diffMeansMatched)\n",
        "\n",
        "results = bucket2(20000)\n",
        "\n",
        "observedEffect = np.mean((final - semifinal))\n",
        "present_results(results, observedEffect, \"Final minus Semifinal points\")"
      ],
      "execution_count": null,
      "outputs": [
        {
          "output_type": "display_data",
          "data": {
            "image/png": "[encoded data removed]",
            "text/plain": [
              "<Figure size 576x288 with 1 Axes>"
            ]
          },
          "metadata": {
            "tags": [],
            "needs_background": "light"
          }
        }
      ]
    },
    {
      "cell_type": "markdown",
      "metadata": {
        "id": "O26PF2Gn5DF0"
      },
      "source": [
        "So chance alone could account for the point differences between final and semifinal."
      ]
    },
    {
      "cell_type": "markdown",
      "metadata": {
        "id": "E8Kr9l5AM3sL"
      },
      "source": [
        "## Bootstrap\n",
        "\n",
        "The bootstrap uses Monte Carlo simulations to resample many datasets based on the original data. These resamples are used to measure the variation of a given test statistic. The bootstrap assumes that the different observations from the sample are independent and that the sample contains sufficient information about the population.\n",
        "\n",
        "Within the two bucket model, the 'bootstraper' for a given `sample` is the function returned by `makeBucket1(sample, True)`.\n",
        "\n",
        "Here's a simple eg: we have a sample of size 50 from a population modeled by a $\\mathcal{N}(3,2^2)$ distribution. In practice we don't know the population distribution (otherwise, the bootstrap would not be needed), but let’s assume that in order to compare results. Say, we wish to find out about the variation of its mean:"
      ]
    },
    {
      "cell_type": "code",
      "metadata": {
        "id": "Tm8G8v-DNUuC",
        "outputId": "5ca32b1f-24e0-4f5b-b387-f828a1cb1129",
        "colab": {
          "base_uri": "https://localhost:8080/",
          "height": 398
        }
      },
      "source": [
        "np.random.seed(123)\n",
        "sampleSize = 50\n",
        "sample = 3 + 2 * np.random.randn(sampleSize)\n",
        "\n",
        "#####\n",
        "\n",
        "bucket1 = makeBucket1(sample, True)\n",
        "bucket2 = makeBucket2(bucket1, sampleSize, np.mean)\n",
        "\n",
        "bootstrapSamples = bucket2(20000)\n",
        "\n",
        "present_results(bootstrapSamples, 3)\n",
        "#plt.figure(figsize=(8,6))\n",
        "#plt.hist(bootstrapSamples, density=True, bins=50, color='b')\n",
        "#_ = plt.axvline(3, color='r', linestyle='dashed', linewidth=1) # plot true mean"
      ],
      "execution_count": null,
      "outputs": [
        {
          "output_type": "display_data",
          "data": {
            "image/png": "[encoded data removed]",
            "text/plain": [
              "<Figure size 576x288 with 1 Axes>"
            ]
          },
          "metadata": {
            "tags": [],
            "needs_background": "light"
          }
        }
      ]
    },
    {
      "cell_type": "markdown",
      "metadata": {
        "id": "NyKsjE2RiKfd"
      },
      "source": [
        "We are still using the two bucket model, but we are answering a different question. We are no longer testing an hypothesis, but measuring the variation of some sample statistic (in the previous example, the sample's mean).\n",
        "\n",
        "Since I'm reusing the plotting function to a different type of problem, the printed 'p-value' does not have the interpretation it had in hypothesis testing (there's no p-value here, now it's just a percentile for the observed effect: I was too lazy to write a 2nd function).\n",
        "\n",
        "Consider the following picture (from wikipedia):"
      ]
    },
    {
      "cell_type": "markdown",
      "metadata": {
        "id": "k2ZHNbU0tUqh"
      },
      "source": [
        "<center><img src='https://raw.githubusercontent.com/jpneto/topicsInPython/main/imgs/Accuracy_and_precision.wikipedia.png' width=500px></center>"
      ]
    },
    {
      "cell_type": "markdown",
      "metadata": {
        "id": "AKMmxfafj2Q2"
      },
      "source": [
        "The bootstrap gives us an estimation of the **precision**, how thin or large is the empirical distribution produced by the resampling procedure. Precision is a measure of closeness between values and it is usually determined by the [standard deviation](https://en.wikipedia.org/wiki/Standard_deviation) formula.\n",
        "\n",
        "A more important measure is **accuracy**, because it relates to systematic errors, not statistical errors. Unfortunately, this is difficult to access since we don't know how the system we are studying really works (that's what motivates the study in the first place). The best thing is to follow good practices in collecting representative data to minimize this type of problem.\n",
        "\n",
        "In Statistics these concepts are usually named [variance and bias](https://en.wikipedia.org/wiki/Bias%E2%80%93variance_tradeoff)."
      ]
    },
    {
      "cell_type": "markdown",
      "metadata": {
        "id": "dr2mc59umO1X"
      },
      "source": [
        "Allen Downey's next diagram shows the similarities and differences between using resampling for test hypothesis and measuring variability [ref](https://nbviewer.jupyter.org/github/AllenDowney/ElementsOfDataScience/blob/master/11_inference.ipynb):\n",
        "\n",
        "<br><center><img src='https://raw.githubusercontent.com/jpneto/topicsInPython/main/imgs/resampling.allen.downey.png' width=600px></center>"
      ]
    },
    {
      "cell_type": "markdown",
      "metadata": {
        "id": "XXmKlnKxoHlP"
      },
      "source": [
        "Herein, the population model is provided by the bootstrap procedure based on the original sample."
      ]
    },
    {
      "cell_type": "markdown",
      "metadata": {
        "id": "25cVNA5GHw78"
      },
      "source": [
        "### Example -- Bootstrapping Regression Models"
      ]
    },
    {
      "cell_type": "markdown",
      "metadata": {
        "id": "YkL3Q8sbH1L3"
      },
      "source": [
        "We can apply the buckets to perform a bootstrap to compute confidence intervals for the coefficients of a linear regression or other similar models. There are two standard methods:\n",
        "\n",
        "+ _Observation resampling_: bootstrap the data and collect all coefficients obtained by applying the regression to each resample (so the data is seen as random).\n",
        "\n",
        "+ _Residual resampling_: treat the data as fixed and apply the resampling at the residuals.\n",
        "\n",
        "Let's show an example of this second method."
      ]
    },
    {
      "cell_type": "code",
      "metadata": {
        "id": "aGFuQgeB9Yum",
        "outputId": "a2bfcc74-851f-4dfe-af41-7c1ca8ae9ae7",
        "colab": {
          "base_uri": "https://localhost:8080/",
          "height": 281
        }
      },
      "source": [
        "### Some data\n",
        "np.random.seed(101)\n",
        "x = np.linspace(0, 10, 30)\n",
        "y = 3*x + 1 + 2.5*np.random.normal(size=len(x))\n",
        "\n",
        "### The Linear Regression\n",
        "slope, intercept, *_ = ss.linregress(x,y)\n",
        "yhat = x * slope + intercept\n",
        "\n",
        "plt.title(\"Linear Least Squares\")\n",
        "plt.scatter(x, y, marker='.')\n",
        "plt.plot(x, yhat, color='red')\n",
        "plt.show()"
      ],
      "execution_count": null,
      "outputs": [
        {
          "output_type": "display_data",
          "data": {
            "image/png": "[encoded data removed]",
            "text/plain": [
              "<Figure size 432x288 with 1 Axes>"
            ]
          },
          "metadata": {
            "tags": [],
            "needs_background": "light"
          }
        }
      ]
    },
    {
      "cell_type": "markdown",
      "metadata": {
        "id": "7fecJum3JMW1"
      },
      "source": [
        "The resampling becomes:"
      ]
    },
    {
      "cell_type": "code",
      "metadata": {
        "id": "ZDpn8z9qFAC5",
        "outputId": "556a37e6-7cbd-4666-c030-fdc6d0191889",
        "colab": {
          "base_uri": "https://localhost:8080/",
          "height": 356
        }
      },
      "source": [
        "# the test statistic outputs pair (slope, intercept) \n",
        "# for a given resampling of the original residuals\n",
        "def linregress(residuals):\n",
        "  yhat_boot = yhat + residuals\n",
        "  slope, intercept, *_ = ss.linregress(x, yhat_boot)\n",
        "  return (slope, intercept)\n",
        "\n",
        "residuals = y - yhat\n",
        "\n",
        "bucket1 = makeBucket1(residuals, True)\n",
        "bucket2 = makeBucket2(bucket1, len(residuals), linregress)\n",
        "\n",
        "results = bucket2(10000)\n",
        "\n",
        "slopes     = [ s for (s,_) in results]\n",
        "intercepts = [ i for (_,i) in results]\n",
        "\n",
        "fig, axes = plt.subplots(figsize=(16,4), nrows=1, ncols=2)\n",
        "present_results(slopes,     slope,     \"Empirical distribution of slope\"    , axes=axes[0])\n",
        "present_results(intercepts, intercept, \"Empirical distribution of intercept\", axes=axes[1])"
      ],
      "execution_count": null,
      "outputs": [
        {
          "output_type": "display_data",
          "data": {
            "image/png": "[encoded data removed]",
            "text/plain": [
              "<Figure size 1152x288 with 2 Axes>"
            ]
          },
          "metadata": {
            "tags": [],
            "needs_background": "light"
          }
        }
      ]
    },
    {
      "cell_type": "markdown",
      "metadata": {
        "id": "4AQ_I2f8MwoP"
      },
      "source": [
        "Herein, the percentile value near $50\\%$ informs us that the bootstrap produced balanced results around the regression coefficients."
      ]
    },
    {
      "cell_type": "markdown",
      "metadata": {
        "id": "Shy6QOekksy1"
      },
      "source": [
        "\n",
        "\n",
        "---\n",
        "\n"
      ]
    },
    {
      "cell_type": "markdown",
      "metadata": {
        "id": "vtLQrinXzFEp"
      },
      "source": [
        "### Example - Signal/Noise Variable Detection"
      ]
    },
    {
      "cell_type": "markdown",
      "metadata": {
        "id": "I4MJQ2zWzJPP"
      },
      "source": [
        "Let's say we have data with two independent variables, $x_1, x_2$ and one dependent $y$. Before doing some classification or regression, we wish to check if variables $x_i$ have some significant signal in $y$."
      ]
    },
    {
      "cell_type": "code",
      "metadata": {
        "id": "NJj8702TzltK"
      },
      "source": [
        "np.random.seed(101)\n",
        "n  = 100\n",
        "\n",
        "# In this example, x1 is just noise, x2 has signal\n",
        "x1 = np.array(np.random.normal(size=n)) \n",
        "x2 = np.array(np.random.normal(size=n))\n",
        "y  = (2*x2 + np.random.normal(0,0.5,size=n)) > 0"
      ],
      "execution_count": null,
      "outputs": []
    },
    {
      "cell_type": "markdown",
      "metadata": {
        "id": "jc1Bx2b8ARwU"
      },
      "source": [
        "In this example, $x_2$ is a variable with signal while $x_1$ is pure noise.\n",
        "\n",
        "The chosen statistic here is the [deviance](https://en.wikipedia.org/wiki/Deviance_(statistics)) which is a measure of model fitness,"
      ]
    },
    {
      "cell_type": "code",
      "metadata": {
        "id": "b4b6Bwdc5-B5",
        "outputId": "e20433cd-ca39-4160-9eb7-ac587b951c2f",
        "colab": {
          "base_uri": "https://localhost:8080/",
          "height": 361
        }
      },
      "source": [
        "from sklearn.linear_model import LogisticRegression\n",
        "from sklearn.metrics import log_loss\n",
        "\n",
        "def deviance(x, y, model):\n",
        "    return 2*log_loss(y, model.predict_proba(x), normalize=False)\n",
        "\n",
        "# the test statistic, returns deviance for model fitted with sample x\n",
        "def statDeviance(x):  \n",
        "  x_ = x.reshape(-1,1)\n",
        "  model = LogisticRegression().fit(x_, y)\n",
        "  return deviance(x_, y, model)\n",
        "\n",
        "fig, axes = plt.subplots(figsize=(16,4), nrows=1, ncols=2)\n",
        "\n",
        "# check first variable\n",
        "bucket1 = makeBucket1(x1, True)\n",
        "bucket2 = makeBucket2(bucket1, len(x1), statDeviance)  \n",
        "\n",
        "observedEffect = statDeviance(x1)\n",
        "results = bucket2(1000)\n",
        "present_results(results, observedEffect, \"Example of Noise (variable $x_1$)\", axes=axes[0])\n",
        "\n",
        "# check second variable\n",
        "bucket1 = makeBucket1(x2, True)\n",
        "bucket2 = makeBucket2(bucket1, len(x2), statDeviance)  \n",
        "\n",
        "observedEffect = statDeviance(x2)\n",
        "results = bucket2(1000)\n",
        "present_results(results, observedEffect, \"Example of Signal (variable $x_2$)\", axes=axes[1])"
      ],
      "execution_count": null,
      "outputs": [
        {
          "output_type": "display_data",
          "data": {
            "image/png": "[encoded data removed]",
            "text/plain": [
              "<Figure size 1152x288 with 2 Axes>"
            ]
          },
          "metadata": {
            "tags": [],
            "needs_background": "light"
          }
        }
      ]
    },
    {
      "cell_type": "markdown",
      "metadata": {
        "id": "Ofs8oM_32AR8"
      },
      "source": [
        "If a variable has signal over $y$ then the model fitted with real data will perform much better (will have lower deviance) than models with resampled data. \n",
        "\n",
        "If a variable is noise, then its deviance will be within the range of deviances from the models with resampled data. \n",
        "\n",
        "This method can be used with other metrics, like accuracy or recall for classifiers, or squared error for regressions.\n",
        "\n",
        "This can also be applied to set of variables, where the resampling occurs in more than one column."
      ]
    },
    {
      "cell_type": "markdown",
      "metadata": {
        "id": "NujgTf_Ny0vE"
      },
      "source": [
        "\n",
        "\n",
        "---\n",
        "\n"
      ]
    },
    {
      "cell_type": "markdown",
      "metadata": {
        "id": "ibEZlt1cjpfw"
      },
      "source": [
        "## References\n",
        "\n",
        "+ Michael Wood -- Making Sense of Statistics, A Non-Mathematical Approach, 2003\n",
        "\n",
        "+ Michael Wood -- [The Role of Simulation Approaches in Statistics](https://www.tandfonline.com/doi/full/10.1080/10691898.2005.11910562), 2005\n",
        "\n",
        "+ George Cobb -- [The Introductory Statistics Course: A Ptolemaic Curriculum?](https://escholarship.org/uc/item/6hb3k0nz), 2007\n",
        "\n",
        "+ Allen Downey -- [There is still only one test ](https://allendowney.blogspot.com/2016/06/there-is-still-only-one-test.html), 2011, 2016\n",
        "\n",
        "+ Nina Zumel -- [How Do You Know if Your Data Has Signal?](https://win-vector.com/2015/08/10/how-do-you-know-if-your-data-has-signal/), 2015\n",
        "\n",
        "+ Allen Downey -- [Inference, Elements of Data Science](https://nbviewer.jupyter.org/github/AllenDowney/ElementsOfDataScience/blob/master/11_inference.ipynb), 2019\n",
        "\n",
        "+ João Neto -- [Bucket Statistics](http://www.di.fc.ul.pt/~jpn/r/bootstrap/buckets.html) and [Statistics with Resampling](http://www.di.fc.ul.pt/~jpn/r/bootstrap/stat_resampling.html); (R notebooks)"
      ]
    }
  ]
}