{
 "cells": [
  {
   "cell_type": "markdown",
   "metadata": {
    "id": "WWk_MVL4n6IO"
   },
   "source": [
    "# Introduction"
   ]
  },
  {
   "cell_type": "markdown",
   "metadata": {
    "id": "GsLS-6OTBG7N"
   },
   "source": [
    ">  A continuation is an abstract representation of the control state of a program. [...] Let’s say continuation is a data structure that represents the computational process at a given point in the process’s execution, we could save an execution state and continue the computational process latter. Seems like lambda function in Python could be used for this since we could pass a lambda function as parameters and call them later. [ref](https://coderscat.com/understanding-recursion-and-continuation-with-python/)"
   ]
  },
  {
   "cell_type": "markdown",
   "metadata": {
    "id": "mDL8pmYcBEZ8"
   },
   "source": [
    "## Continuation-passing style"
   ]
  },
  {
   "cell_type": "markdown",
   "metadata": {
    "id": "REg-nINPI6Lq"
   },
   "source": [
    "A function in continuation-passing style (CPS) has an extra argument which is the continuation, i.e., the reference for a unary function. When the original function ends, it returns by calling the continuation giving it an appropriate value. This value represents, usually, the current state of the computation."
   ]
  },
  {
   "cell_type": "markdown",
   "metadata": {
    "id": "5jW7Crr2Br2B"
   },
   "source": [
    "The simplest continuation is one that simply returns the given value. Usually this is useful at the end of the computation, where the given value is the desired result. Let's call it the «end continuation»,"
   ]
  },
  {
   "cell_type": "code",
   "execution_count": null,
   "metadata": {
    "id": "HnRKa6jTBHTG"
   },
   "outputs": [],
   "source": [
    "end_cont = lambda x: x"
   ]
  },
  {
   "cell_type": "markdown",
   "metadata": {
    "id": "4g8PD1LVDuY9"
   },
   "source": [
    "Let's implement a function $f(x,y)$ that computes $2x+y$ in CPS-style.\n",
    "\n",
    "For that, we create a sum and a multiplication function, that are called in sequence by `f`,"
   ]
  },
  {
   "cell_type": "code",
   "execution_count": null,
   "metadata": {
    "id": "kQ73twYtCL3A"
   },
   "outputs": [],
   "source": [
    "def add(x, y, cont=end_cont):\n",
    "  return lambda: cont(x+y)\n",
    "\n",
    "def mul(x, y, cont=end_cont):\n",
    "  return lambda: cont(x*y)\n",
    "\n",
    "# compute 2*x + y\n",
    "def f(x, y, cont=end_cont):\n",
    "  cont2 = lambda new_val, y=y, c=cont: add(new_val, y, c)\n",
    "  return mul(2, x, cont2)"
   ]
  },
  {
   "cell_type": "markdown",
   "metadata": {
    "id": "zLQ3NT8eEHYX"
   },
   "source": [
    "If we try to evaluate `f` for some input,"
   ]
  },
  {
   "cell_type": "code",
   "execution_count": null,
   "metadata": {
    "colab": {
     "base_uri": "https://localhost:8080/"
    },
    "executionInfo": {
     "elapsed": 4,
     "status": "ok",
     "timestamp": 1677928900033,
     "user": {
      "displayName": "Joao Pedro Neto",
      "userId": "16588413076175252494"
     },
     "user_tz": 0
    },
    "id": "JS-_TRuVDSvG",
    "outputId": "1ce84d0c-90c9-4052-bebf-0b8b104f41d3"
   },
   "outputs": [
    {
     "data": {
      "text/plain": [
       "<function __main__.mul.<locals>.<lambda>()>"
      ]
     },
     "execution_count": 15,
     "metadata": {},
     "output_type": "execute_result"
    }
   ],
   "source": [
    "f(3, 10)"
   ]
  },
  {
   "cell_type": "markdown",
   "metadata": {
    "id": "qHzgP4gPCCTW"
   },
   "source": [
    "it returns a sequence of lambdas, as expected. In order to find the computed value, we need to activate those lambdas: "
   ]
  },
  {
   "cell_type": "code",
   "execution_count": null,
   "metadata": {
    "colab": {
     "base_uri": "https://localhost:8080/"
    },
    "executionInfo": {
     "elapsed": 11,
     "status": "ok",
     "timestamp": 1677928901631,
     "user": {
      "displayName": "Joao Pedro Neto",
      "userId": "16588413076175252494"
     },
     "user_tz": 0
    },
    "id": "yw4GNkeuEPbf",
    "outputId": "38241f74-0118-4253-8f77-35f7cdb4c6d1"
   },
   "outputs": [
    {
     "data": {
      "text/plain": [
       "16"
      ]
     },
     "execution_count": 16,
     "metadata": {},
     "output_type": "execute_result"
    }
   ],
   "source": [
    "f(3, 10)()()"
   ]
  },
  {
   "cell_type": "markdown",
   "metadata": {
    "id": "2626W6rVEl7k"
   },
   "source": [
    "A [trampoline](https://en.wikipedia.org/wiki/Trampoline_(computing)) is a function that performs this task, i.e., it loops all lambdas feeding the result of one to the input of the next,"
   ]
  },
  {
   "cell_type": "code",
   "execution_count": null,
   "metadata": {
    "id": "bnSiTt4b39xn"
   },
   "outputs": [],
   "source": [
    "def trampoline(f, *args):\n",
    "  \"\"\" iteratively invokes thunk-returning functions \"\"\"\n",
    "  v = f(*args)\n",
    "  while callable(v):\n",
    "    v = v()\n",
    "  return v"
   ]
  },
  {
   "cell_type": "markdown",
   "metadata": {
    "id": "VDuOXq0-OPdG"
   },
   "source": [
    "This works since every continuation call is a tail call, i.e., nothing happens at the current function after the continuation is called."
   ]
  },
  {
   "cell_type": "markdown",
   "metadata": {
    "id": "eCUy4J9MFGIg"
   },
   "source": [
    "To compute the final result using a trampoline:"
   ]
  },
  {
   "cell_type": "code",
   "execution_count": null,
   "metadata": {
    "colab": {
     "base_uri": "https://localhost:8080/"
    },
    "executionInfo": {
     "elapsed": 3,
     "status": "ok",
     "timestamp": 1677928904728,
     "user": {
      "displayName": "Joao Pedro Neto",
      "userId": "16588413076175252494"
     },
     "user_tz": 0
    },
    "id": "W7OyR7m6DZiS",
    "outputId": "08ed4170-fc77-4787-dd4a-f0d868a3be3d"
   },
   "outputs": [
    {
     "data": {
      "text/plain": [
       "16"
      ]
     },
     "execution_count": 18,
     "metadata": {},
     "output_type": "execute_result"
    }
   ],
   "source": [
    "trampoline(f, 3, 10)"
   ]
  },
  {
   "cell_type": "markdown",
   "metadata": {
    "id": "Zc4dfaAlLOMx"
   },
   "source": [
    "Let's try a more complex example, computing the hypotenuse of a right triangle:"
   ]
  },
  {
   "cell_type": "code",
   "execution_count": null,
   "metadata": {
    "id": "-c5vTY0tKK1v"
   },
   "outputs": [],
   "source": [
    "def sqrt(x, cont=end_cont):\n",
    "  return lambda: cont(x**0.5)\n",
    "\n",
    "def pow2(x, cont=end_cont):\n",
    "  return lambda: cont(x**2)\n",
    "\n",
    "def pyth(x, y, cont=end_cont):\n",
    "  return pow2(x, \n",
    "              lambda x2: pow2(y, \n",
    "                              lambda y2: add(x2, y2, \n",
    "                                             lambda a2b2: sqrt(a2b2)\n",
    "                                            )\n",
    "                             )\n",
    "             )  "
   ]
  },
  {
   "cell_type": "code",
   "execution_count": null,
   "metadata": {
    "colab": {
     "base_uri": "https://localhost:8080/"
    },
    "executionInfo": {
     "elapsed": 195,
     "status": "ok",
     "timestamp": 1677928909417,
     "user": {
      "displayName": "Joao Pedro Neto",
      "userId": "16588413076175252494"
     },
     "user_tz": 0
    },
    "id": "7-EhrW0BLFRC",
    "outputId": "744130d5-33e7-4411-e945-d17e36dc7cf7"
   },
   "outputs": [
    {
     "name": "stdout",
     "output_type": "stream",
     "text": [
      "10.0\n",
      "10.0\n"
     ]
    }
   ],
   "source": [
    "print(pyth(6, 8)()()()())\n",
    "print(trampoline(pyth, 6, 8))"
   ]
  },
  {
   "cell_type": "markdown",
   "metadata": {
    "id": "DEftPMppNlFK"
   },
   "source": [
    "Alternatively,"
   ]
  },
  {
   "cell_type": "code",
   "execution_count": null,
   "metadata": {
    "colab": {
     "base_uri": "https://localhost:8080/"
    },
    "executionInfo": {
     "elapsed": 219,
     "status": "ok",
     "timestamp": 1677928911491,
     "user": {
      "displayName": "Joao Pedro Neto",
      "userId": "16588413076175252494"
     },
     "user_tz": 0
    },
    "id": "zsz52NlzLxp4",
    "outputId": "ce36e29d-12db-4531-fbe6-f4ff7bd6cbe4"
   },
   "outputs": [
    {
     "name": "stdout",
     "output_type": "stream",
     "text": [
      "10.0\n"
     ]
    }
   ],
   "source": [
    "def pyth(x, y, cont=end_cont):\n",
    "  cont_sqrt = lambda a2b2  : sqrt(a2b2)\n",
    "  cont_add  = lambda x2, y2: add(x2, y2, cont_sqrt)\n",
    "  cont_y2   = lambda x2    : pow2(y, lambda y2: cont_add(x2,y2))\n",
    "  cont_x2   =                pow2(x, lambda x2: cont_y2(x2))\n",
    "  return cont_x2\n",
    "\n",
    "print(trampoline(pyth, 6, 8))"
   ]
  },
  {
   "cell_type": "markdown",
   "metadata": {
    "id": "1LJsizZNGlnB"
   },
   "source": [
    "These are examples of continuations that return to the original called, which are denoted _bounded continuations_.\n",
    "\n",
    "> Unbounded continuations _do not return to their caller_. They express a flow of computation where results flow in one direction, without ever returning. [...] when unbounded continuations can be treated as first-class values in a language, they become so powerful that they can be used to implement pretty much any control-flow feature you can imagine - exceptions, threads, coroutines and so on. This is precisely what continuations are sometimes used for in the implementation of functional languages, where CPS-transform is one of the compilation stages. [ref](https://eli.thegreenplace.net/2017/on-recursion-continuations-and-trampolines/)"
   ]
  },
  {
   "cell_type": "markdown",
   "metadata": {
    "id": "-iD-l54wAn5F"
   },
   "source": [
    "## Simulating Exceptions"
   ]
  },
  {
   "cell_type": "markdown",
   "metadata": {
    "id": "yIC-_Nn_KeSi"
   },
   "source": [
    "Consider the following functions that\n",
    "\n",
    "+ returns a value\n",
    "\n",
    "+ raises an error\n",
    "\n",
    "+ binds two operations in sequence (monadid style)\n",
    "\n",
    "+ tries one operation, and in case of error, executes a second operation"
   ]
  },
  {
   "cell_type": "code",
   "execution_count": null,
   "metadata": {
    "id": "uHMzspDFA7Jm"
   },
   "outputs": [],
   "source": [
    "def return_(x):\n",
    "  return lambda ret, err: ret(x)\n",
    "\n",
    "def raise_(x):\n",
    "  return lambda ret, err: err(x)\n",
    "\n",
    "def bind(op1, op2):\n",
    "  \"\"\" executes op1 then op2, outputs error if either fails \"\"\"\n",
    "  return lambda ret, err: op1(lambda res: op2(res)(ret, err), err)\n",
    "\n",
    "def try_(op1, op2):\n",
    "  \"\"\" executes op1, and if op1 fails, executes op2 \"\"\"\n",
    "  return lambda ret, err: op1(ret, lambda res: op2(res)(ret, err))"
   ]
  },
  {
   "cell_type": "markdown",
   "metadata": {
    "id": "gMu_slI-K1eV"
   },
   "source": [
    "Let's define the return and raise operation as just print commands,"
   ]
  },
  {
   "cell_type": "code",
   "execution_count": null,
   "metadata": {
    "id": "wLPPoJkyAspi"
   },
   "outputs": [],
   "source": [
    "ret = lambda x: print('ok: ', x)  \n",
    "err = lambda x: print('error: ', x) \n",
    "\n",
    "run_cps = lambda op: op(ret, err)"
   ]
  },
  {
   "cell_type": "markdown",
   "metadata": {
    "id": "TqHylbm8K82V"
   },
   "source": [
    "and a function that might produce an error, depending on its parameters,"
   ]
  },
  {
   "cell_type": "code",
   "execution_count": null,
   "metadata": {
    "id": "BiTYJq-pDz6A"
   },
   "outputs": [],
   "source": [
    "def safe_div(x,y):\n",
    "  def f(ret, err): \n",
    "    if y==0:\n",
    "      err('div by zero')\n",
    "    else:\n",
    "      ret(x/y)\n",
    "  return f"
   ]
  },
  {
   "cell_type": "markdown",
   "metadata": {
    "id": "K_FRKUagJq3y"
   },
   "source": [
    "In the next example, we apply two safe division commands in sequence, first divide $x/2$ then divide the result by $y$,"
   ]
  },
  {
   "cell_type": "code",
   "execution_count": null,
   "metadata": {
    "colab": {
     "base_uri": "https://localhost:8080/"
    },
    "executionInfo": {
     "elapsed": 3,
     "status": "ok",
     "timestamp": 1678093229977,
     "user": {
      "displayName": "Joao Pedro Neto",
      "userId": "16588413076175252494"
     },
     "user_tz": 0
    },
    "id": "pgEiWzFwJpgS",
    "outputId": "98ffdec6-33a1-49ae-b6d7-4f9845aa057d"
   },
   "outputs": [
    {
     "name": "stdout",
     "output_type": "stream",
     "text": [
      "ok:  7.5\n",
      "error:  div by zero\n"
     ]
    }
   ],
   "source": [
    "op = lambda x,y: bind(safe_div(x,2), \n",
    "                      lambda a: safe_div(a,y))\n",
    "run_cps(op(30,2))  \n",
    "run_cps(op(30,0))"
   ]
  },
  {
   "cell_type": "markdown",
   "metadata": {
    "id": "3JFcbk7cGXVB"
   },
   "source": [
    "An example of exception: try to divide $x/y$, and if an error occurs, divide $x/10$,"
   ]
  },
  {
   "cell_type": "code",
   "execution_count": null,
   "metadata": {
    "colab": {
     "base_uri": "https://localhost:8080/"
    },
    "executionInfo": {
     "elapsed": 233,
     "status": "ok",
     "timestamp": 1678093172361,
     "user": {
      "displayName": "Joao Pedro Neto",
      "userId": "16588413076175252494"
     },
     "user_tz": 0
    },
    "id": "oNGMTjNQFaLh",
    "outputId": "e2b27c34-d1c9-480b-fd67-27b7904598c7"
   },
   "outputs": [
    {
     "name": "stdout",
     "output_type": "stream",
     "text": [
      "ok:  3.0\n"
     ]
    }
   ],
   "source": [
    "op = lambda x,y: try_(safe_div(x,y), \n",
    "                      lambda _: safe_div(x,10))\n",
    "\n",
    "run_cps(op(30,0))"
   ]
  },
  {
   "cell_type": "markdown",
   "metadata": {
    "id": "jNRU6jh6IfXl"
   },
   "source": [
    "In the next example, in case of a problem, it would raise an exception:"
   ]
  },
  {
   "cell_type": "code",
   "execution_count": null,
   "metadata": {
    "colab": {
     "base_uri": "https://localhost:8080/"
    },
    "executionInfo": {
     "elapsed": 233,
     "status": "ok",
     "timestamp": 1678025858375,
     "user": {
      "displayName": "Joao Pedro Neto",
      "userId": "16588413076175252494"
     },
     "user_tz": 0
    },
    "id": "zuPiWkQkIgUX",
    "outputId": "ac9fd7d1-050d-49f7-e686-ce1950c34c7f"
   },
   "outputs": [
    {
     "name": "stdout",
     "output_type": "stream",
     "text": [
      "ok:  15.0\n",
      "error:  div by zero\n"
     ]
    }
   ],
   "source": [
    "op = lambda x,y: try_(safe_div(x,y), \n",
    "                      lambda msg: raise_(msg))\n",
    "\n",
    "run_cps(op(30,2))\n",
    "run_cps(op(30,0))"
   ]
  },
  {
   "cell_type": "markdown",
   "metadata": {
    "id": "Wdi1qwmU1Rem"
   },
   "source": [
    "## Tail-Call Optimization"
   ]
  },
  {
   "cell_type": "markdown",
   "metadata": {
    "id": "PB2jHRL9-gQP"
   },
   "source": [
    "Tail-recursive functions are functions where the recursive call is the last command to be executed. These functions can be optimized to prevent the increasing size of the call stack, since the last call can be replaced by the next recursive call. These process is called tail-call optimization (TCO) which is done automatically by some programming languages."
   ]
  },
  {
   "cell_type": "markdown",
   "metadata": {
    "id": "yvGRcH3_1VN8"
   },
   "source": [
    "Let's introduce a helper function that returns the current depth of the call stack. This will be useful to check how the call stack is being used by our recursive functions."
   ]
  },
  {
   "cell_type": "code",
   "execution_count": null,
   "metadata": {
    "id": "xv7yVrmepZdd"
   },
   "outputs": [],
   "source": [
    "import traceback\n",
    "\n",
    "def factory_current_depth():\n",
    "  \"\"\" eval the current call stack depth \"\"\"\n",
    "  current_depth = len(traceback.extract_stack())\n",
    "  return lambda: len(traceback.extract_stack())-current_depth\n",
    "\n",
    "depth = factory_current_depth()\n",
    "show_depth = lambda *state: print(f\"{depth()*'*'} : {state}\")"
   ]
  },
  {
   "cell_type": "markdown",
   "metadata": {
    "id": "LBX9rJEG3c_i"
   },
   "source": [
    "Let's test it using a standard tail-recursive implementation of the factorial function,"
   ]
  },
  {
   "cell_type": "code",
   "execution_count": null,
   "metadata": {
    "colab": {
     "base_uri": "https://localhost:8080/"
    },
    "executionInfo": {
     "elapsed": 243,
     "status": "ok",
     "timestamp": 1677928958489,
     "user": {
      "displayName": "Joao Pedro Neto",
      "userId": "16588413076175252494"
     },
     "user_tz": 0
    },
    "id": "3X-e-4dR3ctf",
    "outputId": "db1a6fe0-1776-49f5-bda2-728ad87a2b0e"
   },
   "outputs": [
    {
     "name": "stdout",
     "output_type": "stream",
     "text": [
      "** : (8,)\n",
      "*** : (7,)\n",
      "**** : (6,)\n",
      "***** : (5,)\n",
      "****** : (4,)\n",
      "******* : (3,)\n",
      "******** : (2,)\n",
      "********* : (1,)\n",
      "********** : (0,)\n",
      "40320\n"
     ]
    }
   ],
   "source": [
    "def fact_tail(n, fac=1):\n",
    "  show_depth(n)\n",
    "  if n==0:\n",
    "    return fac\n",
    "  return fact_tail(n-1, n*fac)\n",
    "\n",
    "print(fact_tail(8))"
   ]
  },
  {
   "cell_type": "markdown",
   "metadata": {
    "id": "-DQKhSqr1vIn"
   },
   "source": [
    "We can observe how the call stack is increasing for each recursive call. Python, by [design](https://stackoverflow.com/questions/13591970), does not do tail-call optimization, unlike most functional programming languages."
   ]
  },
  {
   "cell_type": "markdown",
   "metadata": {
    "id": "eRzbLVwj4pCY"
   },
   "source": [
    "However, we can implement the factorial in a continuation-passing style,"
   ]
  },
  {
   "cell_type": "code",
   "execution_count": null,
   "metadata": {
    "colab": {
     "base_uri": "https://localhost:8080/"
    },
    "executionInfo": {
     "elapsed": 235,
     "status": "ok",
     "timestamp": 1677928960197,
     "user": {
      "displayName": "Joao Pedro Neto",
      "userId": "16588413076175252494"
     },
     "user_tz": 0
    },
    "id": "kJEglb_u24W6",
    "outputId": "e521e663-9191-416d-da89-0ece42b108f5"
   },
   "outputs": [
    {
     "name": "stdout",
     "output_type": "stream",
     "text": [
      "*** : (8,)\n",
      "**** : (7,)\n",
      "**** : (6,)\n",
      "**** : (5,)\n",
      "**** : (4,)\n",
      "**** : (3,)\n",
      "**** : (2,)\n",
      "**** : (1,)\n",
      "**** : (0,)\n",
      "40320\n"
     ]
    }
   ],
   "source": [
    "def fact_cps(n, cont=end_cont):\n",
    "  show_depth(n) \n",
    "  if n == 0:\n",
    "    return cont(1) \n",
    "  return lambda: fact_cps(n-1, lambda fac: cont(n*fac))\n",
    "\n",
    "print(trampoline(fact_cps, 8))"
   ]
  },
  {
   "cell_type": "markdown",
   "metadata": {
    "id": "lDE_DE4i44aT"
   },
   "source": [
    "And, as we just saw, the call stack is not growing. We have achieved TCO using `fact_cps` along with the trampoline function!"
   ]
  },
  {
   "cell_type": "markdown",
   "metadata": {
    "id": "MGGXKYdL5Nh6"
   },
   "source": [
    "In this case, the implementation can be simplified to a sequence of thunk-returning functions, removing the continuation context,"
   ]
  },
  {
   "cell_type": "code",
   "execution_count": null,
   "metadata": {
    "colab": {
     "base_uri": "https://localhost:8080/"
    },
    "executionInfo": {
     "elapsed": 206,
     "status": "ok",
     "timestamp": 1677928963036,
     "user": {
      "displayName": "Joao Pedro Neto",
      "userId": "16588413076175252494"
     },
     "user_tz": 0
    },
    "id": "PIetoqBE5Q7z",
    "outputId": "a40e2545-c8d8-487f-a0ba-c640d6578b1c"
   },
   "outputs": [
    {
     "name": "stdout",
     "output_type": "stream",
     "text": [
      "*** : (8,)\n",
      "**** : (7,)\n",
      "**** : (6,)\n",
      "**** : (5,)\n",
      "**** : (4,)\n",
      "**** : (3,)\n",
      "**** : (2,)\n",
      "**** : (1,)\n",
      "**** : (0,)\n",
      "40320\n"
     ]
    }
   ],
   "source": [
    "def fact_tco(n, fac=1):\n",
    "  show_depth(n) \n",
    "  if n == 0:\n",
    "    return fac \n",
    "  return lambda: fact_tco(n-1, n*fac)\n",
    "\n",
    "print(trampoline(fact_tco, 8))"
   ]
  },
  {
   "cell_type": "markdown",
   "metadata": {
    "id": "RYIsfb-N53Gh"
   },
   "source": [
    "This simplification is even greater for the Fibonacci sequence, that uses two recursive parameters.\n",
    "\n",
    "Let's check the traditional tail-recursive definition, the cps solution and the simplified implementation:"
   ]
  },
  {
   "cell_type": "code",
   "execution_count": null,
   "metadata": {
    "colab": {
     "base_uri": "https://localhost:8080/"
    },
    "executionInfo": {
     "elapsed": 201,
     "status": "ok",
     "timestamp": 1677928969017,
     "user": {
      "displayName": "Joao Pedro Neto",
      "userId": "16588413076175252494"
     },
     "user_tz": 0
    },
    "id": "QLlPTOGIkeaL",
    "outputId": "5800383e-136a-422c-a76d-2dce835b17fa"
   },
   "outputs": [
    {
     "name": "stdout",
     "output_type": "stream",
     "text": [
      "** : (8,)\n",
      "*** : (7,)\n",
      "**** : (6,)\n",
      "***** : (5,)\n",
      "****** : (4,)\n",
      "******* : (3,)\n",
      "******** : (2,)\n",
      "********* : (1,)\n",
      "34\n"
     ]
    }
   ],
   "source": [
    "def fib_tail(n, a=1, b=1):\n",
    "  show_depth(n) \n",
    "  if n < 2:\n",
    "    return b\n",
    "  else:\n",
    "    return fib_tail(n - 1, b, a+b)\n",
    "\n",
    "print(fib_tail(8))"
   ]
  },
  {
   "cell_type": "code",
   "execution_count": null,
   "metadata": {
    "colab": {
     "base_uri": "https://localhost:8080/"
    },
    "executionInfo": {
     "elapsed": 226,
     "status": "ok",
     "timestamp": 1677928972779,
     "user": {
      "displayName": "Joao Pedro Neto",
      "userId": "16588413076175252494"
     },
     "user_tz": 0
    },
    "id": "5Zze0PrXlbi6",
    "outputId": "89573dca-52ec-4d61-f01a-4adcc65c9ad0"
   },
   "outputs": [
    {
     "name": "stdout",
     "output_type": "stream",
     "text": [
      "*** : (8, 1, 1)\n",
      "**** : (7, 1, 2)\n",
      "**** : (6, 2, 3)\n",
      "**** : (5, 3, 5)\n",
      "**** : (4, 5, 8)\n",
      "**** : (3, 8, 13)\n",
      "**** : (2, 13, 21)\n",
      "**** : (1, 21, 34)\n",
      "34\n"
     ]
    }
   ],
   "source": [
    "def fib_cps(n, cont=end_cont):\n",
    "  \"\"\" binary recursion, CPS version \"\"\"\n",
    "  show_depth(n) \n",
    "  if n < 2:\n",
    "    return cont(1)\n",
    "  return lambda: fib_cps(n-1, lambda x:\n",
    "                                 lambda: fib_cps(n-2, lambda y:\n",
    "                                                        lambda: cont(x+y)))\n",
    "\n",
    "def fib_cps(n, a=1, b=1, cont=end_cont):\n",
    "  \"\"\" linear recursion, CPS version \"\"\"\n",
    "  show_depth(n,a,b) \n",
    "  if n < 2:\n",
    "    return cont(b) \n",
    "  return lambda: fib_cps(n-1, b, a+b, lambda x: cont(x))\n",
    "\n",
    "print(trampoline(fib_cps, 8))"
   ]
  },
  {
   "cell_type": "code",
   "execution_count": null,
   "metadata": {
    "colab": {
     "base_uri": "https://localhost:8080/"
    },
    "executionInfo": {
     "elapsed": 4,
     "status": "ok",
     "timestamp": 1677928986833,
     "user": {
      "displayName": "Joao Pedro Neto",
      "userId": "16588413076175252494"
     },
     "user_tz": 0
    },
    "id": "34l8yCrJrW2m",
    "outputId": "5113ce48-c759-4beb-a450-422c799aa1c8"
   },
   "outputs": [
    {
     "name": "stdout",
     "output_type": "stream",
     "text": [
      "*** : (8, 1, 1)\n",
      "**** : (7, 1, 2)\n",
      "**** : (6, 2, 3)\n",
      "**** : (5, 3, 5)\n",
      "**** : (4, 5, 8)\n",
      "**** : (3, 8, 13)\n",
      "**** : (2, 13, 21)\n",
      "**** : (1, 21, 34)\n",
      "34\n"
     ]
    }
   ],
   "source": [
    "def fib_tco(n, a=1, b=1):\n",
    "  show_depth(n, a, b) \n",
    "  if n < 2:\n",
    "    return b\n",
    "  else:\n",
    "    return lambda: fib_tco(n-1, b, a+b)\n",
    "\n",
    "print(trampoline(fib_tco, 8))   "
   ]
  },
  {
   "cell_type": "markdown",
   "metadata": {
    "id": "cbQpLvWPNuRl"
   },
   "source": [
    "The next example computes mergesort with continuations. \n",
    "\n",
    "In this case, since the number of recursion calls are proportional to $\\log n$, the call stack growth is not problematic."
   ]
  },
  {
   "cell_type": "code",
   "execution_count": null,
   "metadata": {
    "id": "nWmI3U_TLXPO"
   },
   "outputs": [],
   "source": [
    "def merge(xs, ys):\n",
    "  result = []\n",
    "  while xs or ys:\n",
    "    if not xs or not ys:\n",
    "       return result + xs + ys\n",
    "    x, *xtail = xs\n",
    "    y, *ytail = ys\n",
    "    if x < y:\n",
    "      result.append(x)\n",
    "      xs = xtail\n",
    "    else:\n",
    "      result.append(y)\n",
    "      ys = ytail\n",
    "  return result\n",
    "\n",
    "def mergesort_cps(xs, cont=end_cont):\n",
    "  if len(xs) <= 1:\n",
    "    return cont(xs)\n",
    "  mid = int(len(xs) / 2)\n",
    "  return mergesort_cps(xs[:mid],\n",
    "                       lambda L: mergesort_cps(xs[mid:], \n",
    "                                               lambda R: cont(merge(L, R))))"
   ]
  },
  {
   "cell_type": "code",
   "execution_count": null,
   "metadata": {
    "colab": {
     "base_uri": "https://localhost:8080/"
    },
    "executionInfo": {
     "elapsed": 2,
     "status": "ok",
     "timestamp": 1677926715310,
     "user": {
      "displayName": "Joao Pedro Neto",
      "userId": "16588413076175252494"
     },
     "user_tz": 0
    },
    "id": "H3SbSWZXNRdb",
    "outputId": "fb55fd6e-c9a8-4100-8614-b4fa77f684fc"
   },
   "outputs": [
    {
     "data": {
      "text/plain": [
       "[0, 1, 2, 3, 3, 5, 7, 8, 10]"
      ]
     },
     "execution_count": 13,
     "metadata": {},
     "output_type": "execute_result"
    }
   ],
   "source": [
    "trampoline(mergesort_cps, [7,5,3,8,1,2,0,10,3])"
   ]
  },
  {
   "cell_type": "markdown",
   "metadata": {
    "id": "EiyESL3lA9fe"
   },
   "source": [
    "## Implementing Backtracking\n"
   ]
  },
  {
   "cell_type": "markdown",
   "metadata": {
    "id": "71_9jfETNetO"
   },
   "source": [
    "The idea is:\n",
    "\n",
    "+ if a search does ont produce a result, do not call the continuation\n",
    "\n",
    "+ if a search produces several results, call the continuation for each result\n",
    "\n",
    "+ the continuation must flow!"
   ]
  },
  {
   "cell_type": "markdown",
   "metadata": {
    "id": "bnclFEYPN8pS"
   },
   "source": [
    "This first example executes a continuation for each element of the given list:"
   ]
  },
  {
   "cell_type": "code",
   "execution_count": null,
   "metadata": {
    "id": "r4nbil36A-Kn"
   },
   "outputs": [],
   "source": [
    "def member(xs, cont):\n",
    "  if xs:\n",
    "    x, *xs = xs\n",
    "    cont(x)\n",
    "    return member(xs, cont)"
   ]
  },
  {
   "cell_type": "markdown",
   "metadata": {
    "id": "TNVGB8SjOEFP"
   },
   "source": [
    "Let's choose a print as the continuation:"
   ]
  },
  {
   "cell_type": "code",
   "execution_count": null,
   "metadata": {
    "colab": {
     "base_uri": "https://localhost:8080/"
    },
    "executionInfo": {
     "elapsed": 3,
     "status": "ok",
     "timestamp": 1678212438393,
     "user": {
      "displayName": "Joao Pedro Neto",
      "userId": "16588413076175252494"
     },
     "user_tz": 0
    },
    "id": "gB2HQQAaNSb5",
    "outputId": "c9565277-425c-4075-ac2a-44accd2bcd15"
   },
   "outputs": [
    {
     "name": "stdout",
     "output_type": "stream",
     "text": [
      "1; 2; 3; "
     ]
    }
   ],
   "source": [
    "cont_show = lambda *x: print(*x, end='; ')  \n",
    "member([1,2,3], cont_show)"
   ]
  },
  {
   "cell_type": "markdown",
   "metadata": {
    "id": "yQtNXPfgQdPx"
   },
   "source": [
    "Searches can be combined:"
   ]
  },
  {
   "cell_type": "code",
   "execution_count": null,
   "metadata": {
    "colab": {
     "base_uri": "https://localhost:8080/"
    },
    "executionInfo": {
     "elapsed": 692,
     "status": "ok",
     "timestamp": 1678212255837,
     "user": {
      "displayName": "Joao Pedro Neto",
      "userId": "16588413076175252494"
     },
     "user_tz": 0
    },
    "id": "Aipj2x77Bjy5",
    "outputId": "143a9e4a-fd5e-4cb6-dd56-8c0d2248674d"
   },
   "outputs": [
    {
     "name": "stdout",
     "output_type": "stream",
     "text": [
      "1 a; 1 b; 1 c; 1 d; 2 a; 2 b; 2 c; 2 d; 3 a; 3 b; 3 c; 3 d; "
     ]
    }
   ],
   "source": [
    "def search2(xs, ys):\n",
    "  member(xs, \n",
    "         lambda x: member(ys, \n",
    "                          lambda y: cont_show(x,y)))\n",
    "  \n",
    "search2([1,2,3], 'abcd')"
   ]
  },
  {
   "cell_type": "markdown",
   "metadata": {
    "id": "6Wc4FoIyQkJ6"
   },
   "source": [
    "And we can apply filters that cut the search if some predicate is not satisfied:"
   ]
  },
  {
   "cell_type": "code",
   "execution_count": null,
   "metadata": {
    "colab": {
     "base_uri": "https://localhost:8080/"
    },
    "executionInfo": {
     "elapsed": 229,
     "status": "ok",
     "timestamp": 1678213652239,
     "user": {
      "displayName": "Joao Pedro Neto",
      "userId": "16588413076175252494"
     },
     "user_tz": 0
    },
    "id": "kqMjiACKCMX1",
    "outputId": "0eb7b8c2-5eb9-4eab-dd97-60e076242b6f"
   },
   "outputs": [
    {
     "name": "stdout",
     "output_type": "stream",
     "text": [
      "2 a; 2 b; 2 c; 2 d; "
     ]
    }
   ],
   "source": [
    "cont_nothing = lambda x: None # do nothing continuation\n",
    "\n",
    "def filt(p, cont):\n",
    "  return lambda *x: cont(*x) if p(x[0]) else cont_nothing(x)\n",
    "\n",
    "def search3(xs, ys):\n",
    "  member(xs, \n",
    "         lambda x: member(ys, \n",
    "                          lambda y: filt(lambda x: x%2==0, cont_show)(x,y)))\n",
    "\n",
    "search3([1,2,3], 'abcd')"
   ]
  },
  {
   "cell_type": "markdown",
   "metadata": {
    "id": "oAPJK9JMDnkD"
   },
   "source": [
    "The next function produces all possible insertions of an element into a list:"
   ]
  },
  {
   "cell_type": "code",
   "execution_count": null,
   "metadata": {
    "colab": {
     "base_uri": "https://localhost:8080/"
    },
    "executionInfo": {
     "elapsed": 505,
     "status": "ok",
     "timestamp": 1678212590188,
     "user": {
      "displayName": "Joao Pedro Neto",
      "userId": "16588413076175252494"
     },
     "user_tz": 0
    },
    "id": "UirOip-mEhKf",
    "outputId": "2524fb7a-2d4a-481d-87f2-f459e5bd5d87"
   },
   "outputs": [
    {
     "name": "stdout",
     "output_type": "stream",
     "text": [
      "[4, 1, 2, 3]; [1, 4, 2, 3]; [1, 2, 4, 3]; [1, 2, 3, 4]; "
     ]
    }
   ],
   "source": [
    "def ins(xs, z, cont):\n",
    "  if not xs:\n",
    "    cont([z])\n",
    "  else:\n",
    "    cont([z]+xs)\n",
    "    x, *xs = xs\n",
    "    ins(xs, z, lambda ys: cont([x]+ys))\n",
    "\n",
    "ins([1,2,3], 4, cont_show)  "
   ]
  },
  {
   "cell_type": "markdown",
   "metadata": {
    "id": "jruKQQm3RBXc"
   },
   "source": [
    "The previous function can be used to compute permutations:"
   ]
  },
  {
   "cell_type": "code",
   "execution_count": null,
   "metadata": {
    "colab": {
     "base_uri": "https://localhost:8080/"
    },
    "executionInfo": {
     "elapsed": 231,
     "status": "ok",
     "timestamp": 1678212618657,
     "user": {
      "displayName": "Joao Pedro Neto",
      "userId": "16588413076175252494"
     },
     "user_tz": 0
    },
    "id": "JHgC6f12DzRy",
    "outputId": "0742747a-c7bb-4ead-bf69-2c412e002b09"
   },
   "outputs": [
    {
     "name": "stdout",
     "output_type": "stream",
     "text": [
      "[1, 2, 3]; [2, 1, 3]; [2, 3, 1]; [1, 3, 2]; [3, 1, 2]; [3, 2, 1]; "
     ]
    }
   ],
   "source": [
    "def perm(xs, cont):\n",
    "  if not xs:\n",
    "    cont([])\n",
    "  else:\n",
    "    x, *xs = xs\n",
    "    perm(xs, lambda ys: ins(ys, x, cont))\n",
    "\n",
    "perm([1,2,3], cont_show)    "
   ]
  },
  {
   "cell_type": "markdown",
   "metadata": {
    "id": "QScXEFEyOJl8"
   },
   "source": [
    "If we'd like to have carry state across the search, instead of just making some side-effect, we need to have a continuation that receives a value and a state, and outputs a new state:"
   ]
  },
  {
   "cell_type": "code",
   "execution_count": null,
   "metadata": {
    "id": "pfBDmidQOemj"
   },
   "outputs": [],
   "source": [
    "def member_st(xs, cont, state):\n",
    "  if not xs:\n",
    "    return state\n",
    "  else:\n",
    "    x, *xs = xs\n",
    "    new_state = cont(x, state)\n",
    "    return member_st(xs, cont, new_state)"
   ]
  },
  {
   "cell_type": "code",
   "execution_count": null,
   "metadata": {
    "colab": {
     "base_uri": "https://localhost:8080/"
    },
    "executionInfo": {
     "elapsed": 632,
     "status": "ok",
     "timestamp": 1678212649023,
     "user": {
      "displayName": "Joao Pedro Neto",
      "userId": "16588413076175252494"
     },
     "user_tz": 0
    },
    "id": "r3lDymatOKUl",
    "outputId": "801955c6-3688-47d1-f3cd-172468753d8d"
   },
   "outputs": [
    {
     "data": {
      "text/plain": [
       "[10, 20, 30]"
      ]
     },
     "execution_count": 109,
     "metadata": {},
     "output_type": "execute_result"
    }
   ],
   "source": [
    "# eg, map elements of list\n",
    "cont_mul10 = lambda value, state: state+[10*value]\n",
    "member_st([1,2,3], cont_mul10, [])"
   ]
  },
  {
   "cell_type": "markdown",
   "metadata": {
    "id": "jUrfgoAGROsu"
   },
   "source": [
    "Let's define a continuation that simply adds the current value to the previous state:"
   ]
  },
  {
   "cell_type": "code",
   "execution_count": null,
   "metadata": {
    "id": "t0Hhkq61RUsj"
   },
   "outputs": [],
   "source": [
    "cont_keep = lambda info, state: state+[info]"
   ]
  },
  {
   "cell_type": "markdown",
   "metadata": {
    "id": "UEFcaN8fRW3A"
   },
   "source": [
    "And let's refactor `ins` and `perm` to return all searches, instead of printing them:"
   ]
  },
  {
   "cell_type": "code",
   "execution_count": null,
   "metadata": {
    "colab": {
     "base_uri": "https://localhost:8080/"
    },
    "executionInfo": {
     "elapsed": 217,
     "status": "ok",
     "timestamp": 1678212727847,
     "user": {
      "displayName": "Joao Pedro Neto",
      "userId": "16588413076175252494"
     },
     "user_tz": 0
    },
    "id": "VGVUCnR6KRJz",
    "outputId": "e89b73ef-7e87-44a9-a5ce-63e22a5888fc"
   },
   "outputs": [
    {
     "data": {
      "text/plain": [
       "[[4, 1, 2, 3], [1, 4, 2, 3], [1, 2, 4, 3], [1, 2, 3, 4]]"
      ]
     },
     "execution_count": 112,
     "metadata": {},
     "output_type": "execute_result"
    }
   ],
   "source": [
    "def ins(xs, z, cont, state):\n",
    "  if not xs:\n",
    "    return cont([z], state)\n",
    "  else:\n",
    "    new_state = cont([z]+xs, state)\n",
    "    x, *xs = xs\n",
    "    return ins(xs, z, lambda ys, st2: cont([x]+ys, st2), new_state)\n",
    "\n",
    "ins([1,2,3], 4, cont_keep, [])    "
   ]
  },
  {
   "cell_type": "code",
   "execution_count": null,
   "metadata": {
    "id": "IPY-VhbbLooX"
   },
   "outputs": [],
   "source": [
    "def perm(xs, cont, state):\n",
    "  if not xs:\n",
    "    return cont(xs, state)\n",
    "  else:\n",
    "    x, *xs = xs\n",
    "    return perm(xs, lambda ys, st2: ins(ys, x, cont, st2), state)\n",
    "\n",
    "perm([1,2,3,4], cont_keep, [])   "
   ]
  },
  {
   "cell_type": "markdown",
   "metadata": {
    "id": "Ql9b5oQpGJ7D"
   },
   "source": [
    "### Searching Tree Paths"
   ]
  },
  {
   "cell_type": "markdown",
   "metadata": {
    "id": "87gsRjqBHCK4"
   },
   "source": [
    "Given a binary tree, find all paths from the root to a leaf.\n",
    "\n",
    "         10\n",
    "        /  \\\n",
    "       /    \\\n",
    "      5     15\n",
    "     / \\   /  \n",
    "    1   7 12\n"
   ]
  },
  {
   "cell_type": "code",
   "execution_count": null,
   "metadata": {
    "id": "b-8uw7ubGK8e"
   },
   "outputs": [],
   "source": [
    "t =  [10, \n",
    "      [5,  [ 1, None, None], [ 7, None, None]], \n",
    "      [15, [12, None, None], None]\n",
    "     ]"
   ]
  },
  {
   "cell_type": "code",
   "execution_count": null,
   "metadata": {
    "colab": {
     "base_uri": "https://localhost:8080/"
    },
    "executionInfo": {
     "elapsed": 205,
     "status": "ok",
     "timestamp": 1678212823202,
     "user": {
      "displayName": "Joao Pedro Neto",
      "userId": "16588413076175252494"
     },
     "user_tz": 0
    },
    "id": "OUV0zN1KIlfY",
    "outputId": "348ecfaa-a2be-4690-e614-5138e7d00f03"
   },
   "outputs": [
    {
     "name": "stdout",
     "output_type": "stream",
     "text": [
      "[10, 5, 1]; [10, 5, 7]; [10, 15, 12]; "
     ]
    }
   ],
   "source": [
    "def paths(node, cont):\n",
    "  if node is None:\n",
    "    cont([])\n",
    "  else:\n",
    "    value, left, right = node\n",
    "    cont1 = lambda path: cont([value]+path)\n",
    "    if left is None and right is None:\n",
    "      paths(None, cont1)\n",
    "    else:\n",
    "      if left : paths(left,  cont1)\n",
    "      if right: paths(right, cont1)\n",
    "\n",
    "paths(t, cont_show)    "
   ]
  },
  {
   "cell_type": "markdown",
   "metadata": {
    "id": "_5LefJtOo_k3"
   },
   "source": [
    "## Backtracking via Combinators\n"
   ]
  },
  {
   "cell_type": "markdown",
   "metadata": {
    "id": "JiHxFZCGP1w0"
   },
   "source": [
    "[Allison90](http://www.allisons.org/ll/Publications/1990BCJ/) uses the term _generator_ as a function that transforms continuations. The paper uses this concept to simulate non-deterministic computations.\n",
    "\n",
    "Herein, a _continuation_ is a function from a (partial) state to a list of (partial) states, and a _generator_ is a function from a continuation to a continuation,\n",
    "\n",
    "    cont :: state -> [state]\n",
    "\n",
    "    gen :: cont -> cont\n",
    "\n",
    "<!-- original ML code for what follows (run at https://sosml.org/editor)\n",
    "fun ret a = [a];\n",
    "\n",
    "fun fail h a = [];\n",
    "\n",
    "fun run g = g ret [];\n",
    "\n",
    "(******************)\n",
    "\n",
    "fun literal c h a = h( c::a );\n",
    "print (run (literal 3));\n",
    "\n",
    "fun pipe g1 g2 h a = g1(g2 h)a;\n",
    "print (run (pipe (literal 1) (literal 2)));\n",
    "\n",
    "fun success h a = h a;\n",
    "\n",
    "fun do_ n g = if n=0 \n",
    "                then success\n",
    "                else pipe (do_ (n-1) g) g;\n",
    "print (run (do_ 5 (literal 1) ));\n",
    "\n",
    "fun either g1 g2 h a = (g1 h a) @ (g2 h a);\n",
    "\n",
    "print (run (either (pipe (literal 1) (literal 2))\n",
    "                   (literal 3) ) );\n",
    "\n",
    "fun choice n = if n=0 \n",
    "                 then fail\n",
    "                 else either (literal n) (choice (n-1));\n",
    "\n",
    "print ( run( do_ 3 (choice 2) ));\n",
    "\n",
    "fun filter p h a = if p a \n",
    "                     then h a\n",
    "                     else [];\n",
    "\n",
    "fun first_one (h::t) = h=1;\n",
    "\n",
    "print (run (pipe (do_ 3 (choice 2)) \n",
    "                 (filter first_one)));\n",
    "\n",
    "--> "
   ]
  },
  {
   "cell_type": "markdown",
   "metadata": {
    "id": "Z6n-6FroQ98Y"
   },
   "source": [
    "Let's consider the generator `literal` that prepends a value to a state:"
   ]
  },
  {
   "cell_type": "code",
   "execution_count": null,
   "metadata": {
    "id": "ms7psVfuRJSH"
   },
   "outputs": [],
   "source": [
    "literal = lambda value: lambda cont: lambda state: cont([value]+state)"
   ]
  },
  {
   "cell_type": "markdown",
   "metadata": {
    "id": "OHeALYxdRMRv"
   },
   "source": [
    "To observe states, let's add\n",
    "\n",
    "+ `ret` a continuation that just returns the given state as a list (as defined by the type)\n",
    "\n",
    "+ `run` a function that executes a generator and returns the list of all list of states"
   ]
  },
  {
   "cell_type": "code",
   "execution_count": null,
   "metadata": {
    "id": "1aD16bWA8lz1"
   },
   "outputs": [],
   "source": [
    "ret = lambda x: [x]\n",
    "\n",
    "run = lambda gen: gen(ret)([])"
   ]
  },
  {
   "cell_type": "markdown",
   "metadata": {
    "id": "8e4GUvcJRs12"
   },
   "source": [
    "Let's try them with `literal`,"
   ]
  },
  {
   "cell_type": "code",
   "execution_count": null,
   "metadata": {
    "colab": {
     "base_uri": "https://localhost:8080/"
    },
    "executionInfo": {
     "elapsed": 852,
     "status": "ok",
     "timestamp": 1678351998203,
     "user": {
      "displayName": "Joao Pedro Neto",
      "userId": "16588413076175252494"
     },
     "user_tz": 0
    },
    "id": "tJ3JgLaS9fD1",
    "outputId": "e364e999-1654-437c-9fa7-32d84ff0fe7b"
   },
   "outputs": [
    {
     "data": {
      "text/plain": [
       "[[1]]"
      ]
     },
     "execution_count": 75,
     "metadata": {},
     "output_type": "execute_result"
    }
   ],
   "source": [
    "run(literal(1))"
   ]
  },
  {
   "cell_type": "markdown",
   "metadata": {
    "id": "ytjkt-GsSGmC"
   },
   "source": [
    "Generator `pipe` is used to create a generator that is a sequence of two generators,"
   ]
  },
  {
   "cell_type": "code",
   "execution_count": null,
   "metadata": {
    "id": "WDn0JRy0_SrP"
   },
   "outputs": [],
   "source": [
    "def pipe(gen1, gen2):\n",
    "  return lambda cont: lambda state: gen1(gen2(cont))(state)"
   ]
  },
  {
   "cell_type": "code",
   "execution_count": null,
   "metadata": {
    "colab": {
     "base_uri": "https://localhost:8080/"
    },
    "executionInfo": {
     "elapsed": 660,
     "status": "ok",
     "timestamp": 1678352000260,
     "user": {
      "displayName": "Joao Pedro Neto",
      "userId": "16588413076175252494"
     },
     "user_tz": 0
    },
    "id": "iBHuqbQ_SSWb",
    "outputId": "af742e87-c480-4b6a-8dbf-79e8a6630acb"
   },
   "outputs": [
    {
     "data": {
      "text/plain": [
       "[[2, 1]]"
      ]
     },
     "execution_count": 77,
     "metadata": {},
     "output_type": "execute_result"
    }
   ],
   "source": [
    "g1 = literal(1)\n",
    "g2 = literal(2)\n",
    "g3 = pipe(g1, g2) # g1 only after g2, like function composition\n",
    "\n",
    "run(g3)"
   ]
  },
  {
   "cell_type": "markdown",
   "metadata": {
    "id": "vIyXoMSdcIpL"
   },
   "source": [
    "We can also implement a n-ary pipe (while gladly taking the chance of using `reduce`):"
   ]
  },
  {
   "cell_type": "code",
   "execution_count": null,
   "metadata": {
    "id": "rnaRb_ricqJr"
   },
   "outputs": [],
   "source": [
    "from functools import reduce\n",
    "\n",
    "def pipes(*gens):\n",
    "  def f(cont):\n",
    "    def g(state, gens=gens):\n",
    "      gen, *gens = gens\n",
    "    # new_cont = gen2(gen3(gen4(...genN(cont))))\n",
    "      new_cont = reduce(lambda acc, g: g(acc), gens[::-1], cont)\n",
    "      return gen(new_cont)(state)\n",
    "    return g\n",
    "  return f"
   ]
  },
  {
   "cell_type": "code",
   "execution_count": null,
   "metadata": {
    "colab": {
     "base_uri": "https://localhost:8080/"
    },
    "executionInfo": {
     "elapsed": 179,
     "status": "ok",
     "timestamp": 1678352009604,
     "user": {
      "displayName": "Joao Pedro Neto",
      "userId": "16588413076175252494"
     },
     "user_tz": 0
    },
    "id": "CagUnYw7cN2g",
    "outputId": "7dbbaa2d-2b48-4681-8b48-5e89b3e53624"
   },
   "outputs": [
    {
     "data": {
      "text/plain": [
       "[[2, 1, 4, 2, 1]]"
      ]
     },
     "execution_count": 79,
     "metadata": {},
     "output_type": "execute_result"
    }
   ],
   "source": [
    "g4 = pipes(g1, g2, literal(4), g3)\n",
    "run(g4)"
   ]
  },
  {
   "cell_type": "markdown",
   "metadata": {
    "id": "EFqt2mDnS7Pn"
   },
   "source": [
    "The next two generators are useful for backtracking purposes in defining a successful branch and a failed branch,"
   ]
  },
  {
   "cell_type": "code",
   "execution_count": null,
   "metadata": {
    "id": "HAxO9kg4TPbR"
   },
   "outputs": [],
   "source": [
    "success = lambda cont: lambda state: cont(state)\n",
    "fail    = lambda cont: lambda state: []"
   ]
  },
  {
   "cell_type": "markdown",
   "metadata": {
    "id": "0wtWi9w3TQym"
   },
   "source": [
    "Generator `do` pipes a given generator a given number of times,"
   ]
  },
  {
   "cell_type": "code",
   "execution_count": null,
   "metadata": {
    "id": "ZU5okfVU_elw"
   },
   "outputs": [],
   "source": [
    "def do(gen, n):\n",
    "  if n==0:\n",
    "    return success\n",
    "  return pipe(do(gen, n-1), gen)"
   ]
  },
  {
   "cell_type": "code",
   "execution_count": null,
   "metadata": {
    "colab": {
     "base_uri": "https://localhost:8080/"
    },
    "executionInfo": {
     "elapsed": 214,
     "status": "ok",
     "timestamp": 1678352014609,
     "user": {
      "displayName": "Joao Pedro Neto",
      "userId": "16588413076175252494"
     },
     "user_tz": 0
    },
    "id": "pccBdXjRTbk5",
    "outputId": "923516f3-d448-44fb-f137-045ad53a808c"
   },
   "outputs": [
    {
     "data": {
      "text/plain": [
       "[[2, 1, 2, 1, 2, 1]]"
      ]
     },
     "execution_count": 82,
     "metadata": {},
     "output_type": "execute_result"
    }
   ],
   "source": [
    "g5 = do(g3, 3)  \n",
    "run(g5)"
   ]
  },
  {
   "cell_type": "markdown",
   "metadata": {
    "id": "0kbplSdnTfn1"
   },
   "source": [
    "Generator `either` is the one introducing non-determinism into the computation. It receives a list of generators and produces a generator which behaves as a non-determinist choice between all given generators.\n",
    "\n",
    "The continuation is passed to all generators, in depth-first search style."
   ]
  },
  {
   "cell_type": "code",
   "execution_count": null,
   "metadata": {
    "id": "AJ-53msvIP3p"
   },
   "outputs": [],
   "source": [
    "from operator import add\n",
    "\n",
    "# def either(gen1, gen2):\n",
    "#   \"\"\" just two generators \"\"\"\n",
    "#   return lambda cont: lambda state: gen1(cont)(state) + gen2(cont)(state)\n",
    "\n",
    "def either(*gens):\n",
    "  return lambda cont: lambda state: add(*[gen(cont)(state) for gen in gens])"
   ]
  },
  {
   "cell_type": "markdown",
   "metadata": {
    "id": "ZSiydvZ_U53Z"
   },
   "source": [
    "One use case of `either`: generator `choice` prepends values $n$ to $1$ to all given states,"
   ]
  },
  {
   "cell_type": "code",
   "execution_count": null,
   "metadata": {
    "id": "OV9lIuuYACRx"
   },
   "outputs": [],
   "source": [
    "def choice(n):\n",
    "  if n==0:\n",
    "    return fail\n",
    "  return either(literal(n), choice(n-1))"
   ]
  },
  {
   "cell_type": "markdown",
   "metadata": {
    "id": "UuZ7h0lcVF6F"
   },
   "source": [
    "To produce the cartesian product of values $1,2,3$"
   ]
  },
  {
   "cell_type": "code",
   "execution_count": null,
   "metadata": {
    "colab": {
     "base_uri": "https://localhost:8080/"
    },
    "executionInfo": {
     "elapsed": 6,
     "status": "ok",
     "timestamp": 1678352019464,
     "user": {
      "displayName": "Joao Pedro Neto",
      "userId": "16588413076175252494"
     },
     "user_tz": 0
    },
    "id": "a3brwtPdVLPZ",
    "outputId": "d8905302-f58e-4e03-e3ac-7cfd2c8ea6dd"
   },
   "outputs": [
    {
     "data": {
      "text/plain": [
       "[[3, 3, 3],\n",
       " [2, 3, 3],\n",
       " [1, 3, 3],\n",
       " [3, 2, 3],\n",
       " [2, 2, 3],\n",
       " [1, 2, 3],\n",
       " [3, 1, 3],\n",
       " [2, 1, 3],\n",
       " [1, 1, 3],\n",
       " [3, 3, 2],\n",
       " [2, 3, 2],\n",
       " [1, 3, 2],\n",
       " [3, 2, 2],\n",
       " [2, 2, 2],\n",
       " [1, 2, 2],\n",
       " [3, 1, 2],\n",
       " [2, 1, 2],\n",
       " [1, 1, 2],\n",
       " [3, 3, 1],\n",
       " [2, 3, 1],\n",
       " [1, 3, 1],\n",
       " [3, 2, 1],\n",
       " [2, 2, 1],\n",
       " [1, 2, 1],\n",
       " [3, 1, 1],\n",
       " [2, 1, 1],\n",
       " [1, 1, 1]]"
      ]
     },
     "execution_count": 85,
     "metadata": {},
     "output_type": "execute_result"
    }
   ],
   "source": [
    "g6 = do(choice(3), 3)\n",
    "run(g6)"
   ]
  },
  {
   "cell_type": "markdown",
   "metadata": {
    "id": "eaFPD2AeV6c2"
   },
   "source": [
    "The next generator filters states by predicate:"
   ]
  },
  {
   "cell_type": "code",
   "execution_count": null,
   "metadata": {
    "id": "KjKCzbnoKR9E"
   },
   "outputs": [],
   "source": [
    "def filt(p):\n",
    "  return lambda cont: lambda state: cont(state) if p(state) else []"
   ]
  },
  {
   "cell_type": "markdown",
   "metadata": {
    "id": "MHkQgxM7WIMh"
   },
   "source": [
    "The next use case filters the previous cartesian product by selecting only those states starting with value $1$,"
   ]
  },
  {
   "cell_type": "code",
   "execution_count": null,
   "metadata": {
    "colab": {
     "base_uri": "https://localhost:8080/"
    },
    "executionInfo": {
     "elapsed": 2,
     "status": "ok",
     "timestamp": 1678352022679,
     "user": {
      "displayName": "Joao Pedro Neto",
      "userId": "16588413076175252494"
     },
     "user_tz": 0
    },
    "id": "II_fnpw8WA25",
    "outputId": "3aae04a2-8965-4219-f216-48ff4791b453"
   },
   "outputs": [
    {
     "data": {
      "text/plain": [
       "[[1, 3, 3],\n",
       " [1, 2, 3],\n",
       " [1, 1, 3],\n",
       " [1, 3, 2],\n",
       " [1, 2, 2],\n",
       " [1, 1, 2],\n",
       " [1, 3, 1],\n",
       " [1, 2, 1],\n",
       " [1, 1, 1]]"
      ]
     },
     "execution_count": 87,
     "metadata": {},
     "output_type": "execute_result"
    }
   ],
   "source": [
    "first_one_only = lambda st: st[0]==1\n",
    "\n",
    "run(pipe(g6, filt(first_one_only)))"
   ]
  },
  {
   "cell_type": "markdown",
   "metadata": {
    "id": "rbBKB3Xck42i"
   },
   "source": [
    "Let's produce the Pythagorean triples up to a certain limit:"
   ]
  },
  {
   "cell_type": "code",
   "execution_count": null,
   "metadata": {
    "colab": {
     "base_uri": "https://localhost:8080/"
    },
    "executionInfo": {
     "elapsed": 4,
     "status": "ok",
     "timestamp": 1678352901897,
     "user": {
      "displayName": "Joao Pedro Neto",
      "userId": "16588413076175252494"
     },
     "user_tz": 0
    },
    "id": "vl1pAFq-k5Ws",
    "outputId": "b33c4b44-637a-4690-d6c6-d135fef4e805"
   },
   "outputs": [
    {
     "data": {
      "text/plain": [
       "[[14, 48, 50],\n",
       " [30, 40, 50],\n",
       " [27, 36, 45],\n",
       " [9, 40, 41],\n",
       " [24, 32, 40],\n",
       " [15, 36, 39],\n",
       " [12, 35, 37],\n",
       " [21, 28, 35],\n",
       " [16, 30, 34],\n",
       " [18, 24, 30],\n",
       " [20, 21, 29],\n",
       " [10, 24, 26],\n",
       " [7, 24, 25],\n",
       " [15, 20, 25],\n",
       " [12, 16, 20],\n",
       " [8, 15, 17],\n",
       " [9, 12, 15],\n",
       " [5, 12, 13],\n",
       " [6, 8, 10],\n",
       " [3, 4, 5]]"
      ]
     },
     "execution_count": 93,
     "metadata": {},
     "output_type": "execute_result"
    }
   ],
   "source": [
    "def less_than(state):\n",
    "  return len(state)<2 or state[0]<state[1]\n",
    "\n",
    "def is_pyth(state):\n",
    "  a,b,c = state\n",
    "  return a*a + b*b == c*c\n",
    "\n",
    "def pyth_triples(limit):\n",
    "  pick_number = pipe(choice(limit), filt(less_than))\n",
    "  pick_3 = do(pick_number, 3)\n",
    "  return run(pipe(pick_3, filt(is_pyth)))\n",
    "\n",
    "pyth_triples(50)  "
   ]
  },
  {
   "cell_type": "markdown",
   "metadata": {
    "id": "GGu3mrl4Wa52"
   },
   "source": [
    "### The n-Queen problem"
   ]
  },
  {
   "cell_type": "markdown",
   "metadata": {
    "id": "oXiDSd5eWdbH"
   },
   "source": [
    "Let's check how to use these combinators to solve the famous n-queen problem.\n",
    "\n",
    "The next standard Python function will be used to prune invalid branches,"
   ]
  },
  {
   "cell_type": "code",
   "execution_count": null,
   "metadata": {
    "id": "nfaOKFBaXTK4"
   },
   "outputs": [],
   "source": [
    "def valid(state):\n",
    "  \"\"\" checks if first queen does not threat the other queens \"\"\"\n",
    "  for i in range(1,len(state)):\n",
    "    if ( state[0] == state[i] or       # if same line\n",
    "         abs(state[0]-state[i]) == i): # or same diagonal\n",
    "      return False\n",
    "  return True"
   ]
  },
  {
   "cell_type": "markdown",
   "metadata": {
    "id": "sYnjaJqqY-PA"
   },
   "source": [
    "With all these tools, backtracking the n-queen problem can be solved by applying the following combinators:"
   ]
  },
  {
   "cell_type": "code",
   "execution_count": null,
   "metadata": {
    "colab": {
     "base_uri": "https://localhost:8080/"
    },
    "executionInfo": {
     "elapsed": 10,
     "status": "ok",
     "timestamp": 1678298771489,
     "user": {
      "displayName": "Joao Pedro Neto",
      "userId": "16588413076175252494"
     },
     "user_tz": 0
    },
    "id": "BT9TOIYbOelv",
    "outputId": "5fb96b92-f5ac-4f4d-dabb-b516c55c90be"
   },
   "outputs": [
    {
     "name": "stdout",
     "output_type": "stream",
     "text": [
      "[2, 4, 6, 1, 3, 5]\n",
      "[3, 6, 2, 5, 1, 4]\n",
      "[4, 1, 5, 2, 6, 3]\n",
      "[5, 3, 1, 6, 4, 2]\n"
     ]
    }
   ],
   "source": [
    "def queens(n):\n",
    "  place_a_queen = pipe(choice(n), filt(valid))\n",
    "  return run(do(place_a_queen, n))\n",
    "\n",
    "print(*queens(6), sep='\\n')"
   ]
  },
  {
   "cell_type": "markdown",
   "metadata": {
    "id": "CNL-AEdHAmq8"
   },
   "source": [
    "## Making Streams"
   ]
  },
  {
   "cell_type": "markdown",
   "metadata": {
    "id": "jraqJU8BhNcO"
   },
   "source": [
    "[Allison90](http://www.allisons.org/ll/Publications/1990BCJ/) also presents a way to implement streams as continuations. A stream is a function which produces the first value of a sequence and another stream; the latter represents the rest of the sequence."
   ]
  },
  {
   "cell_type": "markdown",
   "metadata": {
    "id": "UG9lLqRT9BVm"
   },
   "source": [
    "Herein, there are three concepts:\n",
    "\n",
    "+ Sources produce the first value, and is given a sink to use that value\n",
    "\n",
    "+ Agents receive value and send new modified values\n",
    "\n",
    "+ Sinks consume a value, and is given a source that is used to produce more values.\n",
    "\n",
    "Their types are:\n",
    "\n",
    "     source :: sink -> list\n",
    "     sink :: int -> source -> list\n",
    "     agent :: sink -> sink"
   ]
  },
  {
   "cell_type": "markdown",
   "metadata": {
    "id": "mxeePf0T8Xnv"
   },
   "source": [
    "The next implementations are very recursive intensive. In Python it's easy to max the call stack. These functions are more appropriate for languages with automatic tail-call optimization."
   ]
  },
  {
   "cell_type": "markdown",
   "metadata": {
    "id": "2nJQaRNmiHph"
   },
   "source": [
    "Some basic sources and sinks:"
   ]
  },
  {
   "cell_type": "code",
   "execution_count": null,
   "metadata": {
    "id": "Jav8RNxX9tua"
   },
   "outputs": [],
   "source": [
    "null_src = lambda sink: []\n",
    "\n",
    "# basic sinks\n",
    "collect  = lambda n: lambda src: [n]+src(collect)\n",
    "dev_null = lambda n: lambda src: src(dev_null) # abandon hope all ye who enter here"
   ]
  },
  {
   "cell_type": "markdown",
   "metadata": {
    "id": "29rYHCi5iMbi"
   },
   "source": [
    "The first source produces values from $a$ to $b$, a bit like Python's `range`."
   ]
  },
  {
   "cell_type": "code",
   "execution_count": null,
   "metadata": {
    "id": "y4z-7mMV84-Q"
   },
   "outputs": [],
   "source": [
    "# interval :: (int, int) -> source\n",
    "def interval(a, b):\n",
    "  def f(sink):\n",
    "    if a <= b:\n",
    "      return sink(a)(interval(a+1, b))\n",
    "    else:\n",
    "      return []\n",
    "  return f"
   ]
  },
  {
   "cell_type": "code",
   "execution_count": null,
   "metadata": {
    "colab": {
     "base_uri": "https://localhost:8080/"
    },
    "executionInfo": {
     "elapsed": 189,
     "status": "ok",
     "timestamp": 1678351435700,
     "user": {
      "displayName": "Joao Pedro Neto",
      "userId": "16588413076175252494"
     },
     "user_tz": 0
    },
    "id": "qlZvlPb7-kBW",
    "outputId": "9143152b-5899-4249-93f3-7f9706940f9e"
   },
   "outputs": [
    {
     "name": "stdout",
     "output_type": "stream",
     "text": [
      "[1, 2, 3, 4, 5, 6, 7, 8, 9, 10]\n",
      "[]\n"
     ]
    }
   ],
   "source": [
    "print(interval(1,10)(collect))\n",
    "print(interval(1,10)(dev_null))"
   ]
  },
  {
   "cell_type": "markdown",
   "metadata": {
    "id": "GZpJxziaiysS"
   },
   "source": [
    "Function `run` links a source, an agent and a link:"
   ]
  },
  {
   "cell_type": "code",
   "execution_count": null,
   "metadata": {
    "id": "qO7SBljNBAgD"
   },
   "outputs": [],
   "source": [
    "# run :: source -> agent -> source\n",
    "# run :: source -> agent -> sink -> list\n",
    "run = lambda src: lambda agent: lambda sink: src(agent(sink))"
   ]
  },
  {
   "cell_type": "markdown",
   "metadata": {
    "id": "dakYD5dXi6uF"
   },
   "source": [
    "The next functions implement agents that return even and odd indexed stream values (streams here are 1-indexed),"
   ]
  },
  {
   "cell_type": "code",
   "execution_count": null,
   "metadata": {
    "id": "YBg1en_U-5dS"
   },
   "outputs": [],
   "source": [
    "def even(sink):\n",
    "  return lambda n: lambda src: src(odd(sink))\n",
    "\n",
    "def odd(sink):\n",
    "  return lambda n: lambda src: sink(n)(lambda sink2: src(even(sink2)))"
   ]
  },
  {
   "cell_type": "code",
   "execution_count": null,
   "metadata": {
    "colab": {
     "base_uri": "https://localhost:8080/"
    },
    "executionInfo": {
     "elapsed": 3,
     "status": "ok",
     "timestamp": 1678351546483,
     "user": {
      "displayName": "Joao Pedro Neto",
      "userId": "16588413076175252494"
     },
     "user_tz": 0
    },
    "id": "BkPlGwRlBN8l",
    "outputId": "8ddca7f4-5eda-4407-c41d-6694b1757d15"
   },
   "outputs": [
    {
     "data": {
      "text/plain": [
       "[1, 3, 5, 7, 9]"
      ]
     },
     "execution_count": 59,
     "metadata": {},
     "output_type": "execute_result"
    }
   ],
   "source": [
    "run(interval(1,10))(odd)(collect)"
   ]
  },
  {
   "cell_type": "markdown",
   "metadata": {
    "id": "-3eMm1nNjEUO"
   },
   "source": [
    "Agent `pipe` creates a sequence of two agents,"
   ]
  },
  {
   "cell_type": "code",
   "execution_count": null,
   "metadata": {
    "id": "JZ5A03DkBnar"
   },
   "outputs": [],
   "source": [
    "# pipe :: agent -> agent -> agent\n",
    "def pipe(agent1, agent2):\n",
    "  return lambda sink: lambda n: lambda src: agent1(agent2(sink))(n)(src)"
   ]
  },
  {
   "cell_type": "code",
   "execution_count": null,
   "metadata": {
    "colab": {
     "base_uri": "https://localhost:8080/"
    },
    "executionInfo": {
     "elapsed": 3,
     "status": "ok",
     "timestamp": 1678351585237,
     "user": {
      "displayName": "Joao Pedro Neto",
      "userId": "16588413076175252494"
     },
     "user_tz": 0
    },
    "id": "xVzIreIiCJ90",
    "outputId": "891c591f-a037-492d-ddff-7794f48b9043"
   },
   "outputs": [
    {
     "data": {
      "text/plain": [
       "[3, 7]"
      ]
     },
     "execution_count": 61,
     "metadata": {},
     "output_type": "execute_result"
    }
   ],
   "source": [
    "run(interval(1,10))(pipe(odd, even))(collect)"
   ]
  },
  {
   "cell_type": "markdown",
   "metadata": {
    "id": "rFZsZ6yJjVtg"
   },
   "source": [
    "`alternate` takes two sources and creates a new one that alternates between their values,"
   ]
  },
  {
   "cell_type": "code",
   "execution_count": null,
   "metadata": {
    "id": "UVYF-oOxb0rx"
   },
   "outputs": [],
   "source": [
    "# alternate :: (source, source) -> source\n",
    "def alternate(src1, src2):\n",
    "  return lambda sink: src1(lambda n: lambda src1a: \n",
    "                                sink(n)(alternate(src2, src1a)))"
   ]
  },
  {
   "cell_type": "code",
   "execution_count": null,
   "metadata": {
    "colab": {
     "base_uri": "https://localhost:8080/"
    },
    "executionInfo": {
     "elapsed": 169,
     "status": "ok",
     "timestamp": 1678351657702,
     "user": {
      "displayName": "Joao Pedro Neto",
      "userId": "16588413076175252494"
     },
     "user_tz": 0
    },
    "id": "vuQaC8ItceYn",
    "outputId": "41ebde3a-4c79-4f75-a9ef-76bd323a03b8"
   },
   "outputs": [
    {
     "name": "stdout",
     "output_type": "stream",
     "text": [
      "[11, 21, 12, 22, 13, 23, 14, 24, 15, 25, 16, 26, 17, 27, 18, 28, 19, 29, 20, 30]\n"
     ]
    }
   ],
   "source": [
    "s1 = interval(11,20)\n",
    "s2 = interval(21,30)\n",
    "print(alternate(s1,s2)(collect))"
   ]
  },
  {
   "cell_type": "markdown",
   "metadata": {
    "id": "_zVuRvd5jgP_"
   },
   "source": [
    "Funciton `tee` makes two copies of a given source,"
   ]
  },
  {
   "cell_type": "code",
   "execution_count": null,
   "metadata": {
    "id": "xb6WAZcNdSno"
   },
   "outputs": [],
   "source": [
    "# tee :: source -> (source, source)\n",
    "def tee(src):\n",
    "  return (src, src)"
   ]
  },
  {
   "cell_type": "code",
   "execution_count": null,
   "metadata": {
    "colab": {
     "base_uri": "https://localhost:8080/"
    },
    "executionInfo": {
     "elapsed": 3,
     "status": "ok",
     "timestamp": 1678351687047,
     "user": {
      "displayName": "Joao Pedro Neto",
      "userId": "16588413076175252494"
     },
     "user_tz": 0
    },
    "id": "EgUj9fxLd9kz",
    "outputId": "beab93c1-f3cc-4536-d407-fef1ef624a8a"
   },
   "outputs": [
    {
     "name": "stdout",
     "output_type": "stream",
     "text": [
      "[11, 11, 12, 12, 13, 13, 14, 14, 15, 15, 16, 16, 17, 17, 18, 18, 19, 19, 20, 20]\n"
     ]
    }
   ],
   "source": [
    "print(alternate(*tee(s1))(collect))"
   ]
  },
  {
   "cell_type": "markdown",
   "metadata": {
    "id": "_pFekuWujm7S"
   },
   "source": [
    "Function `split` is an inverse function of `alternate`,"
   ]
  },
  {
   "cell_type": "code",
   "execution_count": null,
   "metadata": {
    "id": "XAnKlUJaeLIL"
   },
   "outputs": [],
   "source": [
    "# split :: source -> (source, source)\n",
    "def split(src):\n",
    "  return run(src)(odd), run(src)(even)"
   ]
  },
  {
   "cell_type": "code",
   "execution_count": null,
   "metadata": {
    "colab": {
     "base_uri": "https://localhost:8080/"
    },
    "executionInfo": {
     "elapsed": 4,
     "status": "ok",
     "timestamp": 1678351731649,
     "user": {
      "displayName": "Joao Pedro Neto",
      "userId": "16588413076175252494"
     },
     "user_tz": 0
    },
    "id": "pqHB6kfMedQX",
    "outputId": "3b4655c1-e0d9-4ca3-e835-9cf2417e1156"
   },
   "outputs": [
    {
     "name": "stdout",
     "output_type": "stream",
     "text": [
      "[12, 11, 14, 13, 16, 15, 18, 17, 20, 19]\n"
     ]
    }
   ],
   "source": [
    "s1 = interval(11,20)\n",
    "s2, s3 = split(s1)\n",
    "print(alternate(s3,s2)(collect))"
   ]
  },
  {
   "cell_type": "markdown",
   "metadata": {
    "id": "zxtzXty7j1-0"
   },
   "source": [
    "`filt` filters the received values by a given predicate,"
   ]
  },
  {
   "cell_type": "code",
   "execution_count": null,
   "metadata": {
    "id": "2WYodeKEWWKG"
   },
   "outputs": [],
   "source": [
    "# filt :: (int -> bool) -> agent\n",
    "def filt(p):\n",
    "  def f(sink):\n",
    "    def g(n):\n",
    "      def h(src):\n",
    "        if p(n):\n",
    "          return sink(n)(run(src)(filt(p)))\n",
    "        else:\n",
    "          return run(src)(filt(p))(sink)\n",
    "      return h\n",
    "    return g\n",
    "  return f"
   ]
  },
  {
   "cell_type": "code",
   "execution_count": null,
   "metadata": {
    "colab": {
     "base_uri": "https://localhost:8080/"
    },
    "executionInfo": {
     "elapsed": 5,
     "status": "ok",
     "timestamp": 1678351779871,
     "user": {
      "displayName": "Joao Pedro Neto",
      "userId": "16588413076175252494"
     },
     "user_tz": 0
    },
    "id": "VTwi2M-BX804",
    "outputId": "33a961cc-16ad-40ea-92b8-3f337715e72b"
   },
   "outputs": [
    {
     "data": {
      "text/plain": [
       "[2, 4, 6, 8, 10]"
      ]
     },
     "execution_count": 70,
     "metadata": {},
     "output_type": "execute_result"
    }
   ],
   "source": [
    "run(interval(1,10))(filt(lambda n: n%2==0))(collect)"
   ]
  },
  {
   "cell_type": "markdown",
   "metadata": {
    "id": "6gz2127SceAs"
   },
   "source": [
    "As a typical example in stream-land, let's source the ancient Sieve of Eratosthenes,"
   ]
  },
  {
   "cell_type": "code",
   "execution_count": null,
   "metadata": {
    "id": "GG--XqY8YRjy"
   },
   "outputs": [],
   "source": [
    "# sieve :: agent \n",
    "def sieve(sink):\n",
    "  return lambda n: lambda src: sink(n)(run(src)(pipe(filt(lambda m: m%n!=0), sieve)))"
   ]
  },
  {
   "cell_type": "code",
   "execution_count": null,
   "metadata": {
    "colab": {
     "base_uri": "https://localhost:8080/"
    },
    "executionInfo": {
     "elapsed": 174,
     "status": "ok",
     "timestamp": 1678351844020,
     "user": {
      "displayName": "Joao Pedro Neto",
      "userId": "16588413076175252494"
     },
     "user_tz": 0
    },
    "id": "CAkr4k9MZZbO",
    "outputId": "dabec6c4-2cb6-41d0-cd15-95e3b2aeb0e0"
   },
   "outputs": [
    {
     "data": {
      "text/plain": [
       "[2, 3, 5, 7, 11, 13, 17, 19, 23, 29, 31, 37, 41, 43, 47, 53, 59]"
      ]
     },
     "execution_count": 72,
     "metadata": {},
     "output_type": "execute_result"
    }
   ],
   "source": [
    "run(interval(2,60))(sieve)(collect)"
   ]
  },
  {
   "cell_type": "markdown",
   "metadata": {
    "id": "G7xmJ9Oxg4Ry"
   },
   "source": [
    "Some ending words from the article:\n",
    "\n",
    "> Continuations allow the programmer to specify the flow of control of a program (this is why they are useful in denotational semantics). They allow backtracking programs such as the generators to be written. They also allow the stream processing functions - sources, sinks and agents - to pass control between each other as coroutines or as processes. At first sight functional languages seem to be poor in control mechanisms, possessing only if, application, composition and recursion. In reality this simplicity is richness and continuations are one way of getting a desired control regime.\n",
    ">\n",
    "> Generators and stream processing are important models in solving certain types of problem. Continuations bring them into pure functional programming without the need for new language mechanisms.\n",
    ">\n",
    "> Continuations involve a novel style of programming but the programs that result (n-queens, primes) are often close to their English descriptions. They have something of an imperative flavour - do this and then do that - but they are functional and free of side-effects. The programs can be efficiently implemented by optimisations such as tail-recursion. "
   ]
  },
  {
   "cell_type": "markdown",
   "metadata": {
    "id": "ZQMMRY3MOreY"
   },
   "source": [
    "## A Logic Checker"
   ]
  },
  {
   "cell_type": "markdown",
   "metadata": {
    "id": "MA7FyxTrXV_G"
   },
   "source": [
    "One application where continuations are useful is search.\n",
    "\n",
    "Denys Duchier shows [here](https://www.ps.uni-saarland.de/~duchier/python/continuations.html) that search can be achieved by passing _two_ continuations:\n",
    "\n",
    "+ a success continuation, used to progress the search\n",
    "\n",
    "+ a failure continuation, to backtrack to a previous choice\n",
    "\n",
    "Something like\n",
    "\n",
    "```python\n",
    "  def search(state, yes, no):\n",
    "    if check(state):\n",
    "      return yes(state, no)\n",
    "    else:\n",
    "      return no()\n",
    "```\n",
    "\n",
    "To implement searching by a second path if the first failed,\n",
    "\n",
    "```python\n",
    "  def search(state, yes, no):\n",
    "    if check(state):\n",
    "      return path1.search(state, \n",
    "                          yes, \n",
    "                          lambda state,yes,no: path2.search(info, yes, no))\n",
    "```\n"
   ]
  },
  {
   "cell_type": "markdown",
   "metadata": {
    "id": "9ZNyGxLzHNa_"
   },
   "source": [
    "The next program, written by Denys Duchier, shows how to use this method to find logical assignments to validate a boolean expression."
   ]
  },
  {
   "cell_type": "code",
   "execution_count": null,
   "metadata": {
    "id": "zasRZh0k-ngQ"
   },
   "outputs": [],
   "source": [
    "# Copyright (c) Feb 2000, by Denys Duchier, Universitaet des Saarlandes\n",
    "\n",
    "\"\"\"\n",
    "This module implements a validity checker for propositional\n",
    "formulae.  Its purpose is to illustrate programming with\n",
    "continuations to implement a `backtracking' search engine.\n",
    "\n",
    "A formula is represented by an object which responds to\n",
    "the following methods:\n",
    "\n",
    "    self.satisfy(environment,yes,no)\n",
    "    self.falsify(environment,yes,no)\n",
    "\n",
    "`environment' is a partial assignment of truth values to propositional\n",
    "variables. `satisfy' attempts to make the formula true, possibly\n",
    "by appropriately extending the partial assignment. `no' is the\n",
    "failure continuation.  It takes no argument, and resumes search\n",
    "in an alternative branch of an earlier choice point. `yes' is the\n",
    "success continuation and takes 2 arguments: the current partial\n",
    "assignment environment, and the current failure continuation.\n",
    "\"\"\""
   ]
  },
  {
   "cell_type": "markdown",
   "metadata": {
    "id": "yX6E4rXrHdag"
   },
   "source": [
    "The superclass is `Formula` that includes method `isValid` that tries to falsify an expression. If it can't, then the expression is a tautology."
   ]
  },
  {
   "cell_type": "code",
   "execution_count": 15,
   "metadata": {
    "executionInfo": {
     "elapsed": 5,
     "status": "ok",
     "timestamp": 1678546271218,
     "user": {
      "displayName": "Joao Pedro Neto",
      "userId": "16588413076175252494"
     },
     "user_tz": 0
    },
    "id": "4s2BBLMW3HT7"
   },
   "outputs": [],
   "source": [
    "class Formula:\n",
    "  def isValid(self):\n",
    "    \"\"\"a formula is valid iff it cannot be falsified\"\"\"\n",
    "    return self.falsify({},\n",
    "                        lambda environment,no: False,\n",
    "                        lambda               : True)\n",
    "    \n",
    "  _tracing = id # print\n",
    "\n",
    "  # satisfy and falsify are wrappers that allow tracing\n",
    "  # _satisfy and _falsify do the actual work\n",
    "  def satisfy(self, environment, yes, no):\n",
    "    Formula._tracing(f'satisfy {self} environment:{environment}')\n",
    "    return self._satisfy(environment, yes, no)\n",
    "\n",
    "  def falsify(self, environment, yes, no):\n",
    "    Formula._tracing(f'falsify {self} environment:{environment}')\n",
    "    return self._falsify(environment, yes, no)"
   ]
  },
  {
   "cell_type": "markdown",
   "metadata": {
    "id": "eGiIBQCeH-wM"
   },
   "source": [
    "The next subclasses implement how to satisfy or falsify the respective logical operator:"
   ]
  },
  {
   "cell_type": "code",
   "execution_count": 3,
   "metadata": {
    "executionInfo": {
     "elapsed": 346,
     "status": "ok",
     "timestamp": 1678545826350,
     "user": {
      "displayName": "Joao Pedro Neto",
      "userId": "16588413076175252494"
     },
     "user_tz": 0
    },
    "id": "1erkUNJV4_fF"
   },
   "outputs": [],
   "source": [
    "class Negation(Formula):\n",
    "  def __init__(self, p):\n",
    "    self.p = p\n",
    "\n",
    "  def __str__(self):\n",
    "    return f'¬{self.p}'\n",
    "\n",
    "  def _satisfy(self, environment, yes, no):\n",
    "    \"\"\"to satisfy ¬P we must falsify P\"\"\"\n",
    "    return self.p.falsify(environment, yes, no)\n",
    "\n",
    "  def _falsify(self, environment, yes, no):\n",
    "    \"\"\"to falsify ¬P we must satisfy P\"\"\"\n",
    "    return self.p.satisfy(environment, yes, no)"
   ]
  },
  {
   "cell_type": "code",
   "execution_count": 5,
   "metadata": {
    "executionInfo": {
     "elapsed": 364,
     "status": "ok",
     "timestamp": 1678545847151,
     "user": {
      "displayName": "Joao Pedro Neto",
      "userId": "16588413076175252494"
     },
     "user_tz": 0
    },
    "id": "9IDyOBBN3JyF"
   },
   "outputs": [],
   "source": [
    "class Conjunction(Formula):\n",
    "  def __init__(self, p, q):\n",
    "    self.p = p\n",
    "    self.q = q\n",
    "\n",
    "  def __str__(self):\n",
    "    return f'({self.p} ∧ {self.q})'\n",
    "\n",
    "  def _satisfy(self, environment, yes, no):\n",
    "    \"\"\"to satisfy P∧Q we must satisfy both P and Q\"\"\"\n",
    "    return self.p.satisfy(\n",
    "      environment,\n",
    "      lambda environment,no,self=self,yes=yes: \n",
    "        self.q.satisfy(environment, yes, no),\n",
    "      no\n",
    "    )\n",
    "\n",
    "  def _falsify(self, environment, yes, no):\n",
    "    \"\"\"to falsify P∧Q we can falsify either P or Q\"\"\"\n",
    "    return self.p.falsify(\n",
    "      environment, \n",
    "      yes,\n",
    "      lambda self=self,environment=environment,yes=yes,no=no: \n",
    "        self.q.falsify(environment, yes, no)\n",
    "    )"
   ]
  },
  {
   "cell_type": "code",
   "execution_count": 6,
   "metadata": {
    "executionInfo": {
     "elapsed": 4,
     "status": "ok",
     "timestamp": 1678545859204,
     "user": {
      "displayName": "Joao Pedro Neto",
      "userId": "16588413076175252494"
     },
     "user_tz": 0
    },
    "id": "t1BSRo_y40bn"
   },
   "outputs": [],
   "source": [
    "class Disjunction(Formula):\n",
    "  def __init__(self,p,q):\n",
    "    self.p = p\n",
    "    self.q = q\n",
    "\n",
    "  def __str__(self):\n",
    "    return f'({self.p} ∨ {self.q})'\n",
    "\n",
    "  def _satisfy(self, environment, yes, no):\n",
    "    \"\"\"to satisfy P∨Q we can satisfy either P or Q\"\"\"\n",
    "    return self.p.satisfy(\n",
    "      environment, \n",
    "      yes,\n",
    "      lambda self=self,environment=environment,yes=yes,no=no: \n",
    "        self.q.satisfy(environment, yes, no)\n",
    "    )\n",
    "\n",
    "  def _falsify(self, environment, yes, no):\n",
    "    \"\"\"to falsify P∨Q we must falsify both P and Q\"\"\"\n",
    "    return self.p.falsify(\n",
    "      environment,\n",
    "      lambda environment,no,self=self,yes=yes: \n",
    "        self.q.falsify(environment, yes, no),\n",
    "      no\n",
    "    )"
   ]
  },
  {
   "cell_type": "markdown",
   "metadata": {
    "id": "qLO_7hVnITu1"
   },
   "source": [
    "Class `Variable` is where the environment is populated with assignments"
   ]
  },
  {
   "cell_type": "code",
   "execution_count": 7,
   "metadata": {
    "executionInfo": {
     "elapsed": 687,
     "status": "ok",
     "timestamp": 1678545966526,
     "user": {
      "displayName": "Joao Pedro Neto",
      "userId": "16588413076175252494"
     },
     "user_tz": 0
    },
    "id": "39anfiaX5ivt"
   },
   "outputs": [],
   "source": [
    "class Variable(Formula):\n",
    "  def __init__(self,v):\n",
    "    self.v = v\n",
    "\n",
    "  def __str__(self):\n",
    "    return self.v\n",
    "\n",
    "  def bind(self, value, environment):\n",
    "    \"\"\"returns a new partial assignment that additionally\n",
    "       assigns the truth 'value' to this propositional variable\"\"\"\n",
    "    environment = environment.copy()\n",
    "    environment[self.v] = value\n",
    "    return environment\n",
    "\n",
    "  def assign(self, value, environment, yes, no):\n",
    "    \"\"\"attempts to assign the given truth value to this proposition\n",
    "       variable.  If environment already contains a contradictory\n",
    "       assignment, the failure continuation is invoked. Otherwise, environment\n",
    "       is extended if necessary and the success continuation is invoked.\"\"\"\n",
    "    if self.v in environment:\n",
    "      return yes(environment, no) if environment[self.v]==value else no()\n",
    "    else:\n",
    "      return yes(self.bind(value, environment), no)\n",
    "\n",
    "  def _satisfy(self, environment, yes, no):\n",
    "    \"\"\"to satisfy a propositional variable, we must assign it true\"\"\"\n",
    "    return self.assign(True, environment, yes, no)\n",
    "\n",
    "  def _falsify(self, environment, yes, no):\n",
    "    \"\"\"to falsify a propositional variable, we must assign it false\"\"\"\n",
    "    return self.assign(False, environment, yes, no)"
   ]
  },
  {
   "cell_type": "markdown",
   "metadata": {
    "id": "oiXiny6EIu9f"
   },
   "source": [
    "The next auxiliary functions are useful to facilitate the writing of logical formulas:"
   ]
  },
  {
   "cell_type": "code",
   "execution_count": 8,
   "metadata": {
    "executionInfo": {
     "elapsed": 446,
     "status": "ok",
     "timestamp": 1678546016296,
     "user": {
      "displayName": "Joao Pedro Neto",
      "userId": "16588413076175252494"
     },
     "user_tz": 0
    },
    "id": "WoUtezCe0YHq"
   },
   "outputs": [],
   "source": [
    "def AND(*args):\n",
    "  \"\"\"n-ary version of Conjunction\"\"\"\n",
    "  formula, *args = args\n",
    "  for x in args:\n",
    "    formula = Conjunction(formula,x)\n",
    "  return formula\n",
    "\n",
    "def OR(*args):\n",
    "  \"\"\"n-ary version of Disjunction\"\"\"\n",
    "  formula, *args = args\n",
    "  for x in args:\n",
    "    formula = Disjunction(formula,x)\n",
    "  return formula\n",
    "\n",
    "def NOT(x):\n",
    "  return Negation(x)\n",
    "\n",
    "def IF(p,q):\n",
    "  return OR(NOT(p),q)\n",
    "\n",
    "def IFF(p,q):\n",
    "  return AND(IF(p,q), IF(q,p))\n",
    "\n",
    "def XOR(p,q):\n",
    "  return OR(AND(p,NOT(q)), AND(NOT(p),q))"
   ]
  },
  {
   "cell_type": "markdown",
   "metadata": {
    "id": "lzZsyzWM5nIT"
   },
   "source": [
    "A use case:"
   ]
  },
  {
   "cell_type": "code",
   "execution_count": 16,
   "metadata": {
    "colab": {
     "base_uri": "https://localhost:8080/"
    },
    "executionInfo": {
     "elapsed": 4,
     "status": "ok",
     "timestamp": 1678546289303,
     "user": {
      "displayName": "Joao Pedro Neto",
      "userId": "16588413076175252494"
     },
     "user_tz": 0
    },
    "id": "I57Tzn1g5lQD",
    "outputId": "a9d4cf14-c4aa-4a07-932f-63b4173861fb"
   },
   "outputs": [
    {
     "name": "stdout",
     "output_type": "stream",
     "text": [
      "falsify (¬(((P ∨ Q) ∧ (¬P ∨ R)) ∧ (¬Q ∨ R)) ∨ R) environment:{}\n",
      "falsify ¬(((P ∨ Q) ∧ (¬P ∨ R)) ∧ (¬Q ∨ R)) environment:{}\n",
      "satisfy (((P ∨ Q) ∧ (¬P ∨ R)) ∧ (¬Q ∨ R)) environment:{}\n",
      "satisfy ((P ∨ Q) ∧ (¬P ∨ R)) environment:{}\n",
      "satisfy (P ∨ Q) environment:{}\n",
      "satisfy P environment:{}\n",
      "satisfy (¬P ∨ R) environment:{'P': True}\n",
      "satisfy ¬P environment:{'P': True}\n",
      "falsify P environment:{'P': True}\n",
      "satisfy R environment:{'P': True}\n",
      "satisfy (¬Q ∨ R) environment:{'P': True, 'R': True}\n",
      "satisfy ¬Q environment:{'P': True, 'R': True}\n",
      "falsify Q environment:{'P': True, 'R': True}\n",
      "falsify R environment:{'P': True, 'R': True, 'Q': False}\n",
      "satisfy R environment:{'P': True, 'R': True}\n",
      "falsify R environment:{'P': True, 'R': True}\n",
      "satisfy Q environment:{}\n",
      "satisfy (¬P ∨ R) environment:{'Q': True}\n",
      "satisfy ¬P environment:{'Q': True}\n",
      "falsify P environment:{'Q': True}\n",
      "satisfy (¬Q ∨ R) environment:{'Q': True, 'P': False}\n",
      "satisfy ¬Q environment:{'Q': True, 'P': False}\n",
      "falsify Q environment:{'Q': True, 'P': False}\n",
      "satisfy R environment:{'Q': True, 'P': False}\n",
      "falsify R environment:{'Q': True, 'P': False, 'R': True}\n",
      "satisfy R environment:{'Q': True}\n",
      "satisfy (¬Q ∨ R) environment:{'Q': True, 'R': True}\n",
      "satisfy ¬Q environment:{'Q': True, 'R': True}\n",
      "falsify Q environment:{'Q': True, 'R': True}\n",
      "satisfy R environment:{'Q': True, 'R': True}\n",
      "falsify R environment:{'Q': True, 'R': True}\n"
     ]
    },
    {
     "data": {
      "text/plain": [
       "True"
      ]
     },
     "execution_count": 16,
     "metadata": {},
     "output_type": "execute_result"
    }
   ],
   "source": [
    "P = Variable('P')\n",
    "Q = Variable('Q')\n",
    "R = Variable('R')\n",
    "\n",
    "# is [(P∨Q) ∧ (P⇒R) ∧ (Q⇒R)] ⇒ R a tautology?\n",
    "form = IF(AND(OR(P,Q), \n",
    "              IF(P,R), \n",
    "              IF(Q,R)), \n",
    "          R)\n",
    "\n",
    "Formula._tracing = print # hack to see what's happening under the hood\n",
    "form.isValid()"
   ]
  },
  {
   "cell_type": "markdown",
   "metadata": {
    "id": "HBNVqAXQAg_N"
   },
   "source": [
    "# References"
   ]
  },
  {
   "cell_type": "markdown",
   "metadata": {
    "id": "eOu7eEhaAiaz"
   },
   "source": [
    "+ Nick Mose - [Understanding Recursion and Continuation with Python](https://coderscat.com/understanding-recursion-and-continuation-with-python/)\n",
    "\n",
    "+ Eli Bendersky - [On Recursion, Continuations and Trampolines](https://eli.thegreenplace.net/2017/on-recursion-continuations-and-trampolines/)\n",
    "\n",
    "+ Denys Duchier - [Continuations Made Simple and Illustrated](https://www.ps.uni-saarland.de/~duchier/python/continuations.html)\n",
    "\n",
    "+ L. Allison - [Continuations, Implement Generators, and Streams](http://www.allisons.org/ll/Publications/1990BCJ/)\n",
    "\n",
    "+ Sven-Olof Nyström - [Continuations](https://www.it.uu.se/edu/course/homepage/avfunpro/ht10/notes/html/f06-cont.html)\n",
    "\n",
    "+ Tiago Cogumbreiro - [CS 450: Structure of Higher Level Languages](https://cogumbreiro.github.io//teaching/cs450/s20/), lecture 32\n",
    "\n",
    "<!--\n",
    "\n",
    "## Implementing a Prolog [draft]\n",
    "\n",
    "Another implementation by Denys Duchier. Didn't have time to understand it, but I'm placing it here, for now, since the source code is already not available at the original link.\n",
    "\n",
    "# Copyright (c) Feb 2000, by Denys Duchier, Universitaet des Saarlandes\n",
    "\n",
    "\"\"\"\n",
    "This modules implements a rudimentary prolog engine.  Its\n",
    "purpose is to illustrate the use of continuations to program\n",
    "a search engine with backtracking and cut.\n",
    "\"\"\"\n",
    "\n",
    "def bind(var,term,environment):\n",
    "  \"\"\"bind var to term in environment environment. return the updated\n",
    "  environment.  we make a copy so that we don't have to undo on\n",
    "  backtracking (in essence: we always trail).\"\"\"\n",
    "  environment = environment.copy()\n",
    "  environment[var]=term\n",
    "  return environment\n",
    "\n",
    "def unify(t1,t2,environment,yes,no):\n",
    "  \"\"\"attempt to unify t1 with t2 in environment environment.\n",
    "  yes is the success continuation. no is the failure continuation\"\"\"\n",
    "  t1 = t1.deref(environment)\n",
    "  t2 = t2.deref(environment)\n",
    "  if t1 is t2:\n",
    "    return yes(environment,no)\n",
    "  elif t1.isVar():\n",
    "    return yes(bind(t1,t2,environment),no)\n",
    "  elif t2.isVar():\n",
    "    return yes(bind(t2,t1,environment),no)\n",
    "  elif t1.fun!=t2.fun or len(t1.args)!=len(t2.args):\n",
    "    return no()\n",
    "  else:\n",
    "    return unifyN(len(t1.args)-1,t1.args,t2.args,environment,yes,no)\n",
    "\n",
    "def unifyN(index,list1,list2,environment,yes,no):\n",
    "  \"\"\"attempt to unify to sequences of equal lengths\"\"\"\n",
    "  if index<0:\n",
    "    return yes(environment,no)\n",
    "  else:\n",
    "    return unify(list1[index],list2[index],environment,\n",
    "                 lambda\t\t\t\t\\\n",
    "                 environment,no,\t\t\t\\\n",
    "                 list1=list1,list2=list2,\t\\\n",
    "                 index=index-1,yes=yes:\t\t\\\n",
    "                 unifyN(index,list1,list2,environment,yes,no),\n",
    "                 no)\n",
    "\n",
    "class Term:\n",
    "  def deref(self,environment):\n",
    "    return self\n",
    "  def isVar(self):\n",
    "    return 0\n",
    "  def collectVars(self,list):\n",
    "    pass\n",
    "  def instantiate(self,environment,topvars,allvars):\n",
    "    return self\n",
    "\n",
    "class Var(Term):\n",
    "  def __init__(self,name):\n",
    "    self.name = name\n",
    "  def deref(self,environment):\n",
    "    if self in environment:\n",
    "      return environment[self].deref(environment)\n",
    "    else:\n",
    "      return self\n",
    "  def isVar(self):\n",
    "    return 1\n",
    "  def __str__(self):\n",
    "    return '?'+str(self.name)\n",
    "  def collectVars(self,list):\n",
    "    if not (self in list):\n",
    "      list.append(self)\n",
    "  def rename(self,environment):\n",
    "    if self in environment:\n",
    "      return environment[self]\n",
    "    else:\n",
    "      v2 = Var(self.name)\n",
    "      environment[self] = v2\n",
    "      return v2\n",
    "  def solve(self,engine,environment,yes,no,entryno):\n",
    "    t = self.deref(environment)\n",
    "    if t is self:\n",
    "      raise \"cannot call an uninstantiated literal\"\n",
    "    else:\n",
    "      return t.solve(engine,environment,yes,no,entryno)\n",
    "  def instantiate(self,environment,topvars,allvars):\n",
    "    t = self.deref(environment)\n",
    "    if t is self:\n",
    "      if self in topvars:\n",
    "        return self\n",
    "      else:\n",
    "        i = 1\n",
    "        while 1:\n",
    "          name = '%s:%d' % (self.name,i)\n",
    "          if name not in allvars:\n",
    "            allvars[name]=1\n",
    "            var = Var(name)\n",
    "            environment[self]=var\n",
    "            topvars.append(var)\n",
    "            return var\n",
    "          else:\n",
    "            i = i+1\n",
    "    else:\n",
    "      return t.instantiate(environment,topvars,allvars)\n",
    "\n",
    "class Cons(Term):\n",
    "  def __init__(self,fun,args):\n",
    "    self.fun  = fun\n",
    "    self.args = args\n",
    "  def __str__(self):\n",
    "    l = []\n",
    "    for x in self.args:\n",
    "      l.append(str(x))\n",
    "    return str(self.fun)+'('+','.join(l)+')'\n",
    "  def collectVars(self,list):\n",
    "    for x in self.args:\n",
    "      x.collectVars(list)\n",
    "  def new(self,fun,args):\n",
    "    return Cons(fun,args)\n",
    "  def rename(self,environment):\n",
    "    fun2 = self.fun.rename(environment)\n",
    "    args2 = []\n",
    "    for x in self.args:\n",
    "      args2.append(x.rename(environment))\n",
    "    return self.new(fun2,args2)\n",
    "  def solve(self,engine,environment,yes,no,entryno):\n",
    "    return engine.call(self.fun,self,environment,yes,no,entryno)\n",
    "  def instantiate(self,environment,topvars,allvars):\n",
    "    l = []\n",
    "    for x in self.args:\n",
    "      l.append(x.instantiate(environment,topvars,allvars))\n",
    "    return Cons(self.fun,l)\n",
    "\n",
    "class Atom(Term):\n",
    "  def __init__(self,name):\n",
    "    self.fun  = name\n",
    "    self.args = []\n",
    "  def __str__(self):\n",
    "    return str(self.fun)\n",
    "  def __call__(self,*args):\n",
    "    return Cons(self,args)\n",
    "  def rename(self,environment):\n",
    "    return self\n",
    "  def solve(self,engine,environment,yes,no,entryno):\n",
    "    return engine.call(self,self,environment,yes,no,entryno)\n",
    "\n",
    "class Rule:\n",
    "  def __init__(self,head,body):\n",
    "    self.head = head\n",
    "    self.body = body\n",
    "  def rename(self,environment=None):\n",
    "    if environment is None:\n",
    "      environment = {}\n",
    "    return Rule(self.head.rename(environment),\n",
    "                self.body.rename(environment))\n",
    "\n",
    "AND = Atom('AND')\n",
    "OR  = Atom('OR')\n",
    "CUT = Atom('CUT')\n",
    "\n",
    "class Engine:\n",
    "  \"\"\"implements a prolog engine\"\"\"\n",
    "  def __init__(self):\n",
    "    self.db    = {}\n",
    "    self.environment = None\n",
    "    self.no    = None\n",
    "    self.vars  = None\n",
    "    self.query = None\n",
    "  def rule(self,head,*body):\n",
    "    body = AND(*body)\n",
    "    r = Rule(head,body)\n",
    "    p = head.fun\n",
    "    if p in self.db:\n",
    "      l = self.db[p]\n",
    "    else:\n",
    "      l = []\n",
    "      self.db[p] = l\n",
    "    l.append(r)\n",
    "  def run(self,Q):\n",
    "    \"\"\"run a query Q\"\"\"\n",
    "    self.query = Q\n",
    "    self.environment = None\n",
    "    self.no    = None\n",
    "    self.vars  = []\n",
    "    Q.collectVars(self.vars)\n",
    "    yes = lambda environment,no,self=self: self.succeed(environment,no)\n",
    "    no  = lambda self=self : self.fail()\n",
    "    Q.solve(self,{},yes,no,no)\n",
    "  def succeed(self,environment,no):\n",
    "    \"\"\"this is called when a solution is found\"\"\"\n",
    "    self.environment = environment\n",
    "    self.no    = no\n",
    "    print('yes')\n",
    "    # all the disgusting stuff below is just so that we can\n",
    "    # print a coherent and informative answer to the query\n",
    "    topvars = self.vars[:]\n",
    "    allvars = {}\n",
    "    for x in topvars:\n",
    "      allvars[x.name]=1\n",
    "    t1 = Cons(None,topvars)\n",
    "    t2 = Cons(None,(self.query,))\n",
    "    t3 = Cons(None,(t1,t2))\n",
    "    t3 = t3.instantiate(environment,topvars,allvars)\n",
    "    t1,t2 = t3.args\n",
    "    print(str(t2.args[0]))\n",
    "    for i in range(len(self.vars)):\n",
    "      print('\\t'+str(self.vars[i])+' = '+str(t1.args[i]))\n",
    "  def fail(self):\n",
    "    \"\"\"this is called when no (more) solution is found\"\"\"\n",
    "    self.environment = None\n",
    "    self.no    = None\n",
    "    print('no')\n",
    "  def next(self):\n",
    "    \"\"\"invoke this to search for the next solution\"\"\"\n",
    "    if self.no:\n",
    "      self.no()\n",
    "    else:\n",
    "      print('No more')\n",
    "  def call(self,pred,literal,environment,yes,no,entryno):\n",
    "    \"\"\"the main functor of the formula is pred.  We treat specially\n",
    "    functors for AND, OR and CUT.  For all others, we look in the\n",
    "    engine's database to find appropriate clauses.\"\"\"\n",
    "    if   pred is AND:\n",
    "      return self.solveAll(0,literal.args,environment,yes,no,entryno)\n",
    "    elif pred is OR :\n",
    "      return self.solveSome(0,literal.args,environment,yes,no,entryno)\n",
    "    elif pred is CUT:\n",
    "      return yes(environment,entryno)\n",
    "    else:\n",
    "      if pred not in self.db:\n",
    "        raise \"unknown predicate \"+str(pred)\n",
    "      else:\n",
    "        return self.execute(0,self.db[pred],literal,environment,yes,no,no)\n",
    "  def solveAll(self,i,l,environment,yes,no,entryno):\n",
    "    \"\"\"solve all literals in sequence l\"\"\"\n",
    "    n = len(l)\n",
    "    if n==0:\n",
    "      return yes(environment,no)\n",
    "    elif i==n-1:\n",
    "      return l[i].solve(self,environment,yes,no,entryno)\n",
    "    else:\n",
    "      return l[i].solve(\n",
    "        self,environment,\n",
    "        lambda environment,no,i=i+1,l=l,self=self,yes=yes,entryno=entryno:\\\n",
    "        self.solveAll(i,l,environment,yes,no,entryno),\n",
    "        no,entryno)\n",
    "  def solveSome(self,i,l,environment,yes,no,entryno):\n",
    "    \"\"\"solve one of the literals in sequence l\"\"\"\n",
    "    n = len(l)\n",
    "    if n==0:\n",
    "      return no()\n",
    "    elif i==n-1:\n",
    "      return l[i].solve(self,environment,yes,no,entryno)\n",
    "    else:\n",
    "      return l[i].solve(\n",
    "        self,environment,yes,\n",
    "        lambda self=self,i=i+1,l=l,environment=environment,yes=yes,no=no,entryno=entryno: \\\n",
    "        self.solveSome(i,l,environment,yes,no,entryno),\n",
    "        entryno)\n",
    "  def execute(self,i,rules,literal,environment,yes,no,entryno):\n",
    "    \"\"\"try to solve literal using rules\"\"\"\n",
    "    n = len(rules)\n",
    "    if i==n-1:\n",
    "      return self.tryrule(rules[i],literal,environment,yes,no,entryno)\n",
    "    else:\n",
    "      return self.tryrule(\n",
    "        rules[i],literal,environment,yes,\n",
    "        lambda i=i+1,rules=rules,literal=literal,environment=environment, \\\n",
    "        yes=yes,no=no,entryno=entryno,self=self: \\\n",
    "        self.execute(i,rules,literal,environment,yes,no,entryno),\n",
    "        entryno)\n",
    "  def tryrule(self,rule,literal,environment,yes,no,entryno):\n",
    "    \"\"\"try to solve literal using rule.\"\"\"\n",
    "    # we first rename all variables in the rule so that we can\n",
    "    # safely use them without risk of clashing with variables\n",
    "    # already in use.  then we try to unify the literal with\n",
    "    # the rule's head and if that succeeds we proceed to solve\n",
    "    # the body of the rule.\n",
    "    rule = rule.rename()\n",
    "    return unify(rule.head,literal,environment,\n",
    "                 lambda environment,no,rule=rule,self=self,yes=yes,entryno=entryno : \\\n",
    "                 rule.body.solve(self,environment,yes,no,entryno),\n",
    "                 no)\n",
    "\n",
    "X\t= Var('X')\n",
    "Y\t= Var('Y')\n",
    "Z\t= Var('Z')\n",
    "L\t= Var('L')\n",
    "L1\t= Var('L1')\n",
    "L2\t= Var('L2')\n",
    "L3\t= Var('L3')\n",
    "MEMBER\t= Atom('member')\n",
    "NIL\t= Atom('nil')\n",
    "CONS\t= Atom('cons')\n",
    "APPEND\t= Atom('append')\n",
    "PERMUTE\t= Atom('permute')\n",
    "INSERT\t= Atom('insert')\n",
    "a\t= Atom('a')\n",
    "b\t= Atom('b')\n",
    "c\t= Atom('c')\n",
    "MEMBER1\t= Atom('member1')\n",
    "\n",
    "E = Engine()\n",
    "E.rule(MEMBER(X,CONS(X,L)))\n",
    "E.rule(MEMBER(X,CONS(Y,L)),MEMBER(X,L))\n",
    "E.rule(APPEND(NIL,L,L))\n",
    "E.rule(APPEND(CONS(X,L1),L2,CONS(X,L3)),APPEND(L1,L2,L3))\n",
    "E.rule(PERMUTE(NIL,NIL))\n",
    "E.rule(PERMUTE(CONS(X,L1),L3),AND(PERMUTE(L1,L2),INSERT(X,L2,L3)))\n",
    "E.rule(INSERT(X,L,CONS(X,L)))\n",
    "E.rule(INSERT(X,CONS(Y,L1),CONS(Y,L2)),INSERT(X,L1,L2))\n",
    "E.rule(MEMBER1(X,CONS(X,L)),CUT)\n",
    "E.rule(MEMBER1(X,CONS(Y,L)),MEMBER1(X,L))\n",
    "\n",
    "E.run(MEMBER(X,L))\n",
    "\n",
    "-->"
   ]
  }
 ],
 "metadata": {
  "colab": {
   "authorship_tag": "ABX9TyPw/Dz0WyxtkLn9FBcZ8ibT",
   "provenance": [],
   "toc_visible": true
  },
  "kernelspec": {
   "display_name": "Python 3 (ipykernel)",
   "language": "python",
   "name": "python3"
  },
  "language_info": {
   "codemirror_mode": {
    "name": "ipython",
    "version": 3
   },
   "file_extension": ".py",
   "mimetype": "text/x-python",
   "name": "python",
   "nbconvert_exporter": "python",
   "pygments_lexer": "ipython3",
   "version": "3.9.13"
  }
 },
 "nbformat": 4,
 "nbformat_minor": 1
}
