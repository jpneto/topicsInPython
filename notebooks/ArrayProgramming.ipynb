{
  "nbformat": 4,
  "nbformat_minor": 0,
  "metadata": {
    "colab": {
      "name": "ArrayProgramming.ipynb",
      "provenance": [],
      "collapsed_sections": []
    },
    "kernelspec": {
      "name": "python3",
      "display_name": "Python 3"
    }
  },
  "cells": [
    {
      "cell_type": "markdown",
      "metadata": {
        "id": "h76iG9p1HsHy"
      },
      "source": [
        "## Array Programming"
      ]
    },
    {
      "cell_type": "markdown",
      "metadata": {
        "id": "IxXiFFmCHwqT"
      },
      "source": [
        "Let's consider the following lists (in Python we can use lists as arrays):"
      ]
    },
    {
      "cell_type": "code",
      "metadata": {
        "id": "EF5md_3SHrpj",
        "outputId": "67fa9946-d279-426d-99b0-e961fa43bca1",
        "colab": {
          "base_uri": "https://localhost:8080/",
          "height": 54
        }
      },
      "source": [
        "v1 = [1,2,3,4]\n",
        "v2 = [5,6,7,8]\n",
        "\n",
        "print(v1[1])\n",
        "print(len(v2))"
      ],
      "execution_count": null,
      "outputs": [
        {
          "output_type": "stream",
          "text": [
            "2\n",
            "4\n"
          ],
          "name": "stdout"
        }
      ]
    },
    {
      "cell_type": "markdown",
      "metadata": {
        "id": "33eNCskXIZJC"
      },
      "source": [
        "If we wish to sum them, element-wise, we need some code:"
      ]
    },
    {
      "cell_type": "code",
      "metadata": {
        "id": "faTT9ploHoMR",
        "outputId": "a462cc32-84f5-4692-e96c-d8d63e79138d",
        "colab": {
          "base_uri": "https://localhost:8080/",
          "height": 36
        }
      },
      "source": [
        "# option 1\n",
        "v3 = [0] * len(v1)\n",
        "for i in range(len(v1)):\n",
        "  v3[i] = v1[i] + v2[i]\n",
        "\n",
        "# option 2\n",
        "v3 = [ i+j for (i,j) in zip(v1,v2) ]\n",
        "\n",
        "print(v3)"
      ],
      "execution_count": null,
      "outputs": [
        {
          "output_type": "stream",
          "text": [
            "[6, 8, 10, 12]\n"
          ],
          "name": "stdout"
        }
      ]
    },
    {
      "cell_type": "markdown",
      "metadata": {
        "id": "UTahCs1zJDa0"
      },
      "source": [
        "[Array programming](https://en.wikipedia.org/wiki/Array_programming) defines operations that apply to an entire set of values at once.\n",
        "\n",
        "The first well-known language that included array programming was [APL](https://en.wikipedia.org/wiki/APL_(programming_language)). APL has a very strange syntax, but the use of array programming and extense math notation makes its code extremely terse. A classical example is implementation of the Game of Life:\n",
        "\n",
        "    life ← {↑1 ⍵∨.∧3 4=+/,¯1 0 1∘.⊖¯1 0 1∘.⌽⊂⍵}\n",
        "\n",
        "(btw, don't try to understand it :-)\n",
        "\n",
        "But even if APL is rarely used nowadays, the language had a profound impact on the history of programming, namely array programming.\n",
        "\n",
        "This influence shows in how R is programmed, in MATLAB, in Python's `numpy` module and in all dependent modules, like the deep learning module `TensorFlow`.\n",
        "\n",
        "Also, many mathematical, statistical and engineer solutions rely heavily on matrix notation, where array programming shines."
      ]
    },
    {
      "cell_type": "markdown",
      "metadata": {
        "id": "-q-sA7hmKOhN"
      },
      "source": [
        "### Numpy"
      ]
    },
    {
      "cell_type": "markdown",
      "metadata": {
        "id": "qNXl_vkyMK6F"
      },
      "source": [
        "Numpy is a module that facilitates array programming in Python. It manipulates data in vectors, matrices and higher-dimensional arrays."
      ]
    },
    {
      "cell_type": "code",
      "metadata": {
        "id": "Kecn8GUzMjZ1"
      },
      "source": [
        "import numpy as np"
      ],
      "execution_count": null,
      "outputs": []
    },
    {
      "cell_type": "markdown",
      "metadata": {
        "id": "i0pCRRcFMnLr"
      },
      "source": [
        "With `numpy` we create array data structures of any dimension."
      ]
    },
    {
      "cell_type": "code",
      "metadata": {
        "id": "gV3xmIS5M0T7",
        "outputId": "972c077b-c4e1-463f-ad0d-594e85969443",
        "colab": {
          "base_uri": "https://localhost:8080/",
          "height": 167
        }
      },
      "source": [
        "x = np.array([[0,1,2],[3,4,5],[6,7,8],[9,10,11]])  # a 4x3 array\n",
        "print(x)\n",
        "\n",
        "x = np.arange(0,12).reshape(4,3) # alternative\n",
        "print(x)"
      ],
      "execution_count": null,
      "outputs": [
        {
          "output_type": "stream",
          "text": [
            "[[ 0  1  2]\n",
            " [ 3  4  5]\n",
            " [ 6  7  8]\n",
            " [ 9 10 11]]\n",
            "[[ 0  1  2]\n",
            " [ 3  4  5]\n",
            " [ 6  7  8]\n",
            " [ 9 10 11]]\n"
          ],
          "name": "stdout"
        }
      ]
    },
    {
      "cell_type": "markdown",
      "metadata": {
        "id": "eXu9NRaMNepI"
      },
      "source": [
        "Internally this is its representation:\n",
        "\n",
        "![Image1.jpg](data:image/jpeg;base64,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)"
      ]
    },
    {
      "cell_type": "markdown",
      "metadata": {
        "id": "QEONYMhmN5pe"
      },
      "source": [
        "We can use Python's indexing notation to retrieve one element, a row, a column..."
      ]
    },
    {
      "cell_type": "code",
      "metadata": {
        "id": "2YWNgeWdNWVM",
        "outputId": "870369ac-322d-4334-ad4a-1409a0fa3465",
        "colab": {
          "base_uri": "https://localhost:8080/",
          "height": 92
        }
      },
      "source": [
        "print(x[1,2])\n",
        "print(x[2,:])    # a row\n",
        "print(x[:,1])    # a column\n",
        "print(x[::-1,2]) # a column inverted"
      ],
      "execution_count": null,
      "outputs": [
        {
          "output_type": "stream",
          "text": [
            "5\n",
            "[6 7 8]\n",
            "[ 1  4  7 10]\n",
            "[11  8  5  2]\n"
          ],
          "name": "stdout"
        }
      ]
    },
    {
      "cell_type": "markdown",
      "metadata": {
        "id": "cZXV7JhVOk0j"
      },
      "source": [
        "We can index values with a **mask** (i.e., filtering):"
      ]
    },
    {
      "cell_type": "code",
      "metadata": {
        "id": "yBTY4iJiOtor",
        "outputId": "785ed85d-cd5f-41ce-8393-2daea2c323df",
        "colab": {
          "base_uri": "https://localhost:8080/",
          "height": 204
        }
      },
      "source": [
        "print(x[x>=7])\n",
        "\n",
        "mask = np.logical_or(x < 3, x > 9)\n",
        "print(x[mask])"
      ],
      "execution_count": null,
      "outputs": [
        {
          "output_type": "stream",
          "text": [
            "[ 7  8  9 10 11]\n",
            "[ 0  1  2 10 11]\n",
            "[[ 0  1  2]\n",
            " [ 3  4  5]\n",
            " [ 6  7  8]\n",
            " [ 9 10 11]]\n",
            "[[False False False]\n",
            " [False False False]\n",
            " [False False  True]\n",
            " [ True  True  True]]\n"
          ],
          "name": "stdout"
        }
      ]
    },
    {
      "cell_type": "markdown",
      "metadata": {
        "id": "ZUzSIxHGPUdJ"
      },
      "source": [
        "We can even use arrays to index the array:"
      ]
    },
    {
      "cell_type": "code",
      "metadata": {
        "id": "vTQ8XbjqPYu_",
        "outputId": "b87c262b-32a1-4327-84da-c988db4491dc",
        "colab": {
          "base_uri": "https://localhost:8080/",
          "height": 36
        }
      },
      "source": [
        "print(x[[0,1],[1,2]])"
      ],
      "execution_count": null,
      "outputs": [
        {
          "output_type": "stream",
          "text": [
            "[1 5]\n"
          ],
          "name": "stdout"
        }
      ]
    },
    {
      "cell_type": "markdown",
      "metadata": {
        "id": "u1qA3N68P0Ev"
      },
      "source": [
        "But this is just some fancing indexing, not enough to deserve the name of array programming.\n",
        "\n",
        "Numpy arrays allow element-wise operators. Let's try to sum x with itself:"
      ]
    },
    {
      "cell_type": "code",
      "metadata": {
        "id": "q_2T6u-OP8lc",
        "outputId": "0fb30de9-4723-4ba2-a214-b3d7da716770",
        "colab": {
          "base_uri": "https://localhost:8080/",
          "height": 92
        }
      },
      "source": [
        "y = x*2+5\n",
        "print(y)"
      ],
      "execution_count": null,
      "outputs": [
        {
          "output_type": "stream",
          "text": [
            "[[ 5  7  9]\n",
            " [11 13 15]\n",
            " [17 19 21]\n",
            " [23 25 27]]\n"
          ],
          "name": "stdout"
        }
      ]
    },
    {
      "cell_type": "markdown",
      "metadata": {
        "id": "qfb0auivQCMz"
      },
      "source": [
        "`numpy` automatically adds each position of the array with itself. Without this module, we would need two cyles to perform array addition.\n",
        "\n",
        "Moreover, this option is much faster because the implicit cycles are done in C compiled code."
      ]
    },
    {
      "cell_type": "markdown",
      "metadata": {
        "id": "DSzl-hfyR4j7"
      },
      "source": [
        "`numpy` includes a **broadcast** mechanism that multiply each element of a vector into the elements of a 2nd vetor, making a higher-dimensional array:"
      ]
    },
    {
      "cell_type": "code",
      "metadata": {
        "id": "3u3fyjNcSHPd",
        "outputId": "41176aa8-e566-43ae-fd35-12b35cd5ab07",
        "colab": {
          "base_uri": "https://localhost:8080/",
          "height": 223
        }
      },
      "source": [
        "v1 = np.array([0,3,6,9]).reshape(4,1)\n",
        "v2 = np.array([10,20])\n",
        "\n",
        "print(v1)\n",
        "print('-'*10)\n",
        "print(v2)\n",
        "print('-'*10)\n",
        "v3 = v1*v2\n",
        "print(v3)"
      ],
      "execution_count": null,
      "outputs": [
        {
          "output_type": "stream",
          "text": [
            "[[0]\n",
            " [3]\n",
            " [6]\n",
            " [9]]\n",
            "----------\n",
            "[10 20]\n",
            "----------\n",
            "[[  0   0]\n",
            " [ 30  60]\n",
            " [ 60 120]\n",
            " [ 90 180]]\n"
          ],
          "name": "stdout"
        }
      ]
    },
    {
      "cell_type": "markdown",
      "metadata": {
        "id": "3p49Stzi8GtT"
      },
      "source": [
        "> The term broadcasting describes how NumPy treats arrays with different shapes during arithmetic operations. Subject to certain constraints, the smaller array is “broadcast” across the larger array so that they have compatible shapes. Broadcasting provides a means of vectorizing array operations so that looping occurs in C instead of Python. [source](https://numpy.org/doc/stable/user/basics.broadcasting.html)"
      ]
    },
    {
      "cell_type": "markdown",
      "metadata": {
        "id": "IVnMbQmHSvPI"
      },
      "source": [
        "Another feature is **reduction**, the ability of resume a row, column, or the entire array given a certain function:"
      ]
    },
    {
      "cell_type": "code",
      "metadata": {
        "id": "v62BPosNTCGQ",
        "outputId": "72d8191c-610d-4b62-c043-ad8c455178ba",
        "colab": {
          "base_uri": "https://localhost:8080/",
          "height": 92
        }
      },
      "source": [
        "# compute sum for all columns\n",
        "print(np.sum(v3, axis=0))\n",
        "\n",
        "# compute means for all rows of v3\n",
        "print(np.mean(v3, axis=1))\n",
        "\n",
        "# compute max of entire array\n",
        "print(np.max(v3,axis=(0,1)))\n",
        "print(np.mean(v3))"
      ],
      "execution_count": null,
      "outputs": [
        {
          "output_type": "stream",
          "text": [
            "[180 360]\n",
            "[  0.  45.  90. 135.]\n",
            "180\n",
            "67.5\n"
          ],
          "name": "stdout"
        }
      ]
    },
    {
      "cell_type": "markdown",
      "metadata": {
        "id": "feEmHOqeVTX8"
      },
      "source": [
        "We can reduce with our own functions using `apply_along_axis`:"
      ]
    },
    {
      "cell_type": "code",
      "metadata": {
        "id": "fuk67DZYVFBQ",
        "outputId": "fa2c0765-7fe9-4d4f-d555-6eaf8edae27e",
        "colab": {
          "base_uri": "https://localhost:8080/",
          "height": 36
        }
      },
      "source": [
        "def f(a):\n",
        "    \"\"\"Average first and last element of a 1-D array\"\"\"\n",
        "    return (a[0] + a[-1]) * 0.5\n",
        "\n",
        "print(np.apply_along_axis(f, 1, v3))    "
      ],
      "execution_count": null,
      "outputs": [
        {
          "output_type": "stream",
          "text": [
            "[  0.  45.  90. 135.]\n"
          ],
          "name": "stdout"
        }
      ]
    },
    {
      "cell_type": "markdown",
      "metadata": {
        "id": "TiowLQyEVioa"
      },
      "source": [
        "### Vectorization"
      ]
    },
    {
      "cell_type": "markdown",
      "metadata": {
        "id": "rSgT3fXFUbuS"
      },
      "source": [
        "The module includes a function called `vectorize` that creates a vectorized version of a given Python function. That is, the new function can be applied to an entire array:"
      ]
    },
    {
      "cell_type": "code",
      "metadata": {
        "id": "IkEOld0DUCGd",
        "outputId": "7aacc36f-2d78-4786-83f6-b092b8bf5b22",
        "colab": {
          "base_uri": "https://localhost:8080/",
          "height": 92
        }
      },
      "source": [
        "times10 = lambda x : 10*x\n",
        "\n",
        "f = np.vectorize(times10)\n",
        "\n",
        "print(f(v3))"
      ],
      "execution_count": null,
      "outputs": [
        {
          "output_type": "stream",
          "text": [
            "[[   0    0]\n",
            " [ 300  600]\n",
            " [ 600 1200]\n",
            " [ 900 1800]]\n"
          ],
          "name": "stdout"
        }
      ]
    },
    {
      "cell_type": "markdown",
      "metadata": {
        "id": "GEPv8fbNWFYo"
      },
      "source": [
        "## Matrix Calculus"
      ]
    },
    {
      "cell_type": "markdown",
      "metadata": {
        "id": "2vmkC0m9QYlB"
      },
      "source": [
        "`numpy` 2D arrays can be manipulated as matrices from Algebra."
      ]
    },
    {
      "cell_type": "code",
      "metadata": {
        "id": "mZhRd6-XQdtL",
        "outputId": "377f84e8-ce0b-4c4e-8798-2cedcfcb6689",
        "colab": {
          "base_uri": "https://localhost:8080/",
          "height": 186
        }
      },
      "source": [
        "v = np.arange(1,5).reshape(4,1)\n",
        "print(v)\n",
        "\n",
        "M = np.arange(-9,11).reshape(5,4)\n",
        "print(M)"
      ],
      "execution_count": null,
      "outputs": [
        {
          "output_type": "stream",
          "text": [
            "[[1]\n",
            " [2]\n",
            " [3]\n",
            " [4]]\n",
            "[[-9 -8 -7 -6]\n",
            " [-5 -4 -3 -2]\n",
            " [-1  0  1  2]\n",
            " [ 3  4  5  6]\n",
            " [ 7  8  9 10]]\n"
          ],
          "name": "stdout"
        }
      ]
    },
    {
      "cell_type": "markdown",
      "metadata": {
        "id": "SU7Bbyt4QzR6"
      },
      "source": [
        "What is $M \\times v$?"
      ]
    },
    {
      "cell_type": "code",
      "metadata": {
        "id": "-rgPxisyQ2b2",
        "outputId": "6e7bdaf4-10e5-4e30-e523-d44bfb7a13d0",
        "colab": {
          "base_uri": "https://localhost:8080/",
          "height": 111
        }
      },
      "source": [
        "print(M @ v)  # function dot() also performs matrix multiplication"
      ],
      "execution_count": null,
      "outputs": [
        {
          "output_type": "stream",
          "text": [
            "[[-70]\n",
            " [-30]\n",
            " [ 10]\n",
            " [ 50]\n",
            " [ 90]]\n"
          ],
          "name": "stdout"
        }
      ]
    },
    {
      "cell_type": "markdown",
      "metadata": {
        "id": "0pDpIV0xRNVP"
      },
      "source": [
        "And $v \\times M$?"
      ]
    },
    {
      "cell_type": "code",
      "metadata": {
        "id": "1hf1zmWERRHO",
        "outputId": "85d0170e-eb9a-4217-ed87-c7248e8c64f8",
        "colab": {
          "base_uri": "https://localhost:8080/",
          "height": 194
        }
      },
      "source": [
        "print(v @ M)"
      ],
      "execution_count": null,
      "outputs": [
        {
          "output_type": "error",
          "ename": "ValueError",
          "evalue": "ignored",
          "traceback": [
            "\u001b[0;31m---------------------------------------------------------------------------\u001b[0m",
            "\u001b[0;31mValueError\u001b[0m                                Traceback (most recent call last)",
            "\u001b[0;32m<ipython-input-31-116a74d09de5>\u001b[0m in \u001b[0;36m<module>\u001b[0;34m()\u001b[0m\n\u001b[0;32m----> 1\u001b[0;31m \u001b[0mprint\u001b[0m\u001b[0;34m(\u001b[0m\u001b[0mv\u001b[0m \u001b[0;34m@\u001b[0m \u001b[0mM\u001b[0m\u001b[0;34m)\u001b[0m\u001b[0;34m\u001b[0m\u001b[0;34m\u001b[0m\u001b[0m\n\u001b[0m",
            "\u001b[0;31mValueError\u001b[0m: matmul: Input operand 1 has a mismatch in its core dimension 0, with gufunc signature (n?,k),(k,m?)->(n?,m?) (size 5 is different from 1)"
          ]
        }
      ]
    },
    {
      "cell_type": "markdown",
      "metadata": {
        "id": "aUlUfG6nWlTa"
      },
      "source": [
        "Indeed, the dimensions does not match. Let's try multiplying $v^T \\times M^T$:"
      ]
    },
    {
      "cell_type": "code",
      "metadata": {
        "id": "ZIEPdas5aHZB",
        "outputId": "41507bea-55a2-4809-b453-432d23068e9b",
        "colab": {
          "base_uri": "https://localhost:8080/",
          "height": 36
        }
      },
      "source": [
        "print(v.T @ M.T)"
      ],
      "execution_count": null,
      "outputs": [
        {
          "output_type": "stream",
          "text": [
            "[[-70 -30  10  50  90]]\n"
          ],
          "name": "stdout"
        }
      ]
    },
    {
      "cell_type": "markdown",
      "metadata": {
        "id": "Ig0j4e9WXXQL"
      },
      "source": [
        "### Example: Least Squares"
      ]
    },
    {
      "cell_type": "markdown",
      "metadata": {
        "id": "Cf83_zD_X-gV"
      },
      "source": [
        "Consider the following data:"
      ]
    },
    {
      "cell_type": "code",
      "metadata": {
        "id": "cWl8iUfhgA51",
        "outputId": "e172f201-c5f1-4052-a1bc-506f9559f3ea",
        "colab": {
          "base_uri": "https://localhost:8080/",
          "height": 283
        }
      },
      "source": [
        "x = np.array([0.05, 0.18, 0.31, 0.42, 0.50])\n",
        "y = np.array([0.12, 0.22, 0.35, 0.38, 0.49])\n",
        "\n",
        "import matplotlib.pyplot as plt\n",
        "plt.scatter(x, y, color=\"b\")   # plot the dataset"
      ],
      "execution_count": null,
      "outputs": [
        {
          "output_type": "execute_result",
          "data": {
            "text/plain": [
              "<matplotlib.collections.PathCollection at 0x7f14cb329eb8>"
            ]
          },
          "metadata": {
            "tags": []
          },
          "execution_count": 79
        },
        {
          "output_type": "display_data",
          "data": {
            "image/png": "[encoded data removed]",
            "text/plain": [
              "<Figure size 432x288 with 1 Axes>"
            ]
          },
          "metadata": {
            "tags": [],
            "needs_background": "light"
          }
        }
      ]
    },
    {
      "cell_type": "markdown",
      "metadata": {
        "id": "bhY52omKjQ3V"
      },
      "source": [
        "We wish to model this problem where the values of $y$ are being generated by a linear process based on values $X$.\n",
        "\n",
        "In matrix form, the model is written as\n",
        "\n",
        "$$y = X \\beta + \\epsilon$$\n",
        "\n",
        "and we wish to find some $\\hat{\\beta}$ that \n",
        "\n",
        "$$y \\approx X \\hat{\\beta}$$\n",
        "\n",
        "given some criteria for approximation. \n",
        "\n",
        "Usually it is chosen to minimize the square of the errors $\\sum_i (y_i - x_i \\hat{\\beta})^2$\n",
        "\n",
        "The expression to solve with these constraints is:\n",
        "\n",
        "$$\\hat{\\beta} = (X^T X)^{-1} X^T y$$\n",
        "\n",
        "So for a given new $x^*$, we compute $y^* = X \\hat{\\beta}$\n",
        "\n",
        "Using array programming computing these expressions is hugely simplified:"
      ]
    },
    {
      "cell_type": "code",
      "metadata": {
        "id": "hhjBJPUzgFQ0"
      },
      "source": [
        "from numpy.linalg import inv\n",
        "\n",
        "X = np.vstack([x, np.ones(len(x))]).T # add column of 1s for intercept != 0\n",
        "\n",
        "bhat = inv(X.T @ X) @ X.T @ y         # linear least squares\n",
        "yhat = x * bhat[0] + bhat[1]          # predict y from known values of X using coefficients bhat"
      ],
      "execution_count": null,
      "outputs": []
    },
    {
      "cell_type": "markdown",
      "metadata": {
        "id": "Zn8nYYsoYwsV"
      },
      "source": [
        "Let's plot the result:"
      ]
    },
    {
      "cell_type": "code",
      "metadata": {
        "id": "1g2LOJ61YkDn",
        "outputId": "e133ddae-ddf8-445b-853d-537d75d3861b",
        "colab": {
          "base_uri": "https://localhost:8080/",
          "height": 281
        }
      },
      "source": [
        "plt.title(\"Linear Least Squares via Algebra\")\n",
        "plt.scatter(x, y)\n",
        "plt.plot(x, yhat, color='red')\n",
        "plt.show()"
      ],
      "execution_count": null,
      "outputs": [
        {
          "output_type": "display_data",
          "data": {
            "image/png": "[encoded data removed]",
            "text/plain": [
              "<Figure size 432x288 with 1 Axes>"
            ]
          },
          "metadata": {
            "tags": [],
            "needs_background": "light"
          }
        }
      ]
    },
    {
      "cell_type": "markdown",
      "metadata": {
        "id": "HFLDdmqHbqCu"
      },
      "source": [
        "### Example: Positive semi-definite matrix"
      ]
    },
    {
      "cell_type": "markdown",
      "metadata": {
        "id": "IrfnEW_5b2PS"
      },
      "source": [
        "A [positive semi-definite matrix](https://en.wikipedia.org/wiki/Definite_symmetric_matrix) (psd) is the analogue of a non-negative number.\n",
        "\n",
        "With a psd $n\\times n$ matrix $M$ we guarantee that, for each non-null vector with compatible dimension, $v^T M v \\geq 0$\n",
        "\n",
        "There is more than one way to check this property, but the algorithms are slow. If $M$ is very big, we can use a faster random algorithm to check for counter-examples (the answer however will not be certain, only probabilistic)."
      ]
    },
    {
      "cell_type": "code",
      "metadata": {
        "id": "1ODlUoMVc5V4",
        "outputId": "95ed9998-e2f6-4c6c-b5db-5e35a84bb126",
        "colab": {
          "base_uri": "https://localhost:8080/",
          "height": 92
        }
      },
      "source": [
        "M = np.array([[-1,8,3,3],[5,1,4,-1],[9,2,4,7],[8,4,2,-6]])   # is M psd?\n",
        "print(M)"
      ],
      "execution_count": null,
      "outputs": [
        {
          "output_type": "stream",
          "text": [
            "[[-1  8  3  3]\n",
            " [ 5  1  4 -1]\n",
            " [ 9  2  4  7]\n",
            " [ 8  4  2 -6]]\n"
          ],
          "name": "stdout"
        }
      ]
    },
    {
      "cell_type": "code",
      "metadata": {
        "id": "1nxdhkM4eOFT",
        "outputId": "f1039e43-08f9-4b67-d288-32a9283141f1",
        "colab": {
          "base_uri": "https://localhost:8080/",
          "height": 36
        }
      },
      "source": [
        "nTries = 1000\n",
        "n = np.shape(M)[0] # number of rows\n",
        "\n",
        "for _ in range(nTries):\n",
        "  v = np.random.rand(n,1)-0.5  # create compatible random vector...\n",
        "  val = v.T @ M @ v            # and check if condition is still true\n",
        "  if val < 0:\n",
        "    break                      # counter example found\n",
        "\n",
        "if val>=0:\n",
        "  print(\"M is psd\")\n",
        "else:\n",
        "  print(\"M is not psd\")"
      ],
      "execution_count": null,
      "outputs": [
        {
          "output_type": "stream",
          "text": [
            "M is not psd\n"
          ],
          "name": "stdout"
        }
      ]
    },
    {
      "cell_type": "markdown",
      "metadata": {
        "id": "UtVDrqiu4PtW"
      },
      "source": [
        "### Example: Buy Low, Sell High"
      ]
    },
    {
      "cell_type": "markdown",
      "metadata": {
        "id": "_md75eDJ4SLJ"
      },
      "source": [
        "[ref](https://realpython.com/numpy-array-programming/)  \n",
        "\n",
        "> Given a stock’s price history as a sequence, and assuming that you are only allowed to make one purchase and one sale, what is the maximum profit that can be obtained? For example, given prices = (20, 18, 14, 17, 20, 21, 15), the max profit would be 7, from buying at 14 and selling at 21."
      ]
    },
    {
      "cell_type": "markdown",
      "metadata": {
        "id": "G-zb-Ayu4loJ"
      },
      "source": [
        "A typical $\\mathcal{O}(n)$ solution that iterates *once* through the list finding the difference between each price and a running minimum:"
      ]
    },
    {
      "cell_type": "code",
      "metadata": {
        "id": "rTBuuhct4ZPG",
        "outputId": "833a5e65-0ad8-4ae1-a052-af31aad75ea1",
        "colab": {
          "base_uri": "https://localhost:8080/",
          "height": 36
        }
      },
      "source": [
        "def profit(prices):\n",
        "  max_px = 0\n",
        "  min_px = prices[0]\n",
        "  for px in prices[1:]:\n",
        "    min_px = min(min_px, px)\n",
        "    max_px = max(px - min_px, max_px)\n",
        "  return max_px\n",
        "\n",
        "prices = (20, 18, 14, 17, 20, 21, 15)\n",
        "profit(prices)"
      ],
      "execution_count": null,
      "outputs": [
        {
          "output_type": "execute_result",
          "data": {
            "text/plain": [
              "7"
            ]
          },
          "metadata": {
            "tags": []
          },
          "execution_count": 60
        }
      ]
    },
    {
      "cell_type": "markdown",
      "metadata": {
        "id": "sP_Acwq45-xU"
      },
      "source": [
        "The `numpy` version uses a vectorized function to accumulate the minimum (check [available](https://numpy.org/doc/stable/reference/ufuncs.html#available-ufuncs) `numpy` functions)"
      ]
    },
    {
      "cell_type": "code",
      "metadata": {
        "id": "n7GyUbkM6FhG",
        "outputId": "edf67714-b028-4eb1-e5c9-853275f04fbb",
        "colab": {
          "base_uri": "https://localhost:8080/",
          "height": 36
        }
      },
      "source": [
        "print(np.minimum.accumulate(prices))  # accumulate running minimum"
      ],
      "execution_count": null,
      "outputs": [
        {
          "output_type": "stream",
          "text": [
            "[20 18 14 14 14 14 14]\n"
          ],
          "name": "stdout"
        }
      ]
    },
    {
      "cell_type": "markdown",
      "metadata": {
        "id": "U94HvtkA7Cmd"
      },
      "source": [
        "The solution becomes:"
      ]
    },
    {
      "cell_type": "code",
      "metadata": {
        "id": "OS3G-LzT7En-",
        "outputId": "9efae775-8572-4742-c4b6-06adb5dde4e5",
        "colab": {
          "base_uri": "https://localhost:8080/",
          "height": 36
        }
      },
      "source": [
        "def profit_vectorized(prices):\n",
        "  \"\"\"Price minus cumulative minimum price, element-wise.\"\"\"\n",
        "  prices = np.asarray(prices)\n",
        "  return np.max(prices - np.minimum.accumulate(prices))\n",
        "\n",
        "profit_vectorized(prices)"
      ],
      "execution_count": null,
      "outputs": [
        {
          "output_type": "execute_result",
          "data": {
            "text/plain": [
              "7"
            ]
          },
          "metadata": {
            "tags": []
          },
          "execution_count": 62
        }
      ]
    },
    {
      "cell_type": "markdown",
      "metadata": {
        "id": "7oH5lzRu7Zat"
      },
      "source": [
        "Let's check both solution's performance:"
      ]
    },
    {
      "cell_type": "code",
      "metadata": {
        "id": "zGf6D5xn7cFZ",
        "outputId": "ab7aae79-e369-4368-a3a1-0b347a7d307d",
        "colab": {
          "base_uri": "https://localhost:8080/",
          "height": 36
        }
      },
      "source": [
        "from timeit import timeit\n",
        "\n",
        "seq = np.random.randint(0, 100, size=10000)\n",
        "\n",
        "setup = ('from __main__ import profit_vectorized, profit, seq; import numpy as np')\n",
        "num   = 250\n",
        "\n",
        "pytime = timeit('profit(seq)',            setup=setup, number=num)\n",
        "nptime = timeit('profit_vectorized(seq)', setup=setup, number=num)\n",
        "print('Speed difference: {:0.1f}x'.format(pytime / nptime))"
      ],
      "execution_count": null,
      "outputs": [
        {
          "output_type": "stream",
          "text": [
            "Speed difference: 131.0x\n"
          ],
          "name": "stdout"
        }
      ]
    },
    {
      "cell_type": "markdown",
      "metadata": {
        "id": "yHA_glBh9T4Q"
      },
      "source": [
        "\n",
        "\n",
        "---\n",
        "\n"
      ]
    },
    {
      "cell_type": "markdown",
      "metadata": {
        "id": "JFn_O9drAVmn"
      },
      "source": [
        "### Example: Bayes Theorem"
      ]
    },
    {
      "cell_type": "markdown",
      "metadata": {
        "id": "gbgBwnsVAX3u"
      },
      "source": [
        "Consider the following problem:\n",
        "\n",
        "![image.png](data:image/png;base64,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)"
      ]
    },
    {
      "cell_type": "markdown",
      "metadata": {
        "id": "4943B-iDAhYs"
      },
      "source": [
        "Answer a)\n",
        "\n",
        "The model $H_i : \\{ \\text{percentage of correct guesses} = \\theta_i\\}$ \n",
        "\n",
        "The $\\theta_i$ values stated in the problem for the four models are"
      ]
    },
    {
      "cell_type": "code",
      "metadata": {
        "id": "g1QzxeS_AkOH",
        "outputId": "6ce443f1-5bae-4977-d57d-66edc7761bf4",
        "colab": {
          "base_uri": "https://localhost:8080/",
          "height": 36
        }
      },
      "source": [
        "thetas = np.array([4,5,6,7]) / 8\n",
        "thetas"
      ],
      "execution_count": null,
      "outputs": [
        {
          "output_type": "execute_result",
          "data": {
            "text/plain": [
              "array([0.5  , 0.625, 0.75 , 0.875])"
            ]
          },
          "metadata": {
            "tags": []
          },
          "execution_count": 42
        }
      ]
    },
    {
      "cell_type": "markdown",
      "metadata": {
        "id": "9-IYYtSBAq9F"
      },
      "source": [
        "The prior distributions for the models are:\n",
        "\n",
        "\n"
      ]
    },
    {
      "cell_type": "code",
      "metadata": {
        "id": "N-vx_rQxAusR"
      },
      "source": [
        "priors = np.array([.7,.1,.1,.1])"
      ],
      "execution_count": null,
      "outputs": []
    },
    {
      "cell_type": "markdown",
      "metadata": {
        "id": "KR5HLUyRA1ll"
      },
      "source": [
        "The likelihood of model $H_i$ is\n",
        "\n",
        "$$p(C=c,N=n|H_i) = {n \\choose c} ~ \\theta_i^c ~ (1-\\theta_i)^{n-c}$$"
      ]
    },
    {
      "cell_type": "code",
      "metadata": {
        "id": "VOxDEetc9UkG"
      },
      "source": [
        "from scipy.special import comb\n",
        "\n",
        "def likelihood(theta, c, n):\n",
        "  return comb(n,c) * theta**c * (1-theta)**(n-c)"
      ],
      "execution_count": null,
      "outputs": []
    },
    {
      "cell_type": "markdown",
      "metadata": {
        "id": "jegufZAaBHAt"
      },
      "source": [
        "The mentioned experiment is $D : \\{ C=8, N=10 \\}$.\n",
        "\n",
        "So we can compute the likelihoods:"
      ]
    },
    {
      "cell_type": "code",
      "metadata": {
        "id": "Fxc9P_8VBPVE",
        "outputId": "af6add87-4681-4e45-ea7b-54d9ae265dd7",
        "colab": {
          "base_uri": "https://localhost:8080/",
          "height": 36
        }
      },
      "source": [
        "likelihoods = likelihood(thetas, 8, 10)  \n",
        "likelihoods"
      ],
      "execution_count": null,
      "outputs": [
        {
          "output_type": "execute_result",
          "data": {
            "text/plain": [
              "array([0.04394531, 0.14733814, 0.28156757, 0.24160002])"
            ]
          },
          "metadata": {
            "tags": []
          },
          "execution_count": 45
        }
      ]
    },
    {
      "cell_type": "markdown",
      "metadata": {
        "id": "rNySl4xZBik0"
      },
      "source": [
        "Using Bayes Theorem\n",
        "\n",
        "$$p(H_i|D)=\\frac{p(D|H_i) \\times p(H_i)}{p(D)}=\\frac{p(D|H_i) \\times p(H_i)}{\\sum_k p(D|H_k)p(H_k)}$$\n",
        "\n",
        "We can compute this expression using the vectorized arithmetic operations, without any loops,"
      ]
    },
    {
      "cell_type": "code",
      "metadata": {
        "id": "czNpj7iM_n2H"
      },
      "source": [
        "evidence = sum(priors * likelihoods)  # p(D)\n",
        "\n",
        "posteriors = (likelihoods * priors) / evidence"
      ],
      "execution_count": null,
      "outputs": []
    },
    {
      "cell_type": "markdown",
      "metadata": {
        "id": "5L0SEDsPBn2m"
      },
      "source": [
        "The answer for the model's posteriors are:"
      ]
    },
    {
      "cell_type": "code",
      "metadata": {
        "id": "knS_rROJBo9k",
        "outputId": "eec39224-7e64-4f67-d599-f4691e96e4a0",
        "colab": {
          "base_uri": "https://localhost:8080/",
          "height": 36
        }
      },
      "source": [
        "posteriors"
      ],
      "execution_count": null,
      "outputs": [
        {
          "output_type": "execute_result",
          "data": {
            "text/plain": [
              "array([0.31449747, 0.15063356, 0.28786522, 0.24700374])"
            ]
          },
          "metadata": {
            "tags": []
          },
          "execution_count": 47
        }
      ]
    },
    {
      "cell_type": "markdown",
      "metadata": {
        "id": "nYWpaBcbByMA"
      },
      "source": [
        "Since we are here, let's answer question b)\n",
        "\n",
        "By the Law of total probability:\n",
        "\n",
        "$$p(\\text{correct|D}) = \\sum_i p(\\text{correct}, H_i|D) = \\sum_i p(\\text{correct} | H_i)p(H_i|D) = \\sum_i p(C=1,N=1|H_i)p(H_i|D)$$"
      ]
    },
    {
      "cell_type": "code",
      "metadata": {
        "id": "FtiUVzCuBzJv",
        "outputId": "8563c0d2-be65-4558-835a-8b1afa225913",
        "colab": {
          "base_uri": "https://localhost:8080/",
          "height": 36
        }
      },
      "source": [
        "sum(likelihood(thetas, 1, 1) * posteriors)"
      ],
      "execution_count": null,
      "outputs": [
        {
          "output_type": "execute_result",
          "data": {
            "text/plain": [
              "0.683421903548073"
            ]
          },
          "metadata": {
            "tags": []
          },
          "execution_count": 48
        }
      ]
    },
    {
      "cell_type": "markdown",
      "metadata": {
        "id": "4feAMr9ZB3Td"
      },
      "source": [
        "We can compare $p(\\text{correct})$ previous to the experiment:\n"
      ]
    },
    {
      "cell_type": "code",
      "metadata": {
        "id": "xu7hMbtfB_Hl",
        "outputId": "1bc73a35-aa36-4cee-d483-46316281ecae",
        "colab": {
          "base_uri": "https://localhost:8080/",
          "height": 36
        }
      },
      "source": [
        "sum(likelihood(thetas, 1, 1) * priors)"
      ],
      "execution_count": null,
      "outputs": [
        {
          "output_type": "execute_result",
          "data": {
            "text/plain": [
              "0.575"
            ]
          },
          "metadata": {
            "tags": []
          },
          "execution_count": 49
        }
      ]
    }
  ]
}