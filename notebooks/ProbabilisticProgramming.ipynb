{
  "nbformat": 4,
  "nbformat_minor": 0,
  "metadata": {
    "colab": {
      "name": "Probabilistic Programming.ipynb",
      "provenance": [],
      "collapsed_sections": []
    },
    "kernelspec": {
      "name": "python3",
      "display_name": "Python 3"
    }
  },
  "cells": [
    {
      "cell_type": "code",
      "metadata": {
        "id": "wLv3FzoMYu7b"
      },
      "source": [
        "import sys\n",
        "\n",
        "if 'emcee' not in sys.modules:\n",
        "  !pip install emcee"
      ],
      "execution_count": null,
      "outputs": []
    },
    {
      "cell_type": "code",
      "metadata": {
        "id": "OR9MuUCdYmd-"
      },
      "source": [
        "import numpy as np\n",
        "import scipy.stats as ss\n",
        "import matplotlib.pyplot as plt\n",
        "import emcee"
      ],
      "execution_count": null,
      "outputs": []
    },
    {
      "cell_type": "markdown",
      "metadata": {
        "id": "8KZAT-GAkFSD"
      },
      "source": [
        "## Introduction"
      ]
    },
    {
      "cell_type": "markdown",
      "metadata": {
        "id": "hZWTkLx6gYr1"
      },
      "source": [
        "Probabilistic programming's goal is facilitate the problem of statistical modeling. It is not about designing random algorithms which is part of Computer Science, not Statistics.\n",
        "\n",
        "<br><center><img src='https://raw.githubusercontent.com/jpneto/topicsInPython/main/imgs/probabilistic_programming.tensorflow.png' width=600px><br>image from TensorFlow website</center>\n",
        "\n",
        "\n"
      ]
    },
    {
      "cell_type": "markdown",
      "metadata": {
        "id": "9TocJobEhRk-"
      },
      "source": [
        "In Computer Science, for a given problem, we write an appropriate program with certain parameters to output values wrt the given parameter values. Probability has a similar workflow, where the  program/algorithm is replaced by a probabilistic model.\n",
        "\n",
        "In Statistics, again for a given problem, it is the 'output' (the observations) $y$ that is given, not its parameters $x$. The (Bayesian) statistician must create an appropriate probabilistic  model $p(x,y)$ that can be fitted to provide conditional distributions over the unknown parameters given the known observations, $p(x|y)$. \n",
        "\n",
        "In probabilistic programming these statistical models are specified by a set of random variables and their distributions which then can be automatically executed by the computer. These models can be described in a declarative fashion (like in BUGS and JAGS), in an imperative fashion (like in emcee) or in a mix of both (like in Stan and PyMC3)."
      ]
    },
    {
      "cell_type": "markdown",
      "metadata": {
        "id": "GibPlZL4tsrL"
      },
      "source": [
        "### Example - Inferring the rate of a binary process"
      ]
    },
    {
      "cell_type": "markdown",
      "metadata": {
        "id": "wrqICTWt0He_"
      },
      "source": [
        "Given a binary process with observed $k$ successes from $n$ trials what is the success rate $\\theta$?\n",
        "\n",
        "Using the probabilistic programming approach, we wish to know the conditional distribution $p(\\theta~|~k,n)$ for parameter $\\theta$, given observations $k$ and $n$.\n",
        "\n",
        "Bayes theorem states that:\n",
        "\n",
        "$$p(\\theta~|~k,n) = \\frac{p(k,n,\\theta)}{p(k,n)} = \\frac{p(k,n~|~\\theta)~p(\\theta)}{p(k,n)}$$\n",
        "\n",
        "and since $p(k,n)$, for fix values of $k,n$, is a constant \n",
        "\n",
        "$$p(\\theta~|~k,n) \\propto p(k,n~|~\\theta)~p(\\theta)$$\n",
        "\n",
        "Because of numerical reasons, it's better to work with log values,\n",
        "\n",
        "$$\\underbrace{\\log p(\\theta~|~k,n)}_{\\text{log posterior}} \\propto \\underbrace{\\log p(k,n~|~\\theta)}_{\\text{log likelihood}} + \\underbrace{\\log p(\\theta)}_{\\text{log prior}}$$\n",
        "\n",
        "This mathematical reasoning is exactly the same for all models. The only variables are (a) the set of observations and their observed values, (b) the set of parameters.\n",
        "\n",
        "From the perspective of the model, the observations and the parameters are of the same nature, they are all **random variables**. The only thing that separates them is that observations are **observed variables** and the parameters are **unobserved variables**.\n",
        "\n",
        "What the model requires from the programmer is to specify what are the distributions these random variables follow (and how they related to each other).\n",
        "\n",
        "\n"
      ]
    },
    {
      "cell_type": "markdown",
      "metadata": {
        "id": "9wMubnO2rVA3"
      },
      "source": [
        "In our example, we need to choose appropriate distributions to relate our variables:\n",
        "\n",
        "We pick the binomial distribution for $k$ since this is a classical distribution for counting discrete outcomes. Since $\\theta$ represents a probability, it must be associated with a distribution with domain $[0,1]$. Again, the classical choice is the Beta distribution. A $\\text{Beta}(1,1)$ assigns the same probability density for all values in $[0,1]$.\n",
        "\n",
        "These associations can be described with the standard notation, $x \\sim d$, i.e., random variable $x$ follows distribution $d$:\n",
        "\n",
        "$$k \\sim \\text{Binomial}(n, \\theta)$$\n",
        "\n",
        "$$\\theta \\sim \\text{Beta}(1,1)$$\n",
        "\n",
        "That's it! _This is the probabilistic model for the problem_.\n",
        "\n",
        "We now need a computational tool to execute the model."
      ]
    },
    {
      "cell_type": "markdown",
      "metadata": {
        "id": "s8XWkaHq3NLq"
      },
      "source": [
        "In Python there are several alternatives for probabilistic programming. Here we present the simpler solution, module `emcee`, aka the MC[MC Hammer](https://www.google.com/search?q=MC%20Hammer&tbm=isch&tbs=isz:l&client=firefox-b-d&hl=en&sa=X&ved=0CAEQpwVqFwoTCJCropmkp-wCFQAAAAAdAAAAABAC&biw=1133&bih=868)."
      ]
    },
    {
      "cell_type": "markdown",
      "metadata": {
        "id": "cytq_h5ubBQy"
      },
      "source": [
        "## The MCMC Hammer"
      ]
    },
    {
      "cell_type": "markdown",
      "metadata": {
        "id": "FLlO48Hk5nrI"
      },
      "source": [
        "`emcee` is a Python module for sampling from statistical models like the one we just wrote.\n",
        "\n",
        "The user needs to define a function that returns a value proportional to the log posterior probability $\\log p(\\text{parameters}~|~\\text{observations})$. \n",
        "\n",
        "`emcee` is able to return samples from that posterior. These samples are then used to build an empirical distribution that approximates the posterior distribution associated with the unknown model parameters."
      ]
    },
    {
      "cell_type": "markdown",
      "metadata": {
        "id": "C6Gfkgxv46sJ"
      },
      "source": [
        "Here's the implementation of the log posterior as the sum of the log prior and log likelihood:"
      ]
    },
    {
      "cell_type": "code",
      "metadata": {
        "id": "q-b_Dk4Dk1HS"
      },
      "source": [
        "# params is a list of parameters. Herein, it just has one value: theta\n",
        "def log_prior(params):\n",
        "  theta = params[0]\n",
        "  if theta<0 or theta>1: # if outside the domain [0,1], the density is zero\n",
        "    return -np.inf # log(0) == -oo\n",
        "  return ss.beta.logpdf(theta,1.0,1.0)\n",
        "\n",
        "def log_likelihood(params, k, n):\n",
        "  theta = params[0]\n",
        "  res = ss.binom.logpmf(k,n,theta)\n",
        "  if res == 0:\n",
        "    return -np.inf\n",
        "  return res\n",
        "\n",
        "def log_posterior(params, k, n):\n",
        "  lp = log_prior(params)\n",
        "  if not np.isfinite(lp):\n",
        "    return -np.inf\n",
        "  return log_prior(params) + log_likelihood(params, k, n)"
      ],
      "execution_count": null,
      "outputs": []
    },
    {
      "cell_type": "markdown",
      "metadata": {
        "id": "RNP9wSvI6Aoa"
      },
      "source": [
        "Say that we had 60 successes from 90 trials:"
      ]
    },
    {
      "cell_type": "code",
      "metadata": {
        "id": "H89aDAFmm6Uu"
      },
      "source": [
        "# The observations: k successes from n trials\n",
        "k = 60\n",
        "n = 90"
      ],
      "execution_count": null,
      "outputs": []
    },
    {
      "cell_type": "markdown",
      "metadata": {
        "id": "bd4bXDDu7bi-"
      },
      "source": [
        "Let's run the model using `emcee`:"
      ]
    },
    {
      "cell_type": "code",
      "metadata": {
        "id": "_FKkTriYoTI4"
      },
      "source": [
        "# As stated, this problem has one parameter\n",
        "# We will solve it with 3 parallel threads, each one called a walker\n",
        "nparams, nwalkers = 1, 3\n",
        "\n",
        "sampler = emcee.EnsembleSampler(nwalkers, nparams, log_posterior, args=[k,n])\n",
        "\n",
        "nburn  = 1000\n",
        "nsteps = 5000\n",
        "# Start the walkers around [0.4,0.6].\n",
        "p0 = 0.4 + 0.2*np.random.random((nwalkers, nparams))\n",
        "sampler.run_mcmc(p0, nsteps);"
      ],
      "execution_count": null,
      "outputs": []
    },
    {
      "cell_type": "markdown",
      "metadata": {
        "id": "_JCzHeyM7ik0"
      },
      "source": [
        "The model was executed and fitted with the observations. \n",
        "\n",
        "We can extract the samples produced and visualize them:"
      ]
    },
    {
      "cell_type": "code",
      "metadata": {
        "id": "rYROKjxys40J",
        "colab": {
          "base_uri": "https://localhost:8080/",
          "height": 521
        },
        "outputId": "5afdb266-41d4-4346-e84f-9dc1de3bdc0f"
      },
      "source": [
        "# sampler.chain is of shape (nwalkers, nsteps, nparams)\n",
        "# remove burnin samples and reshape into a list\n",
        "emcee_trace = sampler.chain[:, nburn:, :].reshape(-1, nparams).T\n",
        "\n",
        "def report(trace, k, n):\n",
        "  print(\"\"\"\n",
        "        Posterior estimation for parameter θ given observations k,n:\n",
        "        θ = {0:4.3f} +/- {1:4.3f}\n",
        "\n",
        "        Conditional distribution of parameter θ given the observations:\n",
        "        \"\"\".format(np.mean(trace), np.std(trace)))\n",
        "\n",
        "  fig, ax = plt.subplots(figsize=(10,6))\n",
        "  ax.set_title(r'$p(\\theta | k={0},n={1})$'.format(k,n), fontsize=14)\n",
        "  ax.set_xlabel(r'$\\theta$', fontsize=12)\n",
        "  ax.set_xlim([0,1])\n",
        "  ax.hist(trace[0], bins=40, density=True);\n",
        "\n",
        "report(emcee_trace, k, n) "
      ],
      "execution_count": null,
      "outputs": [
        {
          "output_type": "stream",
          "text": [
            "\n",
            "        Posterior estimation for parameter θ given observations k,n:\n",
            "        θ = 0.664 +/- 0.048\n",
            "\n",
            "        Conditional distribution of parameter θ given the observations:\n",
            "        \n"
          ],
          "name": "stdout"
        },
        {
          "output_type": "display_data",
          "data": {
            "image/png": "[encoded data removed]",
            "text/plain": [
              "<Figure size 720x432 with 1 Axes>"
            ]
          },
          "metadata": {
            "tags": [],
            "needs_background": "light"
          }
        }
      ]
    },
    {
      "cell_type": "markdown",
      "metadata": {
        "id": "z1BrjQLE9tAc"
      },
      "source": [
        "What if, instead of $k=60,n=90$, we had $k=6,n=9$?\n",
        "\n",
        "For `emcee` this is no trouble at all:"
      ]
    },
    {
      "cell_type": "code",
      "metadata": {
        "id": "m0RRFnoM-H3W",
        "colab": {
          "base_uri": "https://localhost:8080/",
          "height": 521
        },
        "outputId": "98beccc6-45eb-4c74-b5e3-a714768c36e4"
      },
      "source": [
        "k = 6 # just give the new values to the model\n",
        "n = 9\n",
        "\n",
        "sampler = emcee.EnsembleSampler(nwalkers, nparams, log_posterior, args=[k,n])\n",
        "sampler.run_mcmc(p0, nsteps)\n",
        "emcee_trace = sampler.chain[:, nburn:, :].reshape(-1, nparams).T\n",
        "\n",
        "report(emcee_trace, k, n)"
      ],
      "execution_count": null,
      "outputs": [
        {
          "output_type": "stream",
          "text": [
            "\n",
            "        Posterior estimation for parameter θ given observations k,n:\n",
            "        θ = 0.641 +/- 0.138\n",
            "\n",
            "        Conditional distribution of parameter θ given the observations:\n",
            "        \n"
          ],
          "name": "stdout"
        },
        {
          "output_type": "display_data",
          "data": {
            "image/png": "[encoded data removed]",
            "text/plain": [
              "<Figure size 720x432 with 1 Axes>"
            ]
          },
          "metadata": {
            "tags": [],
            "needs_background": "light"
          }
        }
      ]
    },
    {
      "cell_type": "markdown",
      "metadata": {
        "id": "TYWtEsDI-lnx"
      },
      "source": [
        "This second result expresses more uncertainty (the conditional distribution is wider). This makes sense. If we only perform 9 trials, it is to be expected that we will know less about the system under study, than if we perform 90 trials."
      ]
    },
    {
      "cell_type": "markdown",
      "metadata": {
        "id": "-Qr8ZfE3_Z3c"
      },
      "source": [
        "\n",
        "\n",
        "---\n",
        "\n"
      ]
    },
    {
      "cell_type": "markdown",
      "metadata": {
        "id": "K8amL8Ya9ssE"
      },
      "source": [
        "As a sidenote, using mainstream statistics, the maximum likelihood estimation for $\\theta$ would be the same, ie, $\\hat{\\theta} = 60/90 = 6/9 = 2/3$. \n",
        "\n",
        "To find a confidence interval for both problem instances read [this webpage](https://en.wikipedia.org/wiki/Binomial_distribution#Confidence_intervals) or this [article](http://citeseerx.ist.psu.edu/viewdoc/summary;jsessionid=BF0333B82FD5B5A73FD66C40CA464E37?doi=10.1.1.326.1772) presenting seven (!) different methods (good luck). Using R's `Hmisc::binconf`, a black-box function, the 95% confidence intervals for $k=60,n=90$ and $k=6,n=9$ are, respectively, $[0.56,0.76]$ and $[0.35, 0.87]$ both expressing less uncertainty (ie, they are smaller) than the previous probabilistic results. This might seem as an advantage but [it is not](https://stats.stackexchange.com/questions/2272)."
      ]
    },
    {
      "cell_type": "markdown",
      "metadata": {
        "id": "y-ydG1y0k12z"
      },
      "source": [
        "\n",
        "\n",
        "---\n",
        "\n"
      ]
    },
    {
      "cell_type": "markdown",
      "metadata": {
        "id": "1eoTPTuFJyhD"
      },
      "source": [
        "To continue reading about this subject using Python check [An Introduction to Probability and Computational Bayesian Statistics](https://ericmjl.github.io/essays-on-data-science/machine-learning/computational-bayesian-stats/) and the [Probabilistic Programming & Bayesian Methods for Hackers](https://camdavidsonpilon.github.io/Probabilistic-Programming-and-Bayesian-Methods-for-Hackers/)."
      ]
    },
    {
      "cell_type": "markdown",
      "metadata": {
        "id": "TqeG7y1KvbkU"
      },
      "source": [
        "\n",
        "\n",
        "---\n",
        "\n"
      ]
    },
    {
      "cell_type": "markdown",
      "metadata": {
        "id": "iyo9X2qiDyx3"
      },
      "source": [
        "## References\n",
        "\n",
        "+ Dan Foreman-Mackey et al., [emcee User Manual](https://emcee.readthedocs.io/en/stable/) (2019)\n",
        "\n",
        "+ Jake VanderPlas, [Frequentism and Bayesianism: A Practical Introduction](https://jakevdp.github.io/tag/bayesianism.html) (2014, 2015)\n",
        "\n",
        "+ Chris Burns, [emcee Tutorial](https://users.obs.carnegiescience.edu/cburns/ipynbs/Emcee.html) (2014)\n",
        "\n"
      ]
    }
  ]
}