{
  "nbformat": 4,
  "nbformat_minor": 0,
  "metadata": {
    "colab": {
      "name": "Concatenative Programming.ipynb",
      "provenance": [],
      "collapsed_sections": []
    },
    "kernelspec": {
      "name": "python3",
      "display_name": "Python 3"
    }
  },
  "cells": [
    {
      "cell_type": "code",
      "metadata": {
        "id": "DI1vLMocsoZt"
      },
      "source": [
        "import os\n",
        "\n",
        "if not os.path.exists('engine.py'):\n",
        "  !wget https://raw.githubusercontent.com/jpneto/yocto/main/src/codepage.py\n",
        "  !wget https://raw.githubusercontent.com/jpneto/yocto/main/src/operators.py\n",
        "  !wget https://raw.githubusercontent.com/jpneto/yocto/main/src/engine.py\n",
        "  !> __init__.py"
      ],
      "execution_count": null,
      "outputs": []
    },
    {
      "cell_type": "markdown",
      "metadata": {
        "id": "_jyWb8RYqspE"
      },
      "source": [
        "\n",
        "\n",
        "---\n",
        "\n"
      ]
    },
    {
      "cell_type": "markdown",
      "metadata": {
        "id": "NA9b-EW95-Cc"
      },
      "source": [
        "## Tacit Programming"
      ]
    },
    {
      "cell_type": "markdown",
      "metadata": {
        "id": "0jbtwQGh6AHR"
      },
      "source": [
        "In tacit programming defining a function is not done by making its arguments explicit but, as we will see, by applying function composition.\n",
        "\n",
        "When defining a regular function, in Python or in most languages, we need to be explicit with its arguments,"
      ]
    },
    {
      "cell_type": "code",
      "metadata": {
        "id": "4nkfaMzi6LtJ"
      },
      "source": [
        "def binarySum(x,y): # x and y are the arguments of binarySum\n",
        "  return x+y"
      ],
      "execution_count": 3,
      "outputs": []
    },
    {
      "cell_type": "markdown",
      "metadata": {
        "id": "3MRQVWg56uwF"
      },
      "source": [
        "In functional languages like Haskell, it is possible to create partial functions, i.e., functions that only need a subset of the original function arguments. This process can be used to create versions of the original functions without arguments. Check this [example](https://en.wikipedia.org/wiki/Tacit_programming#Functional_programming).\n",
        "\n",
        "Python does not natively support partial functions, but we can do a similar process with function `partial`,"
      ]
    },
    {
      "cell_type": "code",
      "metadata": {
        "id": "3sccIQrY6QLv"
      },
      "source": [
        "from functools import partial, reduce\n",
        "\n",
        "# partial can only replace the leftmost arguments\n",
        "successor = partial(binarySum, 1) # same as binarySum(1,y)\n",
        "successor(3)"
      ],
      "execution_count": null,
      "outputs": []
    },
    {
      "cell_type": "markdown",
      "metadata": {
        "id": "fPQZ8qb-y5Fb"
      },
      "source": [
        "A related technique is _function currying_, the technique of converting a function accepting a tuple of arguments into a sequence of unary functions,"
      ]
    },
    {
      "cell_type": "code",
      "metadata": {
        "id": "y3yRLaAZyvAJ"
      },
      "source": [
        "def ternarySum(x,y,z):\n",
        "  return x+y+z\n",
        "\n",
        "ternarySumCurried = lambda x : lambda y : lambda z : x+y+z\n",
        "ternarySumCurried(4)(6)(5)"
      ],
      "execution_count": null,
      "outputs": []
    },
    {
      "cell_type": "markdown",
      "metadata": {
        "id": "dbZ4KS120ZrS"
      },
      "source": [
        "A partial function is the evaluation of a curried function at a fixed argument. So, any time we fix an argument on a curried function, we get a partial function,"
      ]
    },
    {
      "cell_type": "code",
      "metadata": {
        "id": "p2Wo_i0h00TB"
      },
      "source": [
        "successor_v2 = ternarySumCurried(0)(1)\n",
        "successor_v2(3)"
      ],
      "execution_count": null,
      "outputs": []
    },
    {
      "cell_type": "markdown",
      "metadata": {
        "id": "31d06C9H6-k5"
      },
      "source": [
        "Despite the limitations of Python, it is still possible to achieve some degree of tacit programming using lambda expressions and some high-order functions.\n",
        "\n",
        "Let's say I wish to define the following function in a tacit way:"
      ]
    },
    {
      "cell_type": "code",
      "metadata": {
        "id": "L2ZA3AIQ8o6j"
      },
      "source": [
        "from math import *\n",
        "\n",
        "def fun(xs):\n",
        "  y = sum(xs)\n",
        "  z = sqrt(y)\n",
        "  w = abs(z)\n",
        "  return w\n",
        "\n",
        "fun([1,2,3])  "
      ],
      "execution_count": null,
      "outputs": []
    },
    {
      "cell_type": "markdown",
      "metadata": {
        "id": "HGisdeM3rjLM"
      },
      "source": [
        "How to redefine `fun`?\n",
        "\n",
        "We can try to surround the function calls inside each other,"
      ]
    },
    {
      "cell_type": "code",
      "metadata": {
        "id": "9tvUxNLgkQ_3"
      },
      "source": [
        "fun1 = lambda xs : abs( sqrt ( sum ( xs ) ) )\n",
        "fun1([1,2,3])"
      ],
      "execution_count": null,
      "outputs": []
    },
    {
      "cell_type": "markdown",
      "metadata": {
        "id": "PkNxXVKvrvv4"
      },
      "source": [
        "But the parameters are still there and this is not practical if the number of functions is more than a few.\n",
        "\n",
        "We can define a composition function and use it to join pairs of functions,"
      ]
    },
    {
      "cell_type": "code",
      "metadata": {
        "id": "ud_JKK1E9rfi"
      },
      "source": [
        "# composition of two functions\n",
        "composition = lambda f,g : lambda x: f(g(x))\n",
        "\n",
        "fun2 = composition(abs, composition(sqrt, sum))\n",
        "fun2([1,2,3])"
      ],
      "execution_count": null,
      "outputs": []
    },
    {
      "cell_type": "markdown",
      "metadata": {
        "id": "Zcxwp_Iqr6J-"
      },
      "source": [
        "But the pratical problem of having too many internal calls remains.\n",
        "\n",
        "However, there is a pattern here. To compose $n$ functions `[f_1,f_2,…,f_n]` the expression becomes\n",
        "\n",
        "`composition(f1, composition(f2, … composition(fn-1,fn)…))`\n",
        "\n",
        "We can apply a fold operation to chain all these compositions. In Python the high-order function that computes this pattern is denoted `reduce`,"
      ]
    },
    {
      "cell_type": "code",
      "metadata": {
        "id": "c2gK2U7f8-bY"
      },
      "source": [
        "def compose(fs):\n",
        "  return reduce(composition, fs)\n",
        "\n",
        "fun3 = compose([abs, sqrt, sum])  \n",
        "fun3([1,2,3])"
      ],
      "execution_count": null,
      "outputs": []
    },
    {
      "cell_type": "markdown",
      "metadata": {
        "id": "-ssrLNCZsw8I"
      },
      "source": [
        "The last gotcha is that the function list order is the reverse of our intuition (the first function is `sum` which comes in last), so let's create an helper function that reverses the function list,"
      ]
    },
    {
      "cell_type": "code",
      "metadata": {
        "id": "MNxXXCjboMua"
      },
      "source": [
        "def stream(fs):\n",
        "  return compose(fs[::-1])\n",
        "\n",
        "fun4 = stream([sum, sqrt, abs])  \n",
        "fun4([1,2,3])     # can be read as [1,2,3] >> sum >> sqrt >> abs >> final result"
      ],
      "execution_count": null,
      "outputs": []
    },
    {
      "cell_type": "markdown",
      "metadata": {
        "id": "suKeuIyvtBhx"
      },
      "source": [
        "We were able to stream-line the composition of several functions in a natural way. No more intermediate arguments are needed."
      ]
    },
    {
      "cell_type": "markdown",
      "metadata": {
        "id": "jBnB7Es0ow0x"
      },
      "source": [
        "One well-known example of tacit programming is the Unix/Linux pipe system that invokes programs in sequence, feeding the output of one program into the input of the next, This can be seen as a model for data flow processing."
      ]
    },
    {
      "cell_type": "code",
      "metadata": {
        "id": "WpmY_Aw5o9vE"
      },
      "source": [
        "!cat operators.py | sort | uniq -c | sort -rn | head -n8"
      ],
      "execution_count": null,
      "outputs": []
    },
    {
      "cell_type": "markdown",
      "metadata": {
        "id": "1_z1O-9BqJHA"
      },
      "source": [
        "The pipe `|` works as the composition operator. The processed data are never mentioned."
      ]
    },
    {
      "cell_type": "markdown",
      "metadata": {
        "id": "uPvjzmd8snh8"
      },
      "source": [
        "\n",
        "\n",
        "---\n",
        "\n"
      ]
    },
    {
      "cell_type": "markdown",
      "metadata": {
        "id": "HmUENapa5JHA"
      },
      "source": [
        "## Concatenative Programming"
      ]
    },
    {
      "cell_type": "markdown",
      "metadata": {
        "id": "pweocWuF25nj"
      },
      "source": [
        "Consider you need to check if a given register satisfies lots of different predicates, and don't want to maintain a maze of if-then-elses.\n",
        "\n",
        "Using what we learn , we can try to streamline the required validations by passing the register across those predicates, together with a boolean that accumulates the successive validations,"
      ]
    },
    {
      "cell_type": "code",
      "metadata": {
        "id": "paXqqi3M26MO"
      },
      "source": [
        "# each predicate receive a pair (register, isRegisterStillValid?)\n",
        "correctName  = lambda pair : ( pair[0], pair[1] and len(pair[0]['name']) > 4 )\n",
        "enoughScore  = lambda pair : ( pair[0], pair[1] and pair[0]['score'] >= 50   )\n",
        "isLegal      = lambda pair : ( pair[0], pair[1] and pair[0]['legal']         )\n",
        "\n",
        "validations = [correctName, enoughScore, isLegal]\n",
        "\n",
        "validate = lambda register : stream(validations)( (register,True) )[1]\n",
        "\n",
        "aRegister = { 'name':'João Neto', 'score':100, 'legal':True }\n",
        "validate(aRegister)"
      ],
      "execution_count": null,
      "outputs": []
    },
    {
      "cell_type": "markdown",
      "metadata": {
        "id": "efhTfheb-pqX"
      },
      "source": [
        "There are simpler solutions in Python, like evaluating predicate `all` after mapping a list of predicates on the given register. \n",
        "\n",
        "But if we needed, for some reason, to change the register during the processing flow, our solution could be easily adapted."
      ]
    },
    {
      "cell_type": "markdown",
      "metadata": {
        "id": "EoKGRC2R5Lkn"
      },
      "source": [
        "Now let's take this example and modify it so that we replace predicates with general functions, and replace tuples/registers with a data structure able to keep the cumulative results of executing these general functions.\n",
        "\n",
        "What's to be gain here? Well, nothing more nothing less that a prototype for a programming language!\n",
        "\n",
        "A typical data structure used in this context is the stack. We will use a list to represent a stack, restricting ourselves by using only `append` and `pop` to access the end of the list."
      ]
    },
    {
      "cell_type": "markdown",
      "metadata": {
        "id": "L9cTeB5MdTSU"
      },
      "source": [
        "Here is an example using constants, binary addition and multiplication to compute arithmetic expressions via the stack"
      ]
    },
    {
      "cell_type": "code",
      "metadata": {
        "id": "S2SYiGXQdZ8b"
      },
      "source": [
        "# insertN returns a function that, when called, inserts n into the stack/state\n",
        "def insertN(n):\n",
        "  def push(state):\n",
        "    state.append(n)\n",
        "    return state\n",
        "  return push\n",
        "\n",
        "def add(state):\n",
        "  b = state.pop()\n",
        "  a = state.pop()\n",
        "  state.append(a+b)\n",
        "  return state\n",
        "\n",
        "def mul(state):\n",
        "  b = state.pop()\n",
        "  a = state.pop()\n",
        "  state.append(a*b)\n",
        "  return state\n",
        "\n",
        "execute = lambda program, state : stream(program)(state)\n",
        "\n",
        "initialState = [] # initially we have an empty state\n",
        "program = [insertN(3), insertN(7), mul, insertN(10), add]  # computes 3*7+10\n",
        "\n",
        "execute(program, initialState)"
      ],
      "execution_count": null,
      "outputs": []
    },
    {
      "cell_type": "markdown",
      "metadata": {
        "id": "Q4t4LplihhDJ"
      },
      "source": [
        "This is a way of programming that, by its nature, is tacit programming. The numbers we used in the previous example are not arguments, they represent functions that insert constant values into the state. Everything is a function, and every program is a composition of functions.\n",
        "\n",
        "Languages like this are part of the programming paradigm called **concatenative programming**.\n",
        "\n",
        "Check [concatenative.org](https://concatenative.org/wiki/view/Concatenative%20language) for more information. Notable examples include [Forth](https://concatenative.org/wiki/view/Forth) (the original concatenative language), [Joy](https://www.latrobe.edu.au/humanities/research/research-projects/past-projects/joy-programming-language), [PostScript](https://en.wikipedia.org/wiki/PostScript), and [Factor](https://factorcode.org/)."
      ]
    },
    {
      "cell_type": "markdown",
      "metadata": {
        "id": "QSOlrYNzc16r"
      },
      "source": [
        "\n",
        "\n",
        "---\n",
        "\n"
      ]
    },
    {
      "cell_type": "markdown",
      "metadata": {
        "id": "1U-S4vSzkYqd"
      },
      "source": [
        "The following examples are based on a code-golfing concatenative language written in Python (so I can run it in this notebook) called Yöctọ."
      ]
    },
    {
      "cell_type": "code",
      "metadata": {
        "id": "F9GF3sENtNKX"
      },
      "source": [
        "from engine import runProgram\n",
        "from fractions import Fraction\n",
        "\n",
        "def run(program, inputs=[]):\n",
        "  commands = [ line for line in program.split(sep='\\n') if line != '' ]\n",
        "  inputs = [Fraction(i) for i in inputs]\n",
        "  return runProgram(commands, inputs)"
      ],
      "execution_count": 15,
      "outputs": []
    },
    {
      "cell_type": "markdown",
      "metadata": {
        "id": "uS32kXopmHLA"
      },
      "source": [
        "Like many concatenative languages, Yöctọ uses postfix notation to describe the composition of functions.\n",
        "\n",
        "The next example computes `3*7+10`"
      ]
    },
    {
      "cell_type": "code",
      "metadata": {
        "id": "plDP_dY9mT4U"
      },
      "source": [
        "run('3 7 * 10 +')"
      ],
      "execution_count": null,
      "outputs": []
    },
    {
      "cell_type": "markdown",
      "metadata": {
        "id": "i3C5EgrznR2W"
      },
      "source": [
        "Can you see how the next program computes the same value?"
      ]
    },
    {
      "cell_type": "code",
      "metadata": {
        "id": "IoCdxdYZnYit"
      },
      "source": [
        "run('10 3 7 * +')"
      ],
      "execution_count": null,
      "outputs": []
    },
    {
      "cell_type": "markdown",
      "metadata": {
        "id": "3S6MXFrOmfjt"
      },
      "source": [
        "The language includes blocks that represent quoted programs, i.e., unevaluated programs. Functions like conditionals or loops are able to select the appropriate block and evaluate it when needed"
      ]
    },
    {
      "cell_type": "code",
      "metadata": {
        "id": "_IMyQwaEysB3"
      },
      "source": [
        "# if input > 5 then return the execution of 1+2\n",
        "run('5 > {1 2 +}?',[6])"
      ],
      "execution_count": null,
      "outputs": []
    },
    {
      "cell_type": "markdown",
      "metadata": {
        "id": "S4ixKjWOztxB"
      },
      "source": [
        "Herein, function calls are not kept in a call stack, like in typical programming languages. A function call is just the execution of a quoted program. A function call can be replaced by its description inside the main program.\n",
        "\n",
        "In terms of function composition\n",
        "\n",
        "$$g = h_1 \\circ \\ldots \\circ h_m$$\n",
        "\n",
        "$$\\text{program} = f_1 \\circ f_2 \\circ \\ldots g \\ldots \\circ f_n$$\n",
        "\n",
        "Executing a function call over $g$ is just replacing it with its composition\n",
        "\n",
        "$$\\text{program} = f_1 \\circ f_2 \\circ \\ldots h_1 \\circ \\ldots \\circ h_m \\ldots \\circ f_n$$\n",
        "\n",
        "The execution of quoted programs works like a [rewrite system](https://en.wikipedia.org/wiki/Rewriting). This simplifies the management of function calls. And recursivity comes free, being just the replacement of a function call by its own function description."
      ]
    },
    {
      "cell_type": "markdown",
      "metadata": {
        "id": "P6ixIc54nxgH"
      },
      "source": [
        "Let's check some examples with conditionals, loops and function calls to see how they are all special cases of selecting and evaluating quoted programs.\n",
        "\n",
        "The next is a loop example, the loop pops the current value $n$ and repeats the block for $ï=0,\\ldots,n-1$, (ï is the progress variable)"
      ]
    },
    {
      "cell_type": "code",
      "metadata": {
        "id": "7ilVItUVzt_A"
      },
      "source": [
        "# prints a triangle of =s (🡗 clears the stack, . outputs the current stack top)\n",
        "run('{\"=\" ï 1+* .}F 🡗', [6])  # stack begins in state [6]"
      ],
      "execution_count": null,
      "outputs": []
    },
    {
      "cell_type": "markdown",
      "metadata": {
        "id": "tmxFLMyWo6C7"
      },
      "source": [
        "In Yöctọ each line is a block, and the engine starts by executing the last line (the block representing the main function),"
      ]
    },
    {
      "cell_type": "code",
      "metadata": {
        "id": "80UePNGHyM6-"
      },
      "source": [
        "# λ0 executes block at line 0, ¹ gets first parameter value, 🡕 duplicates stack top\n",
        "program = '''\n",
        "¹ *\n",
        "1 1 + 🡕 λ0 + \n",
        "'''\n",
        "\n",
        "run(program) # computes (1+1)+(1+1)^2"
      ],
      "execution_count": null,
      "outputs": []
    },
    {
      "cell_type": "markdown",
      "metadata": {
        "id": "ucU0k2r3pn09"
      },
      "source": [
        "The next computes the factorial using a cycle,"
      ]
    },
    {
      "cell_type": "code",
      "metadata": {
        "id": "Gw2U_7WZudQk"
      },
      "source": [
        "# ↑ is the sucessor function\n",
        "run('1¹{↑*}F',[8])"
      ],
      "execution_count": null,
      "outputs": []
    },
    {
      "cell_type": "markdown",
      "metadata": {
        "id": "8QsmpBqNp00h"
      },
      "source": [
        "And this program computes the factorial recursively:"
      ]
    },
    {
      "cell_type": "code",
      "metadata": {
        "id": "89BIGfV1waWj"
      },
      "source": [
        "# n! = (n-1)! * n, ⁇ is the if-then-else command\n",
        "run('0 = {1} {¹↓λ0¹*}⁇',[8])"
      ],
      "execution_count": null,
      "outputs": []
    },
    {
      "cell_type": "markdown",
      "metadata": {
        "id": "cLiyTuQLvfLP"
      },
      "source": [
        "## References\n",
        "\n",
        "+ Wikipedia, [Tacit Programming](https://en.wikipedia.org/wiki/Tacit_programming)\n",
        "\n",
        "+ Jon Purdy, [Why Concatenative Programming Matters ](https://evincarofautumn.blogspot.com/2012/02/why-concatenative-programming-matters.html?m=1) (2012)\n",
        "\n",
        "+ Jesse Warden, [Real World Uses of Tacit Programming](https://medium.com/@jesterxl/real-world-uses-of-tacit-programming-part-1-of-2-f2a0c3f9e00c) (2018)\n",
        "\n",
        "+ [Concatenative.org](https://concatenative.org/wiki/view/Concatenative%20language)\n"
      ]
    }
  ]
}